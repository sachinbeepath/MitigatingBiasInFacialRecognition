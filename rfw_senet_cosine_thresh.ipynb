{
 "cells": [
  {
   "cell_type": "code",
   "execution_count": 1,
   "metadata": {},
   "outputs": [
    {
     "name": "stdout",
     "output_type": "stream",
     "text": [
      "mps\n"
     ]
    },
    {
     "name": "stderr",
     "output_type": "stream",
     "text": [
      "WARNING:root:No module named 'tensorflow': AdversarialDebiasing will be unavailable. To install, run:\n",
      "pip install 'aif360[AdversarialDebiasing]'\n"
     ]
    }
   ],
   "source": [
    "import os\n",
    "import numpy as np\n",
    "import pandas as pd\n",
    "import torch\n",
    "import torch.nn as nn\n",
    "import torch.nn.functional as F\n",
    "\n",
    "import torch.optim as optim\n",
    "from torch.utils import data\n",
    "\n",
    "from tqdm.notebook import tqdm_notebook\n",
    "\n",
    "import warnings\n",
    "warnings.filterwarnings('ignore')\n",
    "\n",
    "device = torch.device(\"mps\" if torch.has_mps else \"cpu\")\n",
    "print(device)\n",
    "from itertools import product\n",
    "from sklearn.model_selection import train_test_split\n",
    "from sklearn.preprocessing import StandardScaler\n",
    "from sklearn.metrics import confusion_matrix\n",
    "import matplotlib.pyplot as plt\n",
    "from aif360.algorithms.postprocessing import (CalibratedEqOddsPostprocessing,\n",
    "                                              EqOddsPostprocessing,\n",
    "                                              RejectOptionClassification)\n",
    "from aif360.datasets import StandardDataset\n",
    "from aif360.metrics import BinaryLabelDatasetMetric, ClassificationMetric\n",
    "from aif360.metrics.utils import compute_boolean_conditioning_vector\n",
    "random_state = 1"
   ]
  },
  {
   "cell_type": "code",
   "execution_count": 2,
   "metadata": {},
   "outputs": [
    {
     "data": {
      "text/html": [
       "<div>\n",
       "<style scoped>\n",
       "    .dataframe tbody tr th:only-of-type {\n",
       "        vertical-align: middle;\n",
       "    }\n",
       "\n",
       "    .dataframe tbody tr th {\n",
       "        vertical-align: top;\n",
       "    }\n",
       "\n",
       "    .dataframe thead th {\n",
       "        text-align: right;\n",
       "    }\n",
       "</style>\n",
       "<table border=\"1\" class=\"dataframe\">\n",
       "  <thead>\n",
       "    <tr style=\"text-align: right;\">\n",
       "      <th></th>\n",
       "      <th>reference_identity</th>\n",
       "      <th>candidate_identity</th>\n",
       "      <th>reference_ethnicity</th>\n",
       "      <th>candidate_ethnicity</th>\n",
       "      <th>labels</th>\n",
       "    </tr>\n",
       "  </thead>\n",
       "  <tbody>\n",
       "    <tr>\n",
       "      <th>0</th>\n",
       "      <td>m.0c7mh2</td>\n",
       "      <td>m.0c7mh2</td>\n",
       "      <td>african</td>\n",
       "      <td>African</td>\n",
       "      <td>1.0</td>\n",
       "    </tr>\n",
       "    <tr>\n",
       "      <th>1</th>\n",
       "      <td>m.0c7mh2</td>\n",
       "      <td>m.0c7mh2</td>\n",
       "      <td>african</td>\n",
       "      <td>African</td>\n",
       "      <td>1.0</td>\n",
       "    </tr>\n",
       "    <tr>\n",
       "      <th>2</th>\n",
       "      <td>m.026tq86</td>\n",
       "      <td>m.026tq86</td>\n",
       "      <td>african</td>\n",
       "      <td>African</td>\n",
       "      <td>1.0</td>\n",
       "    </tr>\n",
       "    <tr>\n",
       "      <th>3</th>\n",
       "      <td>m.026tq86</td>\n",
       "      <td>m.026tq86</td>\n",
       "      <td>african</td>\n",
       "      <td>African</td>\n",
       "      <td>1.0</td>\n",
       "    </tr>\n",
       "    <tr>\n",
       "      <th>4</th>\n",
       "      <td>m.02wz3nc</td>\n",
       "      <td>m.02wz3nc</td>\n",
       "      <td>african</td>\n",
       "      <td>African</td>\n",
       "      <td>1.0</td>\n",
       "    </tr>\n",
       "    <tr>\n",
       "      <th>...</th>\n",
       "      <td>...</td>\n",
       "      <td>...</td>\n",
       "      <td>...</td>\n",
       "      <td>...</td>\n",
       "      <td>...</td>\n",
       "    </tr>\n",
       "    <tr>\n",
       "      <th>29311</th>\n",
       "      <td>m.0402tg</td>\n",
       "      <td>m.01npnk3</td>\n",
       "      <td>caucasian</td>\n",
       "      <td>Caucasian</td>\n",
       "      <td>0.0</td>\n",
       "    </tr>\n",
       "    <tr>\n",
       "      <th>29312</th>\n",
       "      <td>m.05pbbnj</td>\n",
       "      <td>m.02rrb2n</td>\n",
       "      <td>caucasian</td>\n",
       "      <td>Caucasian</td>\n",
       "      <td>0.0</td>\n",
       "    </tr>\n",
       "    <tr>\n",
       "      <th>29313</th>\n",
       "      <td>m.09j6df</td>\n",
       "      <td>m.07kcsqd</td>\n",
       "      <td>african</td>\n",
       "      <td>African</td>\n",
       "      <td>0.0</td>\n",
       "    </tr>\n",
       "    <tr>\n",
       "      <th>29314</th>\n",
       "      <td>m.0fhrbz</td>\n",
       "      <td>m.025zgjt</td>\n",
       "      <td>african</td>\n",
       "      <td>African</td>\n",
       "      <td>0.0</td>\n",
       "    </tr>\n",
       "    <tr>\n",
       "      <th>29315</th>\n",
       "      <td>m.02q15tj</td>\n",
       "      <td>m.01w6m_0</td>\n",
       "      <td>african</td>\n",
       "      <td>African</td>\n",
       "      <td>0.0</td>\n",
       "    </tr>\n",
       "  </tbody>\n",
       "</table>\n",
       "<p>29316 rows × 5 columns</p>\n",
       "</div>"
      ],
      "text/plain": [
       "      reference_identity candidate_identity reference_ethnicity  \\\n",
       "0               m.0c7mh2           m.0c7mh2             african   \n",
       "1               m.0c7mh2           m.0c7mh2             african   \n",
       "2              m.026tq86          m.026tq86             african   \n",
       "3              m.026tq86          m.026tq86             african   \n",
       "4              m.02wz3nc          m.02wz3nc             african   \n",
       "...                  ...                ...                 ...   \n",
       "29311           m.0402tg          m.01npnk3           caucasian   \n",
       "29312          m.05pbbnj          m.02rrb2n           caucasian   \n",
       "29313           m.09j6df          m.07kcsqd             african   \n",
       "29314           m.0fhrbz          m.025zgjt             african   \n",
       "29315          m.02q15tj          m.01w6m_0             african   \n",
       "\n",
       "      candidate_ethnicity  labels  \n",
       "0                 African     1.0  \n",
       "1                 African     1.0  \n",
       "2                 African     1.0  \n",
       "3                 African     1.0  \n",
       "4                 African     1.0  \n",
       "...                   ...     ...  \n",
       "29311           Caucasian     0.0  \n",
       "29312           Caucasian     0.0  \n",
       "29313             African     0.0  \n",
       "29314             African     0.0  \n",
       "29315             African     0.0  \n",
       "\n",
       "[29316 rows x 5 columns]"
      ]
     },
     "execution_count": 2,
     "metadata": {},
     "output_type": "execute_result"
    }
   ],
   "source": [
    "# read in data and split\n",
    "X = torch.load('inputs/rfw_senet50_face_embeddings.pt').cpu()\n",
    "y = torch.load('inputs/rfw_senet50_labels.pt').cpu()\n",
    "df = pd.read_csv('inputs/rfw_senet50_df.csv')\n",
    "df['reference_ethnicity'] = df['reference_ethnicity'].str.lower()\n",
    "ethnicity = df['reference_ethnicity'].to_numpy()\n",
    "\n",
    "df"
   ]
  },
  {
   "cell_type": "code",
   "execution_count": 3,
   "metadata": {},
   "outputs": [
    {
     "name": "stdout",
     "output_type": "stream",
     "text": [
      "african      7464\n",
      "caucasian    7194\n",
      "Name: reference_ethnicity, dtype: int64\n",
      "african      7420\n",
      "caucasian    7238\n",
      "Name: reference_ethnicity, dtype: int64\n"
     ]
    }
   ],
   "source": [
    "matches = df[df.labels==1]\n",
    "non_matches = df[df.labels==0]\n",
    "print(non_matches['reference_ethnicity'].value_counts())\n",
    "print(matches['reference_ethnicity'].value_counts())"
   ]
  },
  {
   "cell_type": "code",
   "execution_count": 4,
   "metadata": {},
   "outputs": [
    {
     "data": {
      "text/plain": [
       "28776"
      ]
     },
     "execution_count": 4,
     "metadata": {},
     "output_type": "execute_result"
    }
   ],
   "source": [
    "7194*4"
   ]
  },
  {
   "cell_type": "code",
   "execution_count": 5,
   "metadata": {},
   "outputs": [],
   "source": [
    "african_matches = matches[matches['reference_ethnicity']=='african']\n",
    "caucasian_matches = matches[matches['reference_ethnicity']=='caucasian']\n",
    "\n",
    "african_non_matches = non_matches[non_matches['reference_ethnicity']=='african']\n",
    "caucasian_non_matches = non_matches[non_matches['reference_ethnicity']=='caucasian']\n"
   ]
  },
  {
   "cell_type": "code",
   "execution_count": 6,
   "metadata": {},
   "outputs": [],
   "source": [
    "np.random.seed(random_state)\n",
    "african_matches_sub_idx = african_matches.index[np.random.choice(len(african_matches.index), size=7194, replace=False)]\n",
    "caucasian_matches_sub_idx = caucasian_matches.index[np.random.choice(len(caucasian_matches.index), size=7194, replace=False)]\n",
    "african_non_matches_sub_idx = african_non_matches.index[np.random.choice(len(african_non_matches.index), size=7194, replace=False)]\n",
    "caucasian_non_matches_sub_idx = caucasian_non_matches.index"
   ]
  },
  {
   "cell_type": "code",
   "execution_count": 7,
   "metadata": {},
   "outputs": [
    {
     "data": {
      "text/html": [
       "<div>\n",
       "<style scoped>\n",
       "    .dataframe tbody tr th:only-of-type {\n",
       "        vertical-align: middle;\n",
       "    }\n",
       "\n",
       "    .dataframe tbody tr th {\n",
       "        vertical-align: top;\n",
       "    }\n",
       "\n",
       "    .dataframe thead th {\n",
       "        text-align: right;\n",
       "    }\n",
       "</style>\n",
       "<table border=\"1\" class=\"dataframe\">\n",
       "  <thead>\n",
       "    <tr style=\"text-align: right;\">\n",
       "      <th></th>\n",
       "      <th>reference_identity</th>\n",
       "      <th>candidate_identity</th>\n",
       "      <th>reference_ethnicity</th>\n",
       "      <th>candidate_ethnicity</th>\n",
       "      <th>labels</th>\n",
       "    </tr>\n",
       "  </thead>\n",
       "  <tbody>\n",
       "    <tr>\n",
       "      <th>2012</th>\n",
       "      <td>m.04ztpp</td>\n",
       "      <td>m.04ztpp</td>\n",
       "      <td>african</td>\n",
       "      <td>African</td>\n",
       "      <td>1.0</td>\n",
       "    </tr>\n",
       "    <tr>\n",
       "      <th>925</th>\n",
       "      <td>m.01q5qp8</td>\n",
       "      <td>m.01q5qp8</td>\n",
       "      <td>african</td>\n",
       "      <td>African</td>\n",
       "      <td>1.0</td>\n",
       "    </tr>\n",
       "    <tr>\n",
       "      <th>2688</th>\n",
       "      <td>m.064h70</td>\n",
       "      <td>m.064h70</td>\n",
       "      <td>african</td>\n",
       "      <td>African</td>\n",
       "      <td>1.0</td>\n",
       "    </tr>\n",
       "    <tr>\n",
       "      <th>2000</th>\n",
       "      <td>m.04mvcl</td>\n",
       "      <td>m.04mvcl</td>\n",
       "      <td>african</td>\n",
       "      <td>African</td>\n",
       "      <td>1.0</td>\n",
       "    </tr>\n",
       "    <tr>\n",
       "      <th>4442</th>\n",
       "      <td>m.07rjwr</td>\n",
       "      <td>m.07rjwr</td>\n",
       "      <td>african</td>\n",
       "      <td>African</td>\n",
       "      <td>1.0</td>\n",
       "    </tr>\n",
       "    <tr>\n",
       "      <th>...</th>\n",
       "      <td>...</td>\n",
       "      <td>...</td>\n",
       "      <td>...</td>\n",
       "      <td>...</td>\n",
       "      <td>...</td>\n",
       "    </tr>\n",
       "    <tr>\n",
       "      <th>29304</th>\n",
       "      <td>m.02p_9kj</td>\n",
       "      <td>m.01_pll</td>\n",
       "      <td>caucasian</td>\n",
       "      <td>Caucasian</td>\n",
       "      <td>0.0</td>\n",
       "    </tr>\n",
       "    <tr>\n",
       "      <th>29307</th>\n",
       "      <td>m.0hl3d</td>\n",
       "      <td>m.0415yw4</td>\n",
       "      <td>caucasian</td>\n",
       "      <td>Caucasian</td>\n",
       "      <td>0.0</td>\n",
       "    </tr>\n",
       "    <tr>\n",
       "      <th>29308</th>\n",
       "      <td>m.02qrwlw</td>\n",
       "      <td>m.0g8k46</td>\n",
       "      <td>caucasian</td>\n",
       "      <td>Caucasian</td>\n",
       "      <td>0.0</td>\n",
       "    </tr>\n",
       "    <tr>\n",
       "      <th>29311</th>\n",
       "      <td>m.0402tg</td>\n",
       "      <td>m.01npnk3</td>\n",
       "      <td>caucasian</td>\n",
       "      <td>Caucasian</td>\n",
       "      <td>0.0</td>\n",
       "    </tr>\n",
       "    <tr>\n",
       "      <th>29312</th>\n",
       "      <td>m.05pbbnj</td>\n",
       "      <td>m.02rrb2n</td>\n",
       "      <td>caucasian</td>\n",
       "      <td>Caucasian</td>\n",
       "      <td>0.0</td>\n",
       "    </tr>\n",
       "  </tbody>\n",
       "</table>\n",
       "<p>28776 rows × 5 columns</p>\n",
       "</div>"
      ],
      "text/plain": [
       "      reference_identity candidate_identity reference_ethnicity  \\\n",
       "2012            m.04ztpp           m.04ztpp             african   \n",
       "925            m.01q5qp8          m.01q5qp8             african   \n",
       "2688            m.064h70           m.064h70             african   \n",
       "2000            m.04mvcl           m.04mvcl             african   \n",
       "4442            m.07rjwr           m.07rjwr             african   \n",
       "...                  ...                ...                 ...   \n",
       "29304          m.02p_9kj           m.01_pll           caucasian   \n",
       "29307            m.0hl3d          m.0415yw4           caucasian   \n",
       "29308          m.02qrwlw           m.0g8k46           caucasian   \n",
       "29311           m.0402tg          m.01npnk3           caucasian   \n",
       "29312          m.05pbbnj          m.02rrb2n           caucasian   \n",
       "\n",
       "      candidate_ethnicity  labels  \n",
       "2012              African     1.0  \n",
       "925               African     1.0  \n",
       "2688              African     1.0  \n",
       "2000              African     1.0  \n",
       "4442              African     1.0  \n",
       "...                   ...     ...  \n",
       "29304           Caucasian     0.0  \n",
       "29307           Caucasian     0.0  \n",
       "29308           Caucasian     0.0  \n",
       "29311           Caucasian     0.0  \n",
       "29312           Caucasian     0.0  \n",
       "\n",
       "[28776 rows x 5 columns]"
      ]
     },
     "execution_count": 7,
     "metadata": {},
     "output_type": "execute_result"
    }
   ],
   "source": [
    "X_sub = torch.cat([X[african_matches_sub_idx],X[caucasian_matches_sub_idx],X[african_non_matches_sub_idx],X[caucasian_non_matches_sub_idx]])\n",
    "y_sub = torch.cat([y[african_matches_sub_idx],y[caucasian_matches_sub_idx],y[african_non_matches_sub_idx],y[caucasian_non_matches_sub_idx]])\n",
    "ethnicity_sub = np.concatenate([ethnicity[african_matches_sub_idx],ethnicity[caucasian_matches_sub_idx],ethnicity[african_non_matches_sub_idx],ethnicity[caucasian_non_matches_sub_idx]])\n",
    "df_sub = pd.concat([df.iloc[african_matches_sub_idx],df.iloc[caucasian_matches_sub_idx],df.iloc[african_non_matches_sub_idx],df.iloc[caucasian_non_matches_sub_idx]])\n",
    "df_sub"
   ]
  },
  {
   "cell_type": "code",
   "execution_count": 8,
   "metadata": {},
   "outputs": [],
   "source": [
    "train_split, test_split = train_test_split(np.arange(len(X_sub)),test_size=0.2, random_state=random_state)\n",
    "train_split, val_split = train_test_split(train_split,test_size=0.25, random_state=random_state)\n",
    "X_train = X_sub[train_split]\n",
    "X_val = X_sub[val_split]\n",
    "X_test = X_sub[test_split]\n",
    "y_train = y_sub[train_split]\n",
    "y_val = y_sub[val_split]\n",
    "y_test = y_sub[test_split]\n",
    "\n",
    "ethnicity_train = ethnicity_sub[train_split]\n",
    "# ethnicity_train[ethnicity_train=='caucasian'] = 0\n",
    "# ethnicity_train[ethnicity_train=='african'] = 1\n",
    "# ethnicity_train = ethnicity_train.astype(int)\n",
    "\n",
    "ethnicity_val = ethnicity_sub[val_split]\n",
    "# ethnicity_val[ethnicity_val=='caucasian'] = 0\n",
    "# ethnicity_val[ethnicity_val=='african'] = 1\n",
    "# ethnicity_val = ethnicity_val.astype(int)\n",
    "\n",
    "ethnicity_test = ethnicity_sub[test_split]\n",
    "# ethnicity_test[ethnicity_test=='caucasian'] = 0\n",
    "# ethnicity_test[ethnicity_test=='african'] = 1\n",
    "# ethnicity_test = ethnicity_test.astype(int)\n",
    "\n",
    "df_train = df_sub.iloc[train_split]\n",
    "df_test = df_sub.iloc[test_split]\n",
    "df_val = df_sub.iloc[val_split]\n",
    "\n",
    "cos_sim = nn.CosineSimilarity(dim=1, eps=1e-6)\n",
    "def confusion_mat(y_pred, y_test):\n",
    "    tn, fp, fn, tp = confusion_matrix(y_test, y_pred).ravel()\n",
    "    acc = (tn + tp)/(tn+tp+fn+fp)\n",
    "    return tn, fp, fn, tp, acc"
   ]
  },
  {
   "cell_type": "code",
   "execution_count": 9,
   "metadata": {},
   "outputs": [
    {
     "name": "stdout",
     "output_type": "stream",
     "text": [
      "caucasian    4374\n",
      "african      4323\n",
      "Name: reference_ethnicity, dtype: int64\n",
      "caucasian    4292\n",
      "african      4276\n",
      "Name: reference_ethnicity, dtype: int64\n"
     ]
    }
   ],
   "source": [
    "matches = df_train[df_train.labels==1]\n",
    "non_matches = df_train[df_train.labels==0]\n",
    "print(non_matches['reference_ethnicity'].value_counts())\n",
    "print(matches['reference_ethnicity'].value_counts())"
   ]
  },
  {
   "cell_type": "code",
   "execution_count": 10,
   "metadata": {},
   "outputs": [
    {
     "data": {
      "application/vnd.jupyter.widget-view+json": {
       "model_id": "4c6aa80ae74f4fe3815b57a57f9b4a8d",
       "version_major": 2,
       "version_minor": 0
      },
      "text/plain": [
       "  0%|          | 0/1001 [00:00<?, ?it/s]"
      ]
     },
     "metadata": {},
     "output_type": "display_data"
    }
   ],
   "source": [
    "train_cos = cos_sim(X_train[:,:2048],X_train[:,2048:])\n",
    "thresholds = np.arange(0,1.001,0.001)\n",
    "tpr_list = []\n",
    "tnr_list = []\n",
    "fpr_list = []\n",
    "fnr_list = []\n",
    "acc_list = []\n",
    "for thresh in tqdm_notebook(thresholds,total=len(thresholds)):\n",
    "    pred = (train_cos>thresh)*1\n",
    "    tn, fp, fn, tp, acc = confusion_mat(pred, y_train.numpy())\n",
    "    tnr_list.append(tn/(tn+fp))\n",
    "    tpr_list.append(tp/(tp+fn))\n",
    "    fnr_list.append(fn/(fn+tp))\n",
    "    fpr_list.append(fp/(fp+tn))\n",
    "    acc_list.append(acc)\n"
   ]
  },
  {
   "cell_type": "code",
   "execution_count": 11,
   "metadata": {},
   "outputs": [
    {
     "data": {
      "text/plain": [
       "array([0.49319422])"
      ]
     },
     "execution_count": 11,
     "metadata": {},
     "output_type": "execute_result"
    }
   ],
   "source": [
    "def solve(f,x):\n",
    "    s = np.sign(f)\n",
    "    z = np.where(s == 0)[0]\n",
    "    if z:\n",
    "        return z\n",
    "    else:\n",
    "        s = s[0:-1] + s[1:]\n",
    "        z = np.where(s == 0)[0]\n",
    "        return z\n",
    "\n",
    "def interp(f,x,z):\n",
    "    m = (f[z+1] - f[z]) / (x[z+1] - x[z])\n",
    "    return x[z] - f[z]/m\n",
    "f = np.array(fnr_list)-np.array(fpr_list)\n",
    "z = solve(f,thresholds)\n",
    "ans = interp(f,thresholds,z)\n",
    "ans"
   ]
  },
  {
   "cell_type": "code",
   "execution_count": 12,
   "metadata": {},
   "outputs": [
    {
     "data": {
      "image/png": "[encoded data removed]",
      "text/plain": [
       "<Figure size 576x396 with 1 Axes>"
      ]
     },
     "metadata": {},
     "output_type": "display_data"
    }
   ],
   "source": [
    "with plt.style.context('seaborn'):    \n",
    "    plt.plot(thresholds,fnr_list,label='FNR')\n",
    "    plt.plot(thresholds,fpr_list,label='FPR')\n",
    "    # plt.plot(thresholds,np.array(fnr_list)-np.array(fpr_list))\n",
    "    plt.axvline(x=ans,linestyle ='--')\n",
    "    plt.legend()\n",
    "plt.show()"
   ]
  },
  {
   "cell_type": "code",
   "execution_count": 13,
   "metadata": {},
   "outputs": [
    {
     "data": {
      "image/png": "[encoded data removed]",
      "text/plain": [
       "<Figure size 576x396 with 1 Axes>"
      ]
     },
     "metadata": {},
     "output_type": "display_data"
    }
   ],
   "source": [
    "with plt.style.context('seaborn'):    \n",
    "    plt.plot(thresholds,tnr_list,label='TNR')\n",
    "    plt.plot(thresholds,tpr_list,label='TPR')\n",
    "    plt.legend()\n",
    "    plt.axvline(x=ans,linestyle ='--')\n",
    "plt.show()"
   ]
  },
  {
   "cell_type": "code",
   "execution_count": 14,
   "metadata": {},
   "outputs": [
    {
     "data": {
      "text/plain": [
       "array([0.497])"
      ]
     },
     "execution_count": 14,
     "metadata": {},
     "output_type": "execute_result"
    }
   ],
   "source": [
    "thresholds[np.where(acc_list==np.max(acc_list))]\n"
   ]
  },
  {
   "cell_type": "code",
   "execution_count": 15,
   "metadata": {},
   "outputs": [
    {
     "name": "stdout",
     "output_type": "stream",
     "text": [
      "0.493\n",
      "[0.497]\n"
     ]
    }
   ],
   "source": [
    "print(thresholds[np.abs(thresholds-ans).argmin()])\n",
    "print(thresholds[acc_list == max(acc_list)])"
   ]
  },
  {
   "cell_type": "code",
   "execution_count": 16,
   "metadata": {},
   "outputs": [
    {
     "data": {
      "text/html": [
       "<div>\n",
       "<style scoped>\n",
       "    .dataframe tbody tr th:only-of-type {\n",
       "        vertical-align: middle;\n",
       "    }\n",
       "\n",
       "    .dataframe tbody tr th {\n",
       "        vertical-align: top;\n",
       "    }\n",
       "\n",
       "    .dataframe thead th {\n",
       "        text-align: right;\n",
       "    }\n",
       "</style>\n",
       "<table border=\"1\" class=\"dataframe\">\n",
       "  <thead>\n",
       "    <tr style=\"text-align: right;\">\n",
       "      <th></th>\n",
       "      <th>reference_ethnicity</th>\n",
       "      <th>labels</th>\n",
       "      <th>eer_pred</th>\n",
       "      <th>acc_pred</th>\n",
       "    </tr>\n",
       "  </thead>\n",
       "  <tbody>\n",
       "    <tr>\n",
       "      <th>4765</th>\n",
       "      <td>african</td>\n",
       "      <td>1.0</td>\n",
       "      <td>1</td>\n",
       "      <td>1</td>\n",
       "    </tr>\n",
       "    <tr>\n",
       "      <th>25366</th>\n",
       "      <td>african</td>\n",
       "      <td>0.0</td>\n",
       "      <td>0</td>\n",
       "      <td>0</td>\n",
       "    </tr>\n",
       "    <tr>\n",
       "      <th>26289</th>\n",
       "      <td>african</td>\n",
       "      <td>0.0</td>\n",
       "      <td>0</td>\n",
       "      <td>0</td>\n",
       "    </tr>\n",
       "    <tr>\n",
       "      <th>5326</th>\n",
       "      <td>african</td>\n",
       "      <td>1.0</td>\n",
       "      <td>1</td>\n",
       "      <td>1</td>\n",
       "    </tr>\n",
       "    <tr>\n",
       "      <th>4125</th>\n",
       "      <td>african</td>\n",
       "      <td>1.0</td>\n",
       "      <td>1</td>\n",
       "      <td>1</td>\n",
       "    </tr>\n",
       "    <tr>\n",
       "      <th>...</th>\n",
       "      <td>...</td>\n",
       "      <td>...</td>\n",
       "      <td>...</td>\n",
       "      <td>...</td>\n",
       "    </tr>\n",
       "    <tr>\n",
       "      <th>22875</th>\n",
       "      <td>african</td>\n",
       "      <td>0.0</td>\n",
       "      <td>0</td>\n",
       "      <td>0</td>\n",
       "    </tr>\n",
       "    <tr>\n",
       "      <th>16382</th>\n",
       "      <td>african</td>\n",
       "      <td>0.0</td>\n",
       "      <td>0</td>\n",
       "      <td>0</td>\n",
       "    </tr>\n",
       "    <tr>\n",
       "      <th>3677</th>\n",
       "      <td>african</td>\n",
       "      <td>1.0</td>\n",
       "      <td>1</td>\n",
       "      <td>1</td>\n",
       "    </tr>\n",
       "    <tr>\n",
       "      <th>5825</th>\n",
       "      <td>african</td>\n",
       "      <td>1.0</td>\n",
       "      <td>1</td>\n",
       "      <td>1</td>\n",
       "    </tr>\n",
       "    <tr>\n",
       "      <th>22634</th>\n",
       "      <td>african</td>\n",
       "      <td>0.0</td>\n",
       "      <td>0</td>\n",
       "      <td>0</td>\n",
       "    </tr>\n",
       "  </tbody>\n",
       "</table>\n",
       "<p>8599 rows × 4 columns</p>\n",
       "</div>"
      ],
      "text/plain": [
       "      reference_ethnicity  labels  eer_pred  acc_pred\n",
       "4765              african     1.0         1         1\n",
       "25366             african     0.0         0         0\n",
       "26289             african     0.0         0         0\n",
       "5326              african     1.0         1         1\n",
       "4125              african     1.0         1         1\n",
       "...                   ...     ...       ...       ...\n",
       "22875             african     0.0         0         0\n",
       "16382             african     0.0         0         0\n",
       "3677              african     1.0         1         1\n",
       "5825              african     1.0         1         1\n",
       "22634             african     0.0         0         0\n",
       "\n",
       "[8599 rows x 4 columns]"
      ]
     },
     "execution_count": 16,
     "metadata": {},
     "output_type": "execute_result"
    }
   ],
   "source": [
    "eer_thresh = 0.493\n",
    "acc_thresh = 0.497\n",
    "eer_pred = (train_cos>eer_thresh)*1\n",
    "acc_pred = (train_cos>acc_thresh)*1\n",
    "df_bias = df_train.drop(['reference_identity','candidate_identity','candidate_ethnicity'],axis=1)\n",
    "df_bias['eer_pred'] = eer_pred\n",
    "df_bias['acc_pred'] = acc_pred\n",
    "df_bias_african = df_bias[df_bias['reference_ethnicity']=='african']\n",
    "df_bias_caucasian = df_bias[df_bias['reference_ethnicity']=='caucasian']\n",
    "df_bias_african"
   ]
  },
  {
   "cell_type": "code",
   "execution_count": 17,
   "metadata": {},
   "outputs": [],
   "source": [
    "african_eer_tn, african_eer_fp, african_eer_fn, african_eer_tp, african_eer_acc = confusion_mat(df_bias_african['eer_pred'], df_bias_african['labels'])\n",
    "\n",
    "caucasian_eer_tn, caucasian_eer_fp, caucasian_eer_fn, caucasian_eer_tp, caucasian_eer_acc = confusion_mat(df_bias_caucasian['eer_pred'], df_bias_caucasian['labels'])\n",
    "\n",
    "african_acc_tn, african_acc_fp, african_acc_fn, african_acc_tp, african_acc_acc = confusion_mat(df_bias_african['acc_pred'], df_bias_african['labels'])\n",
    "\n",
    "caucasian_acc_tn, caucasian_acc_fp, caucasian_acc_fn, caucasian_acc_tp, caucasian_acc_acc = confusion_mat(df_bias_caucasian['acc_pred'], df_bias_caucasian['labels'])"
   ]
  },
  {
   "cell_type": "code",
   "execution_count": 18,
   "metadata": {},
   "outputs": [
    {
     "name": "stdout",
     "output_type": "stream",
     "text": [
      "0.2930177968612914\n",
      "7.763996091149854\n",
      "1.0829924830478461\n",
      "0.9457676644635533\n",
      "1.276717125949264\n"
     ]
    }
   ],
   "source": [
    "african_eer_tnr = african_eer_tn/(african_eer_tn+african_eer_fp)\n",
    "african_eer_tpr = african_eer_tp/(african_eer_tp+african_eer_fn)\n",
    "african_eer_fnr = african_eer_fn/(african_eer_fn+african_eer_tp)\n",
    "african_eer_fpr = african_eer_fp/(african_eer_tn+african_eer_fp)\n",
    "\n",
    "caucasian_eer_tnr = caucasian_eer_tn/(caucasian_eer_tn+caucasian_eer_fp)\n",
    "caucasian_eer_tpr = caucasian_eer_tp/(caucasian_eer_tp+caucasian_eer_fn)\n",
    "caucasian_eer_fnr = caucasian_eer_fn/(caucasian_eer_fn+caucasian_eer_tp)\n",
    "caucasian_eer_fpr = caucasian_eer_fp/(caucasian_eer_tn+caucasian_eer_fp)\n",
    "\n",
    "print(african_eer_fnr/caucasian_eer_fnr)\n",
    "print(african_eer_fpr/caucasian_eer_fpr)\n",
    "print(caucasian_eer_tnr/african_eer_tnr)\n",
    "print(caucasian_eer_tpr/african_eer_tpr)\n",
    "print((1-african_eer_acc)/(1-caucasian_eer_acc))"
   ]
  },
  {
   "cell_type": "code",
   "execution_count": 19,
   "metadata": {},
   "outputs": [
    {
     "name": "stdout",
     "output_type": "stream",
     "text": [
      "african fnr: 0.021983161833489244 caucasian fnr: 0.0750232991612302\n",
      "african fpr: 0.0869766365949572 caucasian fpr: 0.011202560585276635\n",
      "african tnr: 0.9887974394147233 caucasian tnr: 0.9130233634050428\n",
      "african tpr: 0.9249767008387698 caucasian tpr: 0.9780168381665107\n",
      "african mis class: 0.05465751831608323 caucasian mis class: 0.04281098546042006\n"
     ]
    }
   ],
   "source": [
    "print('african fnr:',african_eer_fnr,'caucasian fnr:',caucasian_eer_fnr)\n",
    "print('african fpr:',african_eer_fpr,'caucasian fpr:',caucasian_eer_fpr)\n",
    "print('african tnr:',caucasian_eer_tnr,'caucasian tnr:',african_eer_tnr)\n",
    "print('african tpr:',caucasian_eer_tpr,'caucasian tpr:',african_eer_tpr)\n",
    "print('african mis class:',(1-african_eer_acc),'caucasian mis class:',(1-caucasian_eer_acc))"
   ]
  },
  {
   "cell_type": "code",
   "execution_count": null,
   "metadata": {},
   "outputs": [],
   "source": [
    "0.08998380754105945/0.01417466849565615"
   ]
  },
  {
   "cell_type": "code",
   "execution_count": 20,
   "metadata": {},
   "outputs": [
    {
     "name": "stdout",
     "output_type": "stream",
     "text": [
      "0.3017200097999911\n",
      "7.802081887578072\n",
      "1.0760876990337085\n",
      "0.9440125899180205\n",
      "1.185014799071735\n"
     ]
    }
   ],
   "source": [
    "african_acc_tnr = african_acc_tn/(african_acc_tn+african_acc_fp)\n",
    "african_acc_tpr = african_acc_tp/(african_acc_tp+african_acc_fn)\n",
    "african_acc_fnr = african_acc_fn/(african_acc_fn+african_acc_tp)\n",
    "african_acc_fpr = african_acc_fp/(african_acc_tn+african_acc_fp)\n",
    "\n",
    "caucasian_acc_tnr = caucasian_acc_tn/(caucasian_acc_tn+caucasian_acc_fp)\n",
    "caucasian_acc_tpr = caucasian_acc_tp/(caucasian_acc_tp+caucasian_acc_fn)\n",
    "caucasian_acc_fnr = caucasian_acc_fn/(caucasian_acc_fn+caucasian_acc_tp)\n",
    "caucasian_acc_fpr = caucasian_acc_fp/(caucasian_acc_tn+caucasian_acc_fp)\n",
    "\n",
    "print(african_acc_fnr/caucasian_acc_fnr)\n",
    "print(african_acc_fpr/caucasian_acc_fpr)\n",
    "print(caucasian_acc_tnr/african_acc_tnr)\n",
    "print(caucasian_acc_tpr/african_acc_tpr)\n",
    "print((1-african_acc_acc)/(1-caucasian_acc_acc))"
   ]
  },
  {
   "cell_type": "code",
   "execution_count": 21,
   "metadata": {},
   "outputs": [
    {
     "name": "stdout",
     "output_type": "stream",
     "text": [
      "african fnr: 0.02362020579981291 caucasian fnr: 0.0782851817334576\n",
      "african fpr: 0.08026833217672913 caucasian fpr: 0.0102880658436214\n",
      "african tnr: 0.9897119341563786 caucasian tnr: 0.9197316678232709\n",
      "african tpr: 0.9217148182665424 caucasian tpr: 0.9763797942001871\n",
      "african acc: 0.05209908128852192 caucasian acc: 0.043964920378490646\n"
     ]
    }
   ],
   "source": [
    "print('african fnr:',african_acc_fnr,'caucasian fnr:',caucasian_acc_fnr)\n",
    "print('african fpr:',african_acc_fpr,'caucasian fpr:',caucasian_acc_fpr)\n",
    "print('african tnr:',caucasian_acc_tnr,'caucasian tnr:',african_acc_tnr)\n",
    "print('african tpr:',caucasian_acc_tpr,'caucasian tpr:',african_acc_tpr)\n",
    "print('african acc:',(1-african_acc_acc),'caucasian acc:',(1-caucasian_acc_acc))"
   ]
  },
  {
   "cell_type": "code",
   "execution_count": 22,
   "metadata": {},
   "outputs": [
    {
     "data": {
      "application/vnd.jupyter.widget-view+json": {
       "model_id": "aa011fb7fefb40cfa6107527ed546c59",
       "version_major": 2,
       "version_minor": 0
      },
      "text/plain": [
       "  0%|          | 0/1001 [00:00<?, ?it/s]"
      ]
     },
     "metadata": {},
     "output_type": "display_data"
    }
   ],
   "source": [
    "train_cos = cos_sim(X_train[:,:2048],X_train[:,2048:])\n",
    "african_train_cos = train_cos[ethnicity_train=='african']\n",
    "caucasian_train_cos = train_cos[ethnicity_train=='caucasian']\n",
    "\n",
    "\n",
    "thresholds = np.arange(0,1.001,0.001)\n",
    "african_tpr_list = []\n",
    "african_tnr_list = []\n",
    "african_fpr_list = []\n",
    "african_fnr_list = []\n",
    "african_acc_list = []\n",
    "\n",
    "caucasian_tpr_list = []\n",
    "caucasian_tnr_list = []\n",
    "caucasian_fpr_list = []\n",
    "caucasian_fnr_list = []\n",
    "caucasian_acc_list = []\n",
    "for thresh in tqdm_notebook(thresholds,total=len(thresholds)):\n",
    "    african_pred = (african_train_cos>thresh)*1\n",
    "    african_tn, african_fp, african_fn, african_tp, african_acc = confusion_mat(african_pred, y_train[ethnicity_train=='african'].numpy())\n",
    "    african_tnr_list.append(african_tn/(african_tn+african_fp))\n",
    "    african_tpr_list.append(african_tp/(african_tp+african_fn))\n",
    "    african_fnr_list.append(african_fn/(african_fn+african_tp))\n",
    "    african_fpr_list.append(african_fp/(african_fp+african_tn))\n",
    "    african_acc_list.append(african_acc)\n",
    "\n",
    "    caucasian_pred = (caucasian_train_cos>thresh)*1\n",
    "    caucasian_tn, caucasian_fp, caucasian_fn, caucasian_tp, caucasian_acc = confusion_mat(caucasian_pred, y_train[ethnicity_train=='caucasian'].numpy())\n",
    "    caucasian_tnr_list.append(caucasian_tn/(caucasian_tn+caucasian_fp))\n",
    "    caucasian_tpr_list.append(caucasian_tp/(caucasian_tp+caucasian_fn))\n",
    "    caucasian_fnr_list.append(caucasian_fn/(caucasian_fn+caucasian_tp))\n",
    "    caucasian_fpr_list.append(caucasian_fp/(caucasian_fp+caucasian_tn))\n",
    "    caucasian_acc_list.append(caucasian_acc)"
   ]
  },
  {
   "cell_type": "code",
   "execution_count": 23,
   "metadata": {},
   "outputs": [
    {
     "data": {
      "image/png": "[encoded data removed]",
      "text/plain": [
       "<Figure size 576x396 with 1 Axes>"
      ]
     },
     "metadata": {},
     "output_type": "display_data"
    }
   ],
   "source": [
    "with plt.style.context('seaborn'):    \n",
    "    plt.plot(thresholds,african_fnr_list,label='african FNR')\n",
    "    plt.plot(thresholds,caucasian_fnr_list,label='caucasian FNR')\n",
    "    plt.legend()\n",
    "    plt.xlabel('Cosine Similarity Threshold')\n",
    "    plt.ylabel('Rate')\n",
    "    plt.xlim(0.3,0.9)\n",
    "plt.show()"
   ]
  },
  {
   "cell_type": "code",
   "execution_count": 24,
   "metadata": {},
   "outputs": [
    {
     "data": {
      "image/png": "[encoded data removed]",
      "text/plain": [
       "<Figure size 576x396 with 1 Axes>"
      ]
     },
     "metadata": {},
     "output_type": "display_data"
    }
   ],
   "source": [
    "with plt.style.context('seaborn'):    \n",
    "    plt.plot(thresholds,african_fpr_list,label='african FPR')\n",
    "    plt.plot(thresholds,caucasian_fpr_list,label='caucasian FPR')\n",
    "    plt.xlabel('Cosine Similarity Threshold')\n",
    "    plt.ylabel('Rate')\n",
    "    plt.legend()\n",
    "    plt.xlim(0.15,0.5)\n",
    "plt.show()"
   ]
  },
  {
   "cell_type": "code",
   "execution_count": 25,
   "metadata": {},
   "outputs": [
    {
     "data": {
      "image/png": "[encoded data removed]",
      "text/plain": [
       "<Figure size 576x396 with 1 Axes>"
      ]
     },
     "metadata": {},
     "output_type": "display_data"
    }
   ],
   "source": [
    "with plt.style.context('seaborn'):    \n",
    "    plt.plot(thresholds,np.array(african_fpr_list)/np.array(caucasian_fpr_list),label='african/caucasian FPR Ratio')\n",
    "    plt.plot(thresholds,np.array(african_fnr_list)/np.array(caucasian_fnr_list),label='african/caucasian FNR Ratio')\n",
    "    plt.xlabel('Cosine Similarity Threshold')\n",
    "    plt.ylabel('Ratio')\n",
    "    plt.legend()\n",
    "\n",
    "plt.show()"
   ]
  },
  {
   "cell_type": "code",
   "execution_count": 26,
   "metadata": {},
   "outputs": [
    {
     "data": {
      "text/plain": [
       "1001"
      ]
     },
     "execution_count": 26,
     "metadata": {},
     "output_type": "execute_result"
    }
   ],
   "source": [
    "len(african_fnr_list)"
   ]
  },
  {
   "cell_type": "markdown",
   "metadata": {},
   "source": [
    "### do all bias on validation set now"
   ]
  },
  {
   "cell_type": "code",
   "execution_count": 27,
   "metadata": {},
   "outputs": [
    {
     "name": "stdout",
     "output_type": "stream",
     "text": [
      "african      1438\n",
      "caucasian    1431\n",
      "Name: reference_ethnicity, dtype: int64\n",
      "caucasian    1472\n",
      "african      1414\n",
      "Name: reference_ethnicity, dtype: int64\n"
     ]
    }
   ],
   "source": [
    "matches = df_val[df_val.labels==1]\n",
    "non_matches = df_val[df_val.labels==0]\n",
    "print(non_matches['reference_ethnicity'].value_counts())\n",
    "print(matches['reference_ethnicity'].value_counts())"
   ]
  },
  {
   "cell_type": "code",
   "execution_count": 28,
   "metadata": {},
   "outputs": [
    {
     "data": {
      "application/vnd.jupyter.widget-view+json": {
       "model_id": "2bc0ee7a34e44ea0a9a6eeef1eef843f",
       "version_major": 2,
       "version_minor": 0
      },
      "text/plain": [
       "  0%|          | 0/1001 [00:00<?, ?it/s]"
      ]
     },
     "metadata": {},
     "output_type": "display_data"
    },
    {
     "data": {
      "text/plain": [
       "array([0.49381289])"
      ]
     },
     "execution_count": 28,
     "metadata": {},
     "output_type": "execute_result"
    }
   ],
   "source": [
    "# bias on validation\n",
    "val_cos = cos_sim(X_val[:,:2048],X_val[:,2048:])\n",
    "thresholds = np.arange(0,1.001,0.001)\n",
    "tpr_list = []\n",
    "tnr_list = []\n",
    "fpr_list = []\n",
    "fnr_list = []\n",
    "acc_list = []\n",
    "for thresh in tqdm_notebook(thresholds,total=len(thresholds)):\n",
    "    pred = (val_cos>thresh)*1\n",
    "    tn, fp, fn, tp, acc = confusion_mat(pred, y_val.numpy())\n",
    "    tnr_list.append(tn/(tn+fp))\n",
    "    tpr_list.append(tp/(tp+fn))\n",
    "    fnr_list.append(fn/(fn+tp))\n",
    "    fpr_list.append(fp/(fp+tn))\n",
    "    acc_list.append(acc)\n",
    "f = np.array(fnr_list)-np.array(fpr_list)\n",
    "z = solve(f,thresholds)\n",
    "ans = interp(f,thresholds,z)\n",
    "ans"
   ]
  },
  {
   "cell_type": "code",
   "execution_count": 29,
   "metadata": {},
   "outputs": [
    {
     "data": {
      "image/png": "[encoded data removed]",
      "text/plain": [
       "<Figure size 576x396 with 1 Axes>"
      ]
     },
     "metadata": {},
     "output_type": "display_data"
    },
    {
     "data": {
      "image/png": "[encoded data removed]",
      "text/plain": [
       "<Figure size 576x396 with 1 Axes>"
      ]
     },
     "metadata": {},
     "output_type": "display_data"
    },
    {
     "name": "stdout",
     "output_type": "stream",
     "text": [
      "0.494\n",
      "[0.498]\n"
     ]
    }
   ],
   "source": [
    "with plt.style.context('seaborn'):    \n",
    "    plt.plot(thresholds,fnr_list,label='FNR')\n",
    "    plt.plot(thresholds,fpr_list,label='FPR')\n",
    "    # plt.plot(thresholds,np.array(fnr_list)-np.array(fpr_list))\n",
    "    plt.axvline(x=ans,linestyle ='--')\n",
    "    plt.legend()\n",
    "plt.show()\n",
    "with plt.style.context('seaborn'):    \n",
    "    plt.plot(thresholds,tnr_list,label='TNR')\n",
    "    plt.plot(thresholds,tpr_list,label='TPR')\n",
    "    plt.legend()\n",
    "    plt.axvline(x=ans,linestyle ='--')\n",
    "plt.show()\n",
    "print(thresholds[np.abs(thresholds-ans).argmin()])\n",
    "print(thresholds[acc_list == max(acc_list)])\n"
   ]
  },
  {
   "cell_type": "code",
   "execution_count": 30,
   "metadata": {},
   "outputs": [],
   "source": [
    "eer_thresh = 0.493\n",
    "acc_thresh = 0.497\n",
    "eer_pred = (val_cos>eer_thresh)*1\n",
    "acc_pred = (val_cos>acc_thresh)*1\n",
    "df_bias = df_val.drop(['reference_identity','candidate_identity','candidate_ethnicity'],axis=1)\n",
    "df_bias['eer_pred'] = eer_pred\n",
    "df_bias['acc_pred'] = acc_pred\n",
    "df_bias_african = df_bias[df_bias['reference_ethnicity']=='african']\n",
    "df_bias_caucasian = df_bias[df_bias['reference_ethnicity']=='caucasian']\n",
    "\n",
    "african_eer_tn, african_eer_fp, african_eer_fn, african_eer_tp, african_eer_acc = confusion_mat(df_bias_african['eer_pred'], df_bias_african['labels'])\n",
    "caucasian_eer_tn, caucasian_eer_fp, caucasian_eer_fn, caucasian_eer_tp, caucasian_eer_acc = confusion_mat(df_bias_caucasian['eer_pred'], df_bias_caucasian['labels'])\n",
    "\n",
    "african_acc_tn, african_acc_fp, african_acc_fn, african_acc_tp, african_acc_acc = confusion_mat(df_bias_african['acc_pred'], df_bias_african['labels'])\n",
    "caucasian_acc_tn, caucasian_acc_fp, caucasian_acc_fn, caucasian_acc_tp, caucasian_acc_acc = confusion_mat(df_bias_caucasian['acc_pred'], df_bias_caucasian['labels'])\n",
    "\n"
   ]
  },
  {
   "cell_type": "code",
   "execution_count": 32,
   "metadata": {},
   "outputs": [
    {
     "name": "stdout",
     "output_type": "stream",
     "text": [
      "0.34033293439234036\n",
      "26.470514603616135\n",
      "1.0980655491029234\n",
      "0.9522448015122874\n",
      "1.5595075723458185\n"
     ]
    }
   ],
   "source": [
    "african_eer_tnr = african_eer_tn/(african_eer_tn+african_eer_fp)\n",
    "african_eer_tpr = african_eer_tp/(african_eer_tp+african_eer_fn)\n",
    "african_eer_fnr = african_eer_fn/(african_eer_fn+african_eer_tp)\n",
    "african_eer_fpr = african_eer_fp/(african_eer_tn+african_eer_fp)\n",
    "\n",
    "caucasian_eer_tnr = caucasian_eer_tn/(caucasian_eer_tn+caucasian_eer_fp)\n",
    "caucasian_eer_tpr = caucasian_eer_tp/(caucasian_eer_tp+caucasian_eer_fn)\n",
    "caucasian_eer_fnr = caucasian_eer_fn/(caucasian_eer_fn+caucasian_eer_tp)\n",
    "caucasian_eer_fpr = caucasian_eer_fp/(caucasian_eer_tn+caucasian_eer_fp)\n",
    "\n",
    "print(african_eer_fnr/caucasian_eer_fnr)\n",
    "print(african_eer_fpr/caucasian_eer_fpr)\n",
    "print(caucasian_eer_tnr/african_eer_tnr)\n",
    "print(caucasian_eer_tpr/african_eer_tpr)\n",
    "print((1-african_eer_acc)/(1-caucasian_eer_acc))"
   ]
  },
  {
   "cell_type": "code",
   "execution_count": 33,
   "metadata": {},
   "outputs": [
    {
     "name": "stdout",
     "output_type": "stream",
     "text": [
      "african fnr: 0.024045261669024046 caucasian fnr: 0.07065217391304347\n",
      "african fpr: 0.09248956884561892 caucasian fpr: 0.0034940600978336828\n",
      "african tnr: 0.9965059399021663 caucasian tnr: 0.9075104311543811\n",
      "african tpr: 0.9293478260869565 caucasian tpr: 0.9759547383309759\n",
      "african mis class: 0.05855539971949508 caucasian mis class: 0.03754736479503962\n"
     ]
    }
   ],
   "source": [
    "print('african fnr:',african_eer_fnr,'caucasian fnr:',caucasian_eer_fnr)\n",
    "print('african fpr:',african_eer_fpr,'caucasian fpr:',caucasian_eer_fpr)\n",
    "print('african tnr:',caucasian_eer_tnr,'caucasian tnr:',african_eer_tnr)\n",
    "print('african tpr:',caucasian_eer_tpr,'caucasian tpr:',african_eer_tpr)\n",
    "print('african mis class:',(1-african_eer_acc),'caucasian mis class:',(1-caucasian_eer_acc))"
   ]
  },
  {
   "cell_type": "code",
   "execution_count": 34,
   "metadata": {},
   "outputs": [
    {
     "name": "stdout",
     "output_type": "stream",
     "text": [
      "0.3342719593060224\n",
      "24.480250347705148\n",
      "1.0897152407447264\n",
      "0.9494523835797837\n",
      "1.41074899731798\n"
     ]
    }
   ],
   "source": [
    "african_acc_tnr = african_acc_tn/(african_acc_tn+african_acc_fp)\n",
    "african_acc_tpr = african_acc_tp/(african_acc_tp+african_acc_fn)\n",
    "african_acc_fnr = african_acc_fn/(african_acc_fn+african_acc_tp)\n",
    "african_acc_fpr = african_acc_fp/(african_acc_tn+african_acc_fp)\n",
    "\n",
    "caucasian_acc_tnr = caucasian_acc_tn/(caucasian_acc_tn+caucasian_acc_fp)\n",
    "caucasian_acc_tpr = caucasian_acc_tp/(caucasian_acc_tp+caucasian_acc_fn)\n",
    "caucasian_acc_fnr = caucasian_acc_fn/(caucasian_acc_fn+caucasian_acc_tp)\n",
    "caucasian_acc_fpr = caucasian_acc_fp/(caucasian_acc_tn+caucasian_acc_fp)\n",
    "\n",
    "print(african_acc_fnr/caucasian_acc_fnr)\n",
    "print(african_acc_fpr/caucasian_acc_fpr)\n",
    "print(caucasian_acc_tnr/african_acc_tnr)\n",
    "print(caucasian_acc_tpr/african_acc_tpr)\n",
    "print((1-african_acc_acc)/(1-caucasian_acc_acc))"
   ]
  },
  {
   "cell_type": "code",
   "execution_count": 35,
   "metadata": {},
   "outputs": [
    {
     "name": "stdout",
     "output_type": "stream",
     "text": [
      "african fnr: 0.024752475247524754 caucasian fnr: 0.07404891304347826\n",
      "african fpr: 0.08553546592489569 caucasian fpr: 0.0034940600978336828\n",
      "african tnr: 0.9965059399021663 caucasian tnr: 0.9144645340751043\n",
      "african tpr: 0.9259510869565217 caucasian tpr: 0.9752475247524752\n",
      "african acc: 0.05539971949509115 caucasian acc: 0.039269720978298284\n"
     ]
    }
   ],
   "source": [
    "print('african fnr:',african_acc_fnr,'caucasian fnr:',caucasian_acc_fnr)\n",
    "print('african fpr:',african_acc_fpr,'caucasian fpr:',caucasian_acc_fpr)\n",
    "print('african tnr:',caucasian_acc_tnr,'caucasian tnr:',african_acc_tnr)\n",
    "print('african tpr:',caucasian_acc_tpr,'caucasian tpr:',african_acc_tpr)\n",
    "print('african acc:',(1-african_acc_acc),'caucasian acc:',(1-caucasian_acc_acc))"
   ]
  },
  {
   "cell_type": "code",
   "execution_count": 36,
   "metadata": {},
   "outputs": [
    {
     "data": {
      "application/vnd.jupyter.widget-view+json": {
       "model_id": "7f3a3246bf5043a9a56b8e799f3771ce",
       "version_major": 2,
       "version_minor": 0
      },
      "text/plain": [
       "  0%|          | 0/1001 [00:00<?, ?it/s]"
      ]
     },
     "metadata": {},
     "output_type": "display_data"
    }
   ],
   "source": [
    "val_cos = cos_sim(X_val[:,:2048],X_val[:,2048:])\n",
    "african_val_cos = val_cos[ethnicity_val=='african']\n",
    "caucasian_val_cos = val_cos[ethnicity_val=='caucasian']\n",
    "\n",
    "\n",
    "thresholds = np.arange(0,1.001,0.001)\n",
    "african_tpr_list = []\n",
    "african_tnr_list = []\n",
    "african_fpr_list = []\n",
    "african_fnr_list = []\n",
    "african_acc_list = []\n",
    "\n",
    "caucasian_tpr_list = []\n",
    "caucasian_tnr_list = []\n",
    "caucasian_fpr_list = []\n",
    "caucasian_fnr_list = []\n",
    "caucasian_acc_list = []\n",
    "for thresh in tqdm_notebook(thresholds,total=len(thresholds)):\n",
    "    african_pred = (african_val_cos>thresh)*1\n",
    "    african_tn, african_fp, african_fn, african_tp, african_acc = confusion_mat(african_pred, y_val[ethnicity_val=='african'].numpy())\n",
    "    african_tnr_list.append(african_tn/(african_tn+african_fp))\n",
    "    african_tpr_list.append(african_tp/(african_tp+african_fn))\n",
    "    african_fnr_list.append(african_fn/(african_fn+african_tp))\n",
    "    african_fpr_list.append(african_fp/(african_fp+african_tn))\n",
    "    african_acc_list.append(african_acc)\n",
    "\n",
    "    caucasian_pred = (caucasian_val_cos>thresh)*1\n",
    "    caucasian_tn, caucasian_fp, caucasian_fn, caucasian_tp, caucasian_acc = confusion_mat(caucasian_pred, y_val[ethnicity_val=='caucasian'].numpy())\n",
    "    caucasian_tnr_list.append(caucasian_tn/(caucasian_tn+caucasian_fp))\n",
    "    caucasian_tpr_list.append(caucasian_tp/(caucasian_tp+caucasian_fn))\n",
    "    caucasian_fnr_list.append(caucasian_fn/(caucasian_fn+caucasian_tp))\n",
    "    caucasian_fpr_list.append(caucasian_fp/(caucasian_fp+caucasian_tn))\n",
    "    caucasian_acc_list.append(caucasian_acc)"
   ]
  },
  {
   "cell_type": "code",
   "execution_count": 37,
   "metadata": {},
   "outputs": [
    {
     "data": {
      "image/png": "[encoded data removed]",
      "text/plain": [
       "<Figure size 576x396 with 1 Axes>"
      ]
     },
     "metadata": {},
     "output_type": "display_data"
    },
    {
     "data": {
      "image/png": "[encoded data removed]",
      "text/plain": [
       "<Figure size 576x396 with 1 Axes>"
      ]
     },
     "metadata": {},
     "output_type": "display_data"
    }
   ],
   "source": [
    "with plt.style.context('seaborn'):    \n",
    "    plt.plot(thresholds,african_fnr_list,label='african FNR')\n",
    "    plt.plot(thresholds,caucasian_fnr_list,label='caucasian FNR')\n",
    "    plt.legend()\n",
    "    plt.xlim(0.3,0.9)\n",
    "    plt.xlabel('Cosine Similarity Threshold')\n",
    "    plt.ylabel('Rate')\n",
    "plt.show()\n",
    "\n",
    "with plt.style.context('seaborn'):    \n",
    "    plt.plot(thresholds,african_fpr_list,label='african FPR')\n",
    "    plt.plot(thresholds,caucasian_fpr_list,label='caucasian FPR')\n",
    "    plt.legend()\n",
    "    plt.xlim(0.15,0.5)\n",
    "    plt.xlabel('Cosine Similarity Threshold')\n",
    "    plt.ylabel('Rate')\n",
    "    \n",
    "plt.show()"
   ]
  },
  {
   "cell_type": "code",
   "execution_count": 38,
   "metadata": {},
   "outputs": [
    {
     "name": "stdout",
     "output_type": "stream",
     "text": [
      "african      1433\n",
      "caucasian    1389\n",
      "Name: reference_ethnicity, dtype: int64\n",
      "african      1504\n",
      "caucasian    1430\n",
      "Name: reference_ethnicity, dtype: int64\n"
     ]
    }
   ],
   "source": [
    "matches = df_test[df_test.labels==1]\n",
    "non_matches = df_test[df_test.labels==0]\n",
    "print(non_matches['reference_ethnicity'].value_counts())\n",
    "print(matches['reference_ethnicity'].value_counts())"
   ]
  },
  {
   "cell_type": "code",
   "execution_count": null,
   "metadata": {},
   "outputs": [],
   "source": []
  }
 ],
 "metadata": {
  "kernelspec": {
   "display_name": "Python 3.9.13 ('mpsEnv')",
   "language": "python",
   "name": "python3"
  },
  "language_info": {
   "codemirror_mode": {
    "name": "ipython",
    "version": 3
   },
   "file_extension": ".py",
   "mimetype": "text/x-python",
   "name": "python",
   "nbconvert_exporter": "python",
   "pygments_lexer": "ipython3",
   "version": "3.9.13"
  },
  "orig_nbformat": 4,
  "vscode": {
   "interpreter": {
    "hash": "dd368a5ef6c8892f6c87c22c8d56888e698af74589d34ad1bd17c3290e3a6a05"
   }
  }
 },
 "nbformat": 4,
 "nbformat_minor": 2
}
