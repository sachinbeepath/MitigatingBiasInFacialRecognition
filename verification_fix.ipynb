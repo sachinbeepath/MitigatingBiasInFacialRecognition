{
 "cells": [
  {
   "cell_type": "code",
   "execution_count": 11,
   "metadata": {},
   "outputs": [
    {
     "name": "stdout",
     "output_type": "stream",
     "text": [
      "mps\n"
     ]
    }
   ],
   "source": [
    "import os\n",
    "import numpy as np\n",
    "import pandas as pd\n",
    "import torch\n",
    "import torch.nn as nn\n",
    "import torch.nn.functional as F\n",
    "import torch.optim as optim\n",
    "from torch.utils import data\n",
    "from torchvision import models,transforms\n",
    "import matplotlib.pyplot as plt\n",
    "import pickle\n",
    "from collections import OrderedDict\n",
    "import csv\n",
    "import collections\n",
    "from  PIL import Image\n",
    "from tqdm.notebook import tqdm_notebook\n",
    "from scipy.spatial import distance\n",
    "import warnings\n",
    "warnings.filterwarnings('ignore')\n",
    "import math\n",
    "device = torch.device(\"mps\" if torch.has_mps else \"cpu\")\n",
    "print(device)"
   ]
  },
  {
   "cell_type": "code",
   "execution_count": 12,
   "metadata": {},
   "outputs": [],
   "source": [
    "def corr2_coeff(A, B):\n",
    "    # Rowwise mean of input arrays & subtract from input arrays themeselves\n",
    "    A_mA = A - A.mean(1)[:, None]\n",
    "    B_mB = B - B.mean(1)[:, None]\n",
    "\n",
    "    # Sum of squares across rows\n",
    "    ssA = (A_mA**2).sum(1)\n",
    "    ssB = (B_mB**2).sum(1)\n",
    "\n",
    "    # Finally get corr coeff\n",
    "    return torch.matmul(A_mA, B_mB.T) / torch.sqrt(torch.matmul(ssA[:, None],ssB[None]))\n",
    "def cos_sim(a, b, eps=1e-8):\n",
    "    \"\"\"\n",
    "    added eps for numerical stability\n",
    "    \"\"\"\n",
    "    a_n, b_n = a.norm(dim=1)[:, None], b.norm(dim=1)[:, None]\n",
    "    a_norm = a / torch.max(a_n, eps * torch.ones_like(a_n))\n",
    "    b_norm = b / torch.max(b_n, eps * torch.ones_like(b_n))\n",
    "    sim_mt = torch.mm(a_norm, b_norm.transpose(0, 1))\n",
    "    return sim_mt\n"
   ]
  },
  {
   "cell_type": "code",
   "execution_count": 13,
   "metadata": {},
   "outputs": [
    {
     "name": "stdout",
     "output_type": "stream",
     "text": [
      "torch.Size([11403, 2048]) (11403,) (11403,) (11403,)\n",
      "torch.Size([29117, 2048]) (29117,) (29117,) (29117,)\n"
     ]
    },
    {
     "data": {
      "text/plain": [
       "array(['m.0c7mh2', 'm.0c7mh2', 'm.026tq86', ..., 'm.027nbyf', 'm.027nbyf',\n",
       "       'm.098d5s'], dtype='<U10')"
      ]
     },
     "execution_count": 13,
     "metadata": {},
     "output_type": "execute_result"
    }
   ],
   "source": [
    "reference_outputs = torch.load(\"outputs/RFW/ft/reference2_outputs.pt\")\n",
    "reference_identities = np.load('outputs/RFW/ft/reference2_identities.npy',allow_pickle=True)\n",
    "reference_ethnicities = np.load('outputs/RFW/ft/reference2_ethnicities.npy',allow_pickle=True)\n",
    "reference_faceIDs = np.load('outputs/RFW/ft/reference2_faceIDs.npy',allow_pickle=True)\n",
    "print(reference_outputs.shape,reference_identities.shape,reference_ethnicities.shape,reference_faceIDs.shape)\n",
    "\n",
    "candidate_outputs = torch.load(\"outputs/RFW/ft/candidate2_outputs.pt\")\n",
    "candidate_identities = np.load('outputs/RFW/ft/candidate2_identities.npy',allow_pickle=True)\n",
    "candidate_ethnicities = np.load('outputs/RFW/ft/candidate2_ethnicities.npy',allow_pickle=True)\n",
    "candidate_faceIDs = np.load('outputs/RFW/ft/candidate2_faceIDs.npy',allow_pickle=True)\n",
    "print(candidate_outputs.shape,candidate_identities.shape,candidate_ethnicities.shape,candidate_faceIDs.shape)\n",
    "\n",
    "candidate_identities"
   ]
  },
  {
   "cell_type": "code",
   "execution_count": 14,
   "metadata": {},
   "outputs": [],
   "source": [
    "reference_outputs = reference_outputs.to(device)\n",
    "candidate_outputs = candidate_outputs.to(device)"
   ]
  },
  {
   "cell_type": "code",
   "execution_count": 15,
   "metadata": {},
   "outputs": [],
   "source": [
    "cor = corr2_coeff(reference_outputs,candidate_outputs).cpu().detach().numpy()\n",
    "cos = cos_sim(reference_outputs,candidate_outputs).cpu().detach().numpy()"
   ]
  },
  {
   "cell_type": "code",
   "execution_count": 16,
   "metadata": {},
   "outputs": [],
   "source": [
    "def verification(similarity_mat, thresh,reference_identities,reference_ethnicities,candidate_identities):\n",
    "    verification = pd.DataFrame(columns=['reference_identity','reference_ethnicity','TPR','TNR','FPR','FNR'])\n",
    "    match_mat = np.abs(similarity_mat)>=thresh\n",
    "    for i, match_row in tqdm_notebook(enumerate(match_mat),total=len(match_mat)):\n",
    "        identity = reference_identities[i]\n",
    "        ethnicity = reference_ethnicities[i]\n",
    "        matches = candidate_identities[match_row]  \n",
    "        not_matches = candidate_identities[~match_row]\n",
    "        TP = np.sum(matches == identity)\n",
    "        FP = np.sum(matches != identity)\n",
    "        TN = np.sum(not_matches != identity)\n",
    "        FN = np.sum(not_matches == identity)\n",
    "        TPR = TP/(TP+FN)\n",
    "        TNR = TN/(TN+FP)\n",
    "        FPR = FP/(TN+FP)\n",
    "        FNR = FN/(TP+FN)\n",
    "        row = {'reference_identity': identity,\n",
    "           'reference_ethnicity': ethnicity, \n",
    "           'TPR': TPR,\n",
    "           'TNR': TNR,\n",
    "           'FPR': FPR,\n",
    "           'FNR': FNR}\n",
    "        verification = verification.append(row,ignore_index=True)\n",
    "    return verification\n"
   ]
  },
  {
   "cell_type": "code",
   "execution_count": null,
   "metadata": {},
   "outputs": [],
   "source": [
    "for thresh in np.arange(0.2,0.8,0.1):\n",
    "    cos_verificaiton = verification(cos, thresh,reference_identities,reference_ethnicities,candidate_identities)\n",
    "    African_cos = cos_verificaiton.loc[cos_verificaiton.reference_ethnicity == 'African']\n",
    "    African = np.round(1- African_cos.mean(axis=0)['FNR'],4)\n",
    "    AfricanFPR = np.round(African_cos.mean(axis=0)['FPR'],4)\n",
    "\n",
    "    Asian_cos = cos_verificaiton.loc[cos_verificaiton.reference_ethnicity == 'Asian']\n",
    "    Asian = np.round(1- Asian_cos.mean(axis=0)['FNR'],4)\n",
    "    AsianFPR = np.round(Asian_cos.mean(axis=0)['FPR'],4)\n",
    "\n",
    "    Indian_cos = cos_verificaiton.loc[cos_verificaiton.reference_ethnicity == 'Indian']\n",
    "    Indian = np.round(1- Indian_cos.mean(axis=0)['FNR'],4)\n",
    "    IndianFPR = np.round(Indian_cos.mean(axis=0)['FPR'],4)\n",
    "\n",
    "    Caucasian_cos = cos_verificaiton.loc[cos_verificaiton.reference_ethnicity == 'Caucasian']\n",
    "    Caucasian = np.round(1- Caucasian_cos.mean(axis=0)['FNR'],4)\n",
    "    CaucasianFPR = np.round(Caucasian_cos.mean(axis=0)['FPR'],4)\n",
    "\n",
    "    print('GAR for threshold =', np.round(thresh,2),', African:', African,'Asian:', Asian,'Indian:', Indian,'Caucasian:', Caucasian)\n",
    "    print('FAR for threshold =', np.round(thresh,2),', African:', AfricanFPR,'Asian:', AsianFPR,'Indian:', IndianFPR,'Caucasian:', CaucasianFPR)\n",
    "\n"
   ]
  },
  {
   "cell_type": "code",
   "execution_count": null,
   "metadata": {},
   "outputs": [],
   "source": [
    "for thresh in np.arange(0.2,0.6,0.05):\n",
    "    cos_verificaiton = verification(cor, thresh,reference_identities,reference_ethnicities,candidate_identities)\n",
    "    African_cos = cos_verificaiton.loc[cos_verificaiton.reference_ethnicity == 'African']\n",
    "    African = np.round(1- African_cos.mean(axis=0)['FNR'],4)\n",
    "    AfricanFPR = np.round(African_cos.mean(axis=0)['FPR'],4)\n",
    "\n",
    "    Asian_cos = cos_verificaiton.loc[cos_verificaiton.reference_ethnicity == 'Asian']\n",
    "    Asian = np.round(1- Asian_cos.mean(axis=0)['FNR'],4)\n",
    "    AsianFPR = np.round(Asian_cos.mean(axis=0)['FPR'],4)\n",
    "\n",
    "    Indian_cos = cos_verificaiton.loc[cos_verificaiton.reference_ethnicity == 'Indian']\n",
    "    Indian = np.round(1- Indian_cos.mean(axis=0)['FNR'],4)\n",
    "    IndianFPR = np.round(Indian_cos.mean(axis=0)['FPR'],4)\n",
    "\n",
    "    Caucasian_cos = cos_verificaiton.loc[cos_verificaiton.reference_ethnicity == 'Caucasian']\n",
    "    Caucasian = np.round(1- Caucasian_cos.mean(axis=0)['FNR'],4)\n",
    "    CaucasianFPR = np.round(Caucasian_cos.mean(axis=0)['FPR'],4)\n",
    "\n",
    "    print('GAR for threshold =', np.round(thresh,2),', African:', African,'Asian:', Asian,'Indian:', Indian,'Caucasian:', Caucasian)\n",
    "    print('FAR for threshold =', np.round(thresh,2),', African:', AfricanFPR,'Asian:', AsianFPR,'Indian:', IndianFPR,'Caucasian:', CaucasianFPR)\n",
    "\n"
   ]
  },
  {
   "cell_type": "code",
   "execution_count": 54,
   "metadata": {},
   "outputs": [
    {
     "data": {
      "application/vnd.jupyter.widget-view+json": {
       "model_id": "c3d1da42b9f24d6ea529d1f8864e868e",
       "version_major": 2,
       "version_minor": 0
      },
      "text/plain": [
       "  0%|          | 0/11403 [00:00<?, ?it/s]"
      ]
     },
     "metadata": {},
     "output_type": "display_data"
    },
    {
     "name": "stdout",
     "output_type": "stream",
     "text": [
      "thresh =  0.393 , FPR =  0.0105 , GAR =  0.9404\n"
     ]
    },
    {
     "data": {
      "application/vnd.jupyter.widget-view+json": {
       "model_id": "8fc283943de04ce18eb1be0cbf2b8ca8",
       "version_major": 2,
       "version_minor": 0
      },
      "text/plain": [
       "  0%|          | 0/11403 [00:00<?, ?it/s]"
      ]
     },
     "metadata": {},
     "output_type": "display_data"
    },
    {
     "name": "stdout",
     "output_type": "stream",
     "text": [
      "thresh =  0.3935 , FPR =  0.0103 , GAR =  0.9401\n"
     ]
    },
    {
     "data": {
      "application/vnd.jupyter.widget-view+json": {
       "model_id": "4cebbc25f1bd4822b1e1bb765d6232cc",
       "version_major": 2,
       "version_minor": 0
      },
      "text/plain": [
       "  0%|          | 0/11403 [00:00<?, ?it/s]"
      ]
     },
     "metadata": {},
     "output_type": "display_data"
    },
    {
     "name": "stdout",
     "output_type": "stream",
     "text": [
      "thresh =  0.394 , FPR =  0.0102 , GAR =  0.9399\n"
     ]
    },
    {
     "data": {
      "application/vnd.jupyter.widget-view+json": {
       "model_id": "fed234511dbb4d539153945ca86703fd",
       "version_major": 2,
       "version_minor": 0
      },
      "text/plain": [
       "  0%|          | 0/11403 [00:00<?, ?it/s]"
      ]
     },
     "metadata": {},
     "output_type": "display_data"
    },
    {
     "name": "stdout",
     "output_type": "stream",
     "text": [
      "thresh =  0.3945 , FPR =  0.01 , GAR =  0.9387\n"
     ]
    },
    {
     "data": {
      "application/vnd.jupyter.widget-view+json": {
       "model_id": "39537c2833b8446997df88e773e1f0dc",
       "version_major": 2,
       "version_minor": 0
      },
      "text/plain": [
       "  0%|          | 0/11403 [00:00<?, ?it/s]"
      ]
     },
     "metadata": {},
     "output_type": "display_data"
    },
    {
     "ename": "KeyboardInterrupt",
     "evalue": "",
     "output_type": "error",
     "traceback": [
      "\u001b[0;31m---------------------------------------------------------------------------\u001b[0m",
      "\u001b[0;31mKeyboardInterrupt\u001b[0m                         Traceback (most recent call last)",
      "\u001b[1;32m/Users/sachinbeepath/HolisticAI/DISS_CODE/MSc_Dissertation/verification_fix.ipynb Cell 9'\u001b[0m in \u001b[0;36m<cell line: 1>\u001b[0;34m()\u001b[0m\n\u001b[1;32m      <a href='vscode-notebook-cell:/Users/sachinbeepath/HolisticAI/DISS_CODE/MSc_Dissertation/verification_fix.ipynb#ch0000008?line=0'>1</a>\u001b[0m \u001b[39mfor\u001b[39;00m thresh \u001b[39min\u001b[39;00m np\u001b[39m.\u001b[39marange(\u001b[39m0.393\u001b[39m,\u001b[39m0.46\u001b[39m,\u001b[39m0.0005\u001b[39m):\n\u001b[0;32m----> <a href='vscode-notebook-cell:/Users/sachinbeepath/HolisticAI/DISS_CODE/MSc_Dissertation/verification_fix.ipynb#ch0000008?line=1'>2</a>\u001b[0m     cos_verificaiton \u001b[39m=\u001b[39m verification(cos, thresh,reference_identities,reference_ethnicities,candidate_identities)\n\u001b[1;32m      <a href='vscode-notebook-cell:/Users/sachinbeepath/HolisticAI/DISS_CODE/MSc_Dissertation/verification_fix.ipynb#ch0000008?line=2'>3</a>\u001b[0m     Caucasian_cos \u001b[39m=\u001b[39m cos_verificaiton\u001b[39m.\u001b[39mloc[cos_verificaiton\u001b[39m.\u001b[39mreference_ethnicity \u001b[39m==\u001b[39m \u001b[39m'\u001b[39m\u001b[39mCaucasian\u001b[39m\u001b[39m'\u001b[39m]\n\u001b[1;32m      <a href='vscode-notebook-cell:/Users/sachinbeepath/HolisticAI/DISS_CODE/MSc_Dissertation/verification_fix.ipynb#ch0000008?line=3'>4</a>\u001b[0m     \u001b[39mprint\u001b[39m(\u001b[39m'\u001b[39m\u001b[39mthresh = \u001b[39m\u001b[39m'\u001b[39m, thresh, \u001b[39m'\u001b[39m\u001b[39m, FPR = \u001b[39m\u001b[39m'\u001b[39m, np\u001b[39m.\u001b[39mround(Caucasian_cos\u001b[39m.\u001b[39mmean(axis\u001b[39m=\u001b[39m\u001b[39m0\u001b[39m)[\u001b[39m'\u001b[39m\u001b[39mFPR\u001b[39m\u001b[39m'\u001b[39m],\u001b[39m4\u001b[39m), \u001b[39m\"\u001b[39m\u001b[39m, GAR = \u001b[39m\u001b[39m\"\u001b[39m,  np\u001b[39m.\u001b[39mround(\u001b[39m1\u001b[39m\u001b[39m-\u001b[39m Caucasian_cos\u001b[39m.\u001b[39mmean(axis\u001b[39m=\u001b[39m\u001b[39m0\u001b[39m)[\u001b[39m'\u001b[39m\u001b[39mFNR\u001b[39m\u001b[39m'\u001b[39m],\u001b[39m4\u001b[39m))\n",
      "\u001b[1;32m/Users/sachinbeepath/HolisticAI/DISS_CODE/MSc_Dissertation/verification_fix.ipynb Cell 6'\u001b[0m in \u001b[0;36mverification\u001b[0;34m(similarity_mat, thresh, reference_identities, reference_ethnicities, candidate_identities)\u001b[0m\n\u001b[1;32m     <a href='vscode-notebook-cell:/Users/sachinbeepath/HolisticAI/DISS_CODE/MSc_Dissertation/verification_fix.ipynb#ch0000005?line=15'>16</a>\u001b[0m     FNR \u001b[39m=\u001b[39m FN\u001b[39m/\u001b[39m(TP\u001b[39m+\u001b[39mFN)\n\u001b[1;32m     <a href='vscode-notebook-cell:/Users/sachinbeepath/HolisticAI/DISS_CODE/MSc_Dissertation/verification_fix.ipynb#ch0000005?line=16'>17</a>\u001b[0m     row \u001b[39m=\u001b[39m {\u001b[39m'\u001b[39m\u001b[39mreference_identity\u001b[39m\u001b[39m'\u001b[39m: identity,\n\u001b[1;32m     <a href='vscode-notebook-cell:/Users/sachinbeepath/HolisticAI/DISS_CODE/MSc_Dissertation/verification_fix.ipynb#ch0000005?line=17'>18</a>\u001b[0m        \u001b[39m'\u001b[39m\u001b[39mreference_ethnicity\u001b[39m\u001b[39m'\u001b[39m: ethnicity, \n\u001b[1;32m     <a href='vscode-notebook-cell:/Users/sachinbeepath/HolisticAI/DISS_CODE/MSc_Dissertation/verification_fix.ipynb#ch0000005?line=18'>19</a>\u001b[0m        \u001b[39m'\u001b[39m\u001b[39mTPR\u001b[39m\u001b[39m'\u001b[39m: TPR,\n\u001b[1;32m     <a href='vscode-notebook-cell:/Users/sachinbeepath/HolisticAI/DISS_CODE/MSc_Dissertation/verification_fix.ipynb#ch0000005?line=19'>20</a>\u001b[0m        \u001b[39m'\u001b[39m\u001b[39mTNR\u001b[39m\u001b[39m'\u001b[39m: TNR,\n\u001b[1;32m     <a href='vscode-notebook-cell:/Users/sachinbeepath/HolisticAI/DISS_CODE/MSc_Dissertation/verification_fix.ipynb#ch0000005?line=20'>21</a>\u001b[0m        \u001b[39m'\u001b[39m\u001b[39mFPR\u001b[39m\u001b[39m'\u001b[39m: FPR,\n\u001b[1;32m     <a href='vscode-notebook-cell:/Users/sachinbeepath/HolisticAI/DISS_CODE/MSc_Dissertation/verification_fix.ipynb#ch0000005?line=21'>22</a>\u001b[0m        \u001b[39m'\u001b[39m\u001b[39mFNR\u001b[39m\u001b[39m'\u001b[39m: FNR}\n\u001b[0;32m---> <a href='vscode-notebook-cell:/Users/sachinbeepath/HolisticAI/DISS_CODE/MSc_Dissertation/verification_fix.ipynb#ch0000005?line=22'>23</a>\u001b[0m     verification \u001b[39m=\u001b[39m verification\u001b[39m.\u001b[39;49mappend(row,ignore_index\u001b[39m=\u001b[39;49m\u001b[39mTrue\u001b[39;49;00m)\n\u001b[1;32m     <a href='vscode-notebook-cell:/Users/sachinbeepath/HolisticAI/DISS_CODE/MSc_Dissertation/verification_fix.ipynb#ch0000005?line=23'>24</a>\u001b[0m \u001b[39mreturn\u001b[39;00m verification\n",
      "File \u001b[0;32m/opt/anaconda3/envs/mpsEnv/lib/python3.9/site-packages/pandas/core/frame.py:9039\u001b[0m, in \u001b[0;36mDataFrame.append\u001b[0;34m(self, other, ignore_index, verify_integrity, sort)\u001b[0m\n\u001b[1;32m   8936\u001b[0m \u001b[39m\"\"\"\u001b[39;00m\n\u001b[1;32m   8937\u001b[0m \u001b[39mAppend rows of `other` to the end of caller, returning a new object.\u001b[39;00m\n\u001b[1;32m   8938\u001b[0m \n\u001b[0;32m   (...)\u001b[0m\n\u001b[1;32m   9029\u001b[0m \u001b[39m4  4\u001b[39;00m\n\u001b[1;32m   9030\u001b[0m \u001b[39m\"\"\"\u001b[39;00m\n\u001b[1;32m   9031\u001b[0m warnings\u001b[39m.\u001b[39mwarn(\n\u001b[1;32m   9032\u001b[0m     \u001b[39m\"\u001b[39m\u001b[39mThe frame.append method is deprecated \u001b[39m\u001b[39m\"\u001b[39m\n\u001b[1;32m   9033\u001b[0m     \u001b[39m\"\u001b[39m\u001b[39mand will be removed from pandas in a future version. \u001b[39m\u001b[39m\"\u001b[39m\n\u001b[0;32m   (...)\u001b[0m\n\u001b[1;32m   9036\u001b[0m     stacklevel\u001b[39m=\u001b[39mfind_stack_level(),\n\u001b[1;32m   9037\u001b[0m )\n\u001b[0;32m-> 9039\u001b[0m \u001b[39mreturn\u001b[39;00m \u001b[39mself\u001b[39;49m\u001b[39m.\u001b[39;49m_append(other, ignore_index, verify_integrity, sort)\n",
      "File \u001b[0;32m/opt/anaconda3/envs/mpsEnv/lib/python3.9/site-packages/pandas/core/frame.py:9061\u001b[0m, in \u001b[0;36mDataFrame._append\u001b[0;34m(self, other, ignore_index, verify_integrity, sort)\u001b[0m\n\u001b[1;32m   9055\u001b[0m     \u001b[39mraise\u001b[39;00m \u001b[39mTypeError\u001b[39;00m(\n\u001b[1;32m   9056\u001b[0m         \u001b[39m\"\u001b[39m\u001b[39mCan only append a Series if ignore_index=True \u001b[39m\u001b[39m\"\u001b[39m\n\u001b[1;32m   9057\u001b[0m         \u001b[39m\"\u001b[39m\u001b[39mor if the Series has a name\u001b[39m\u001b[39m\"\u001b[39m\n\u001b[1;32m   9058\u001b[0m     )\n\u001b[1;32m   9060\u001b[0m index \u001b[39m=\u001b[39m Index([other\u001b[39m.\u001b[39mname], name\u001b[39m=\u001b[39m\u001b[39mself\u001b[39m\u001b[39m.\u001b[39mindex\u001b[39m.\u001b[39mname)\n\u001b[0;32m-> 9061\u001b[0m idx_diff \u001b[39m=\u001b[39m other\u001b[39m.\u001b[39;49mindex\u001b[39m.\u001b[39;49mdifference(\u001b[39mself\u001b[39;49m\u001b[39m.\u001b[39;49mcolumns)\n\u001b[1;32m   9062\u001b[0m combined_columns \u001b[39m=\u001b[39m \u001b[39mself\u001b[39m\u001b[39m.\u001b[39mcolumns\u001b[39m.\u001b[39mappend(idx_diff)\n\u001b[1;32m   9063\u001b[0m row_df \u001b[39m=\u001b[39m other\u001b[39m.\u001b[39mto_frame()\u001b[39m.\u001b[39mT\n",
      "File \u001b[0;32m/opt/anaconda3/envs/mpsEnv/lib/python3.9/site-packages/pandas/core/indexes/base.py:3436\u001b[0m, in \u001b[0;36mIndex.difference\u001b[0;34m(self, other, sort)\u001b[0m\n\u001b[1;32m   3433\u001b[0m \u001b[39mself\u001b[39m\u001b[39m.\u001b[39m_assert_can_do_setop(other)\n\u001b[1;32m   3434\u001b[0m other, result_name \u001b[39m=\u001b[39m \u001b[39mself\u001b[39m\u001b[39m.\u001b[39m_convert_can_do_setop(other)\n\u001b[0;32m-> 3436\u001b[0m \u001b[39mif\u001b[39;00m \u001b[39mself\u001b[39;49m\u001b[39m.\u001b[39;49mequals(other):\n\u001b[1;32m   3437\u001b[0m     \u001b[39m# Note: we do not (yet) sort even if sort=None GH#24959\u001b[39;00m\n\u001b[1;32m   3438\u001b[0m     \u001b[39mreturn\u001b[39;00m \u001b[39mself\u001b[39m[:\u001b[39m0\u001b[39m]\u001b[39m.\u001b[39mrename(result_name)\n\u001b[1;32m   3440\u001b[0m \u001b[39mif\u001b[39;00m \u001b[39mlen\u001b[39m(other) \u001b[39m==\u001b[39m \u001b[39m0\u001b[39m:\n\u001b[1;32m   3441\u001b[0m     \u001b[39m# Note: we do not (yet) sort even if sort=None GH#24959\u001b[39;00m\n",
      "File \u001b[0;32m/opt/anaconda3/envs/mpsEnv/lib/python3.9/site-packages/pandas/core/indexes/base.py:5243\u001b[0m, in \u001b[0;36mIndex.equals\u001b[0;34m(self, other)\u001b[0m\n\u001b[1;32m   5240\u001b[0m \u001b[39mif\u001b[39;00m \u001b[39mnot\u001b[39;00m \u001b[39misinstance\u001b[39m(other, Index):\n\u001b[1;32m   5241\u001b[0m     \u001b[39mreturn\u001b[39;00m \u001b[39mFalse\u001b[39;00m\n\u001b[0;32m-> 5243\u001b[0m \u001b[39mif\u001b[39;00m is_object_dtype(\u001b[39mself\u001b[39;49m\u001b[39m.\u001b[39;49mdtype) \u001b[39mand\u001b[39;00m \u001b[39mnot\u001b[39;00m is_object_dtype(other\u001b[39m.\u001b[39mdtype):\n\u001b[1;32m   5244\u001b[0m     \u001b[39m# if other is not object, use other's logic for coercion\u001b[39;00m\n\u001b[1;32m   5245\u001b[0m     \u001b[39mreturn\u001b[39;00m other\u001b[39m.\u001b[39mequals(\u001b[39mself\u001b[39m)\n\u001b[1;32m   5247\u001b[0m \u001b[39mif\u001b[39;00m \u001b[39misinstance\u001b[39m(other, ABCMultiIndex):\n\u001b[1;32m   5248\u001b[0m     \u001b[39m# d-level MultiIndex can equal d-tuple Index\u001b[39;00m\n",
      "\u001b[0;31mKeyboardInterrupt\u001b[0m: "
     ]
    }
   ],
   "source": [
    "for thresh in np.arange(0.393,0.46,0.0005):\n",
    "    cos_verificaiton = verification(cos, thresh,reference_identities,reference_ethnicities,candidate_identities)\n",
    "    Caucasian_cos = cos_verificaiton.loc[cos_verificaiton.reference_ethnicity == 'Caucasian']\n",
    "    print('thresh = ', thresh, ', FPR = ', np.round(Caucasian_cos.mean(axis=0)['FPR'],4), \", GAR = \",  np.round(1- Caucasian_cos.mean(axis=0)['FNR'],4))"
   ]
  },
  {
   "cell_type": "code",
   "execution_count": null,
   "metadata": {},
   "outputs": [],
   "source": [
    "for thresh in np.arange(0.265,0.275,0.0025):\n",
    "    cor_verificaiton = verification(cor, thresh,reference_identities,reference_ethnicities,candidate_identities)\n",
    "    print('thresh = ', thresh, 'FPR = ', np.round(cor_verificaiton.mean(axis=0)['FPR'],4))"
   ]
  },
  {
   "cell_type": "code",
   "execution_count": 56,
   "metadata": {},
   "outputs": [],
   "source": [
    "african_cos_thresh = 0.4515\n",
    "asian_cos_thresh = 0.4572\n",
    "indian_cos_thresh = 0.441\n",
    "caucasian_cos_thresh = 0.3945"
   ]
  },
  {
   "cell_type": "code",
   "execution_count": 58,
   "metadata": {},
   "outputs": [
    {
     "data": {
      "application/vnd.jupyter.widget-view+json": {
       "model_id": "14439b75cbea4eab94db9ffac23c3ae5",
       "version_major": 2,
       "version_minor": 0
      },
      "text/plain": [
       "  0%|          | 0/11403 [00:00<?, ?it/s]"
      ]
     },
     "metadata": {},
     "output_type": "display_data"
    },
    {
     "name": "stdout",
     "output_type": "stream",
     "text": [
      "GAR for threshold = 0.4 , African: 1.0 Asian: 1.0 Indian: 1.0 Caucasian: 1.0\n",
      "FAR for threshold = 0.4 , African: 1.0 Asian: 1.0 Indian: 1.0 Caucasian: 1.0\n"
     ]
    }
   ],
   "source": [
    "cos_verificaiton = verification(cos, 0,reference_identities,reference_ethnicities,candidate_identities)\n",
    "African_cos = cos_verificaiton.loc[cos_verificaiton.reference_ethnicity == 'African']\n",
    "African = np.round(1- African_cos.mean(axis=0)['FNR'],4)\n",
    "AfricanFPR = np.round(African_cos.mean(axis=0)['FPR'],4)\n",
    "\n",
    "Asian_cos = cos_verificaiton.loc[cos_verificaiton.reference_ethnicity == 'Asian']\n",
    "Asian = np.round(1- Asian_cos.mean(axis=0)['FNR'],4)\n",
    "AsianFPR = np.round(Asian_cos.mean(axis=0)['FPR'],4)\n",
    "\n",
    "Indian_cos = cos_verificaiton.loc[cos_verificaiton.reference_ethnicity == 'Indian']\n",
    "Indian = np.round(1- Indian_cos.mean(axis=0)['FNR'],4)\n",
    "IndianFPR = np.round(Indian_cos.mean(axis=0)['FPR'],4)\n",
    "\n",
    "Caucasian_cos = cos_verificaiton.loc[cos_verificaiton.reference_ethnicity == 'Caucasian']\n",
    "Caucasian = np.round(1- Caucasian_cos.mean(axis=0)['FNR'],4)\n",
    "CaucasianFPR = np.round(Caucasian_cos.mean(axis=0)['FPR'],4)\n",
    "\n",
    "print('GAR for threshold =', np.round(thresh,2),', African:', African,'Asian:', Asian,'Indian:', Indian,'Caucasian:', Caucasian)\n",
    "print('FAR for threshold =', np.round(thresh,2),', African:', AfricanFPR,'Asian:', AsianFPR,'Indian:', IndianFPR,'Caucasian:', CaucasianFPR)\n",
    "\n"
   ]
  },
  {
   "cell_type": "code",
   "execution_count": 13,
   "metadata": {},
   "outputs": [
    {
     "data": {
      "application/vnd.jupyter.widget-view+json": {
       "model_id": "0b843cdd9f9f481c91edcd74c2c1d158",
       "version_major": 2,
       "version_minor": 0
      },
      "text/plain": [
       "  0%|          | 0/11403 [00:00<?, ?it/s]"
      ]
     },
     "metadata": {},
     "output_type": "display_data"
    },
    {
     "name": "stdout",
     "output_type": "stream",
     "text": [
      "GAR for threshold = 0.27 , African: 0.9373 Asian: 0.9374 Indian: 0.9328 Caucasian: 0.872\n",
      "FAR for threshold = 0.27 , African: 0.0127 Asian: 0.0165 Indian: 0.0107 Caucasian: 0.0025\n"
     ]
    }
   ],
   "source": [
    "cor_verificaiton = verification(cor, cor_thresh,reference_identities,reference_ethnicities,candidate_identities)\n",
    "African_cor = cor_verificaiton.loc[cor_verificaiton.reference_ethnicity == 'African']\n",
    "African = np.round(1- African_cor.mean(axis=0)['FNR'],4)\n",
    "AfricanFPR = np.round(African_cor.mean(axis=0)['FPR'],4)\n",
    "\n",
    "Asian_cor = cor_verificaiton.loc[cor_verificaiton.reference_ethnicity == 'Asian']\n",
    "Asian = np.round(1- Asian_cor.mean(axis=0)['FNR'],4)\n",
    "AsianFPR = np.round(Asian_cor.mean(axis=0)['FPR'],4)\n",
    "\n",
    "Indian_cor = cor_verificaiton.loc[cor_verificaiton.reference_ethnicity == 'Indian']\n",
    "Indian = np.round(1- Indian_cor.mean(axis=0)['FNR'],4)\n",
    "IndianFPR = np.round(Indian_cor.mean(axis=0)['FPR'],4)\n",
    "\n",
    "Caucasian_cor = cor_verificaiton.loc[cor_verificaiton.reference_ethnicity == 'Caucasian']\n",
    "Caucasian = np.round(1- Caucasian_cor.mean(axis=0)['FNR'],4)\n",
    "CaucasianFPR = np.round(Caucasian_cor.mean(axis=0)['FPR'],4)\n",
    "\n",
    "print('GAR for threshold =', np.round(thresh,2),', African:', African,'Asian:', Asian,'Indian:', Indian,'Caucasian:', Caucasian)\n",
    "print('FAR for threshold =', np.round(thresh,2),', African:', AfricanFPR,'Asian:', AsianFPR,'Indian:', IndianFPR,'Caucasian:', CaucasianFPR)\n",
    "\n"
   ]
  },
  {
   "cell_type": "code",
   "execution_count": null,
   "metadata": {},
   "outputs": [],
   "source": []
  }
 ],
 "metadata": {
  "kernelspec": {
   "display_name": "Python 3.9.13 ('mpsEnv')",
   "language": "python",
   "name": "python3"
  },
  "language_info": {
   "codemirror_mode": {
    "name": "ipython",
    "version": 3
   },
   "file_extension": ".py",
   "mimetype": "text/x-python",
   "name": "python",
   "nbconvert_exporter": "python",
   "pygments_lexer": "ipython3",
   "version": "3.9.13"
  },
  "orig_nbformat": 4,
  "vscode": {
   "interpreter": {
    "hash": "dd368a5ef6c8892f6c87c22c8d56888e698af74589d34ad1bd17c3290e3a6a05"
   }
  }
 },
 "nbformat": 4,
 "nbformat_minor": 2
}
