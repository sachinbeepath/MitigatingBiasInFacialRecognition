{
 "cells": [
  {
   "cell_type": "code",
   "execution_count": 1,
   "metadata": {},
   "outputs": [
    {
     "name": "stderr",
     "output_type": "stream",
     "text": [
      "WARNING:root:No module named 'tensorflow': AdversarialDebiasing will be unavailable. To install, run:\n",
      "pip install 'aif360[AdversarialDebiasing]'\n"
     ]
    }
   ],
   "source": [
    "import argparse\n",
    "import copy\n",
    "import json\n",
    "import logging\n",
    "import math\n",
    "from pathlib import Path\n",
    "import numpy as np\n",
    "import pandas as pd\n",
    "import torch\n",
    "import torch.nn as nn\n",
    "import torch.nn.functional as F\n",
    "import torch.optim as optim\n",
    "import matplotlib.pyplot as plt\n",
    "from aif360.algorithms.postprocessing import (CalibratedEqOddsPostprocessing, EqOddsPostprocessing,RejectOptionClassification)\n",
    "from aif360.datasets import StandardDataset\n",
    "from sklearn.metrics import roc_auc_score\n",
    "\n",
    "\n"
   ]
  },
  {
   "cell_type": "code",
   "execution_count": 3,
   "metadata": {},
   "outputs": [],
   "source": [
    "from torchvision import models,transforms"
   ]
  },
  {
   "cell_type": "code",
   "execution_count": 5,
   "metadata": {},
   "outputs": [],
   "source": [
    "import yaml"
   ]
  },
  {
   "cell_type": "code",
   "execution_count": 7,
   "metadata": {},
   "outputs": [
    {
     "data": {
      "text/plain": [
       "{'seed': 4,\n",
       " 'output': 'fitz_dark_young.json',\n",
       " 'protected_attr': 'Fitz_Dark',\n",
       " 'prediction_attr': 'Young',\n",
       " 'metric': 'aod',\n",
       " 'trainsize': 40000,\n",
       " 'testsize': 10000,\n",
       " 'num_workers': 4,\n",
       " 'print_priors': False,\n",
       " 'retrain': False,\n",
       " 'optimizer': 'sgd',\n",
       " 'batch_size': 32,\n",
       " 'lr': 0.001,\n",
       " 'epochs': 10,\n",
       " 'checkpoint': 'test_checkpoint.pt',\n",
       " 'objective': {'epsilon': 0.05},\n",
       " 'models': ['default',\n",
       "  'layerwiseOpt',\n",
       "  'random',\n",
       "  'adversarial',\n",
       "  'ROC',\n",
       "  'EqOdds',\n",
       "  'CalibEqOdds'],\n",
       " 'CalibEqOdds': {'cost_constraint': 'fpr'},\n",
       " 'random': {'checkpoint': 'random_checkpoint.pt'},\n",
       " 'layerwiseOpt': {'max_sparsity': 5000, 'num_layers': 5},\n",
       " 'adversarial': {'margin': 0.01,\n",
       "  'epochs': 10,\n",
       "  'critic_steps': 301,\n",
       "  'actor_steps': 401,\n",
       "  'lambda': 20,\n",
       "  'checkpoint': 'adversarial_checkpoint.pt'}}"
      ]
     },
     "execution_count": 7,
     "metadata": {},
     "output_type": "execute_result"
    }
   ],
   "source": [
    "with open(\"config_celeba.yml\", 'r') as fh:\n",
    "        yaml_config = yaml.load(fh, Loader=yaml.FullLoader)\n",
    "\n",
    "\n",
    "yaml_config\n"
   ]
  },
  {
   "cell_type": "code",
   "execution_count": 9,
   "metadata": {},
   "outputs": [
    {
     "ename": "KeyError",
     "evalue": "'model_state_dict'",
     "output_type": "error",
     "traceback": [
      "\u001b[0;31m---------------------------------------------------------------------------\u001b[0m",
      "\u001b[0;31mKeyError\u001b[0m                                  Traceback (most recent call last)",
      "\u001b[1;32m/Users/sachinbeepath/Library/CloudStorage/OneDrive-holisticai.com/Dissertation/MSc_Dissertation/test_notebook.ipynb Cell 5'\u001b[0m in \u001b[0;36m<cell line: 1>\u001b[0;34m()\u001b[0m\n\u001b[0;32m----> <a href='vscode-notebook-cell:/Users/sachinbeepath/Library/CloudStorage/OneDrive-holisticai.com/Dissertation/MSc_Dissertation/test_notebook.ipynb#ch0000004?line=0'>1</a>\u001b[0m yaml_config[\u001b[39m'\u001b[39;49m\u001b[39mmodel_state_dict\u001b[39;49m\u001b[39m'\u001b[39;49m]\n",
      "\u001b[0;31mKeyError\u001b[0m: 'model_state_dict'"
     ]
    }
   ],
   "source": [
    "yaml_config['model_state_dict']"
   ]
  },
  {
   "cell_type": "code",
   "execution_count": null,
   "metadata": {},
   "outputs": [],
   "source": []
  }
 ],
 "metadata": {
  "kernelspec": {
   "display_name": "Python 3.9.12 ('dissEnv')",
   "language": "python",
   "name": "python3"
  },
  "language_info": {
   "codemirror_mode": {
    "name": "ipython",
    "version": 3
   },
   "file_extension": ".py",
   "mimetype": "text/x-python",
   "name": "python",
   "nbconvert_exporter": "python",
   "pygments_lexer": "ipython3",
   "version": "3.8.13"
  },
  "orig_nbformat": 4,
  "vscode": {
   "interpreter": {
    "hash": "3ab01ac27ec76bffb5c2aa0a183c02b22b22d6a3289db72f56ae87ad680cea4f"
   }
  }
 },
 "nbformat": 4,
 "nbformat_minor": 2
}
