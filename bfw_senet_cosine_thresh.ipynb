{
 "cells": [
  {
   "cell_type": "code",
   "execution_count": 1,
   "metadata": {},
   "outputs": [
    {
     "name": "stdout",
     "output_type": "stream",
     "text": [
      "mps\n"
     ]
    },
    {
     "name": "stderr",
     "output_type": "stream",
     "text": [
      "WARNING:root:No module named 'tensorflow': AdversarialDebiasing will be unavailable. To install, run:\n",
      "pip install 'aif360[AdversarialDebiasing]'\n"
     ]
    }
   ],
   "source": [
    "import os\n",
    "import numpy as np\n",
    "import pandas as pd\n",
    "import torch\n",
    "import torch.nn as nn\n",
    "import torch.nn.functional as F\n",
    "\n",
    "import torch.optim as optim\n",
    "from torch.utils import data\n",
    "\n",
    "from tqdm.notebook import tqdm_notebook\n",
    "\n",
    "import warnings\n",
    "warnings.filterwarnings('ignore')\n",
    "\n",
    "device = torch.device(\"mps\" if torch.has_mps else \"cpu\")\n",
    "print(device)\n",
    "from itertools import product\n",
    "from sklearn.model_selection import train_test_split\n",
    "from sklearn.preprocessing import StandardScaler\n",
    "from sklearn.metrics import confusion_matrix\n",
    "import matplotlib.pyplot as plt\n",
    "from aif360.algorithms.postprocessing import (CalibratedEqOddsPostprocessing,\n",
    "                                              EqOddsPostprocessing,\n",
    "                                              RejectOptionClassification)\n",
    "from aif360.datasets import StandardDataset\n",
    "from aif360.metrics import BinaryLabelDatasetMetric, ClassificationMetric\n",
    "from aif360.metrics.utils import compute_boolean_conditioning_vector\n",
    "random_state = 1"
   ]
  },
  {
   "cell_type": "code",
   "execution_count": 2,
   "metadata": {},
   "outputs": [
    {
     "data": {
      "text/html": [
       "<div>\n",
       "<style scoped>\n",
       "    .dataframe tbody tr th:only-of-type {\n",
       "        vertical-align: middle;\n",
       "    }\n",
       "\n",
       "    .dataframe tbody tr th {\n",
       "        vertical-align: top;\n",
       "    }\n",
       "\n",
       "    .dataframe thead th {\n",
       "        text-align: right;\n",
       "    }\n",
       "</style>\n",
       "<table border=\"1\" class=\"dataframe\">\n",
       "  <thead>\n",
       "    <tr style=\"text-align: right;\">\n",
       "      <th></th>\n",
       "      <th>reference_identity</th>\n",
       "      <th>candidate_identity</th>\n",
       "      <th>reference_ethnicity</th>\n",
       "      <th>candidate_ethnicity</th>\n",
       "      <th>reference_gender</th>\n",
       "      <th>candidate_gender</th>\n",
       "      <th>labels</th>\n",
       "    </tr>\n",
       "  </thead>\n",
       "  <tbody>\n",
       "    <tr>\n",
       "      <th>0</th>\n",
       "      <td>n004721</td>\n",
       "      <td>n004721</td>\n",
       "      <td>asian</td>\n",
       "      <td>asian</td>\n",
       "      <td>male</td>\n",
       "      <td>male</td>\n",
       "      <td>1.0</td>\n",
       "    </tr>\n",
       "    <tr>\n",
       "      <th>1</th>\n",
       "      <td>n004721</td>\n",
       "      <td>n004721</td>\n",
       "      <td>asian</td>\n",
       "      <td>asian</td>\n",
       "      <td>male</td>\n",
       "      <td>male</td>\n",
       "      <td>1.0</td>\n",
       "    </tr>\n",
       "    <tr>\n",
       "      <th>2</th>\n",
       "      <td>n004721</td>\n",
       "      <td>n004721</td>\n",
       "      <td>asian</td>\n",
       "      <td>asian</td>\n",
       "      <td>male</td>\n",
       "      <td>male</td>\n",
       "      <td>1.0</td>\n",
       "    </tr>\n",
       "    <tr>\n",
       "      <th>3</th>\n",
       "      <td>n004721</td>\n",
       "      <td>n004721</td>\n",
       "      <td>asian</td>\n",
       "      <td>asian</td>\n",
       "      <td>male</td>\n",
       "      <td>male</td>\n",
       "      <td>1.0</td>\n",
       "    </tr>\n",
       "    <tr>\n",
       "      <th>4</th>\n",
       "      <td>n004721</td>\n",
       "      <td>n004721</td>\n",
       "      <td>asian</td>\n",
       "      <td>asian</td>\n",
       "      <td>male</td>\n",
       "      <td>male</td>\n",
       "      <td>1.0</td>\n",
       "    </tr>\n",
       "    <tr>\n",
       "      <th>...</th>\n",
       "      <td>...</td>\n",
       "      <td>...</td>\n",
       "      <td>...</td>\n",
       "      <td>...</td>\n",
       "      <td>...</td>\n",
       "      <td>...</td>\n",
       "      <td>...</td>\n",
       "    </tr>\n",
       "    <tr>\n",
       "      <th>38395</th>\n",
       "      <td>n003412</td>\n",
       "      <td>n005685</td>\n",
       "      <td>white</td>\n",
       "      <td>white</td>\n",
       "      <td>male</td>\n",
       "      <td>male</td>\n",
       "      <td>0.0</td>\n",
       "    </tr>\n",
       "    <tr>\n",
       "      <th>38396</th>\n",
       "      <td>n008917</td>\n",
       "      <td>n008839</td>\n",
       "      <td>black</td>\n",
       "      <td>black</td>\n",
       "      <td>female</td>\n",
       "      <td>female</td>\n",
       "      <td>0.0</td>\n",
       "    </tr>\n",
       "    <tr>\n",
       "      <th>38397</th>\n",
       "      <td>n008452</td>\n",
       "      <td>n008150</td>\n",
       "      <td>asian</td>\n",
       "      <td>asian</td>\n",
       "      <td>male</td>\n",
       "      <td>male</td>\n",
       "      <td>0.0</td>\n",
       "    </tr>\n",
       "    <tr>\n",
       "      <th>38398</th>\n",
       "      <td>n004936</td>\n",
       "      <td>n002509</td>\n",
       "      <td>asian</td>\n",
       "      <td>asian</td>\n",
       "      <td>female</td>\n",
       "      <td>female</td>\n",
       "      <td>0.0</td>\n",
       "    </tr>\n",
       "    <tr>\n",
       "      <th>38399</th>\n",
       "      <td>n001016</td>\n",
       "      <td>n008153</td>\n",
       "      <td>white</td>\n",
       "      <td>white</td>\n",
       "      <td>female</td>\n",
       "      <td>female</td>\n",
       "      <td>0.0</td>\n",
       "    </tr>\n",
       "  </tbody>\n",
       "</table>\n",
       "<p>38400 rows × 7 columns</p>\n",
       "</div>"
      ],
      "text/plain": [
       "      reference_identity candidate_identity reference_ethnicity  \\\n",
       "0                n004721            n004721               asian   \n",
       "1                n004721            n004721               asian   \n",
       "2                n004721            n004721               asian   \n",
       "3                n004721            n004721               asian   \n",
       "4                n004721            n004721               asian   \n",
       "...                  ...                ...                 ...   \n",
       "38395            n003412            n005685               white   \n",
       "38396            n008917            n008839               black   \n",
       "38397            n008452            n008150               asian   \n",
       "38398            n004936            n002509               asian   \n",
       "38399            n001016            n008153               white   \n",
       "\n",
       "      candidate_ethnicity reference_gender candidate_gender  labels  \n",
       "0                   asian             male             male     1.0  \n",
       "1                   asian             male             male     1.0  \n",
       "2                   asian             male             male     1.0  \n",
       "3                   asian             male             male     1.0  \n",
       "4                   asian             male             male     1.0  \n",
       "...                   ...              ...              ...     ...  \n",
       "38395               white             male             male     0.0  \n",
       "38396               black           female           female     0.0  \n",
       "38397               asian             male             male     0.0  \n",
       "38398               asian           female           female     0.0  \n",
       "38399               white           female           female     0.0  \n",
       "\n",
       "[38400 rows x 7 columns]"
      ]
     },
     "execution_count": 2,
     "metadata": {},
     "output_type": "execute_result"
    }
   ],
   "source": [
    "# read in data and split\n",
    "X = torch.load('inputs/bfw_senet50_face_embeddings.pt').cpu()\n",
    "y = torch.load('inputs/bfw_senet50_labels.pt').cpu()\n",
    "df = pd.read_csv('inputs/bfw_senet50_df.csv')\n",
    "gender = df['reference_gender']\n",
    "df"
   ]
  },
  {
   "cell_type": "code",
   "execution_count": 3,
   "metadata": {},
   "outputs": [],
   "source": [
    "train_split, test_split = train_test_split(np.arange(len(X)),test_size=0.2, random_state=random_state)\n",
    "train_split, val_split = train_test_split(train_split,test_size=0.25, random_state=random_state)\n",
    "\n",
    "train_X = X[train_split]\n",
    "X_val = X[val_split]\n",
    "test_X = X[test_split]\n",
    "\n",
    "train_y = y[train_split]\n",
    "y_val = y[val_split]\n",
    "test_y = y[test_split]\n",
    "\n",
    "train_df = df.iloc[train_split]\n",
    "val_df = df.iloc[val_split]\n",
    "test_df = df.iloc[test_split]\n",
    "\n",
    "\n",
    "train_gender = gender[train_split].values\n",
    "train_gender[train_gender=='male'] = 0\n",
    "train_gender[train_gender=='female'] = 1\n",
    "train_gender = train_gender.astype(int)\n",
    "\n",
    "gender_val = gender[val_split].values\n",
    "gender_val[gender_val=='male'] = 0\n",
    "gender_val[gender_val=='female'] = 1\n",
    "gender_val = gender_val.astype(int)\n",
    "\n",
    "test_gender = gender[test_split].values\n",
    "test_gender[test_gender=='male'] = 0\n",
    "test_gender[test_gender=='female'] = 1\n",
    "test_gender = test_gender.astype(int)"
   ]
  },
  {
   "cell_type": "code",
   "execution_count": 4,
   "metadata": {},
   "outputs": [
    {
     "name": "stdout",
     "output_type": "stream",
     "text": [
      "non matches\n",
      "female    5804\n",
      "male      5675\n",
      "Name: reference_gender, dtype: int64\n",
      "matches\n",
      "female    5809\n",
      "male      5752\n",
      "Name: reference_gender, dtype: int64\n"
     ]
    }
   ],
   "source": [
    "train_matches = train_df[train_df.labels==1]\n",
    "train_non_matches = train_df[train_df.labels==0]\n",
    "print('non matches')\n",
    "print(train_non_matches['reference_gender'].value_counts())\n",
    "print('matches')\n",
    "print(train_matches['reference_gender'].value_counts())\n",
    "\n",
    "female_non_matches = train_non_matches[train_non_matches['reference_gender']=='female']\n",
    "male_non_matches = train_non_matches[train_non_matches['reference_gender']=='male']\n",
    "\n",
    "female_matches = train_matches[train_matches['reference_gender']=='female']\n",
    "male_matches = train_matches[train_matches['reference_gender']=='male']\n"
   ]
  },
  {
   "cell_type": "code",
   "execution_count": 5,
   "metadata": {},
   "outputs": [
    {
     "data": {
      "text/html": [
       "<div>\n",
       "<style scoped>\n",
       "    .dataframe tbody tr th:only-of-type {\n",
       "        vertical-align: middle;\n",
       "    }\n",
       "\n",
       "    .dataframe tbody tr th {\n",
       "        vertical-align: top;\n",
       "    }\n",
       "\n",
       "    .dataframe thead th {\n",
       "        text-align: right;\n",
       "    }\n",
       "</style>\n",
       "<table border=\"1\" class=\"dataframe\">\n",
       "  <thead>\n",
       "    <tr style=\"text-align: right;\">\n",
       "      <th></th>\n",
       "      <th>reference_identity</th>\n",
       "      <th>candidate_identity</th>\n",
       "      <th>reference_ethnicity</th>\n",
       "      <th>candidate_ethnicity</th>\n",
       "      <th>reference_gender</th>\n",
       "      <th>candidate_gender</th>\n",
       "      <th>labels</th>\n",
       "    </tr>\n",
       "  </thead>\n",
       "  <tbody>\n",
       "    <tr>\n",
       "      <th>17999</th>\n",
       "      <td>n000382</td>\n",
       "      <td>n000382</td>\n",
       "      <td>white</td>\n",
       "      <td>white</td>\n",
       "      <td>female</td>\n",
       "      <td>female</td>\n",
       "      <td>1.0</td>\n",
       "    </tr>\n",
       "    <tr>\n",
       "      <th>10563</th>\n",
       "      <td>n006634</td>\n",
       "      <td>n006634</td>\n",
       "      <td>asian</td>\n",
       "      <td>asian</td>\n",
       "      <td>female</td>\n",
       "      <td>female</td>\n",
       "      <td>1.0</td>\n",
       "    </tr>\n",
       "    <tr>\n",
       "      <th>17735</th>\n",
       "      <td>n001010</td>\n",
       "      <td>n001010</td>\n",
       "      <td>white</td>\n",
       "      <td>white</td>\n",
       "      <td>female</td>\n",
       "      <td>female</td>\n",
       "      <td>1.0</td>\n",
       "    </tr>\n",
       "    <tr>\n",
       "      <th>12546</th>\n",
       "      <td>n000460</td>\n",
       "      <td>n000460</td>\n",
       "      <td>black</td>\n",
       "      <td>black</td>\n",
       "      <td>female</td>\n",
       "      <td>female</td>\n",
       "      <td>1.0</td>\n",
       "    </tr>\n",
       "    <tr>\n",
       "      <th>12766</th>\n",
       "      <td>n003694</td>\n",
       "      <td>n003694</td>\n",
       "      <td>black</td>\n",
       "      <td>black</td>\n",
       "      <td>female</td>\n",
       "      <td>female</td>\n",
       "      <td>1.0</td>\n",
       "    </tr>\n",
       "    <tr>\n",
       "      <th>...</th>\n",
       "      <td>...</td>\n",
       "      <td>...</td>\n",
       "      <td>...</td>\n",
       "      <td>...</td>\n",
       "      <td>...</td>\n",
       "      <td>...</td>\n",
       "      <td>...</td>\n",
       "    </tr>\n",
       "    <tr>\n",
       "      <th>24318</th>\n",
       "      <td>n003465</td>\n",
       "      <td>n001976</td>\n",
       "      <td>asian</td>\n",
       "      <td>asian</td>\n",
       "      <td>male</td>\n",
       "      <td>male</td>\n",
       "      <td>0.0</td>\n",
       "    </tr>\n",
       "    <tr>\n",
       "      <th>28359</th>\n",
       "      <td>n004960</td>\n",
       "      <td>n009152</td>\n",
       "      <td>black</td>\n",
       "      <td>black</td>\n",
       "      <td>male</td>\n",
       "      <td>male</td>\n",
       "      <td>0.0</td>\n",
       "    </tr>\n",
       "    <tr>\n",
       "      <th>26106</th>\n",
       "      <td>n000964</td>\n",
       "      <td>n000512</td>\n",
       "      <td>white</td>\n",
       "      <td>white</td>\n",
       "      <td>male</td>\n",
       "      <td>male</td>\n",
       "      <td>0.0</td>\n",
       "    </tr>\n",
       "    <tr>\n",
       "      <th>26500</th>\n",
       "      <td>n009032</td>\n",
       "      <td>n005807</td>\n",
       "      <td>white</td>\n",
       "      <td>white</td>\n",
       "      <td>male</td>\n",
       "      <td>male</td>\n",
       "      <td>0.0</td>\n",
       "    </tr>\n",
       "    <tr>\n",
       "      <th>33679</th>\n",
       "      <td>n003398</td>\n",
       "      <td>n008955</td>\n",
       "      <td>white</td>\n",
       "      <td>white</td>\n",
       "      <td>male</td>\n",
       "      <td>male</td>\n",
       "      <td>0.0</td>\n",
       "    </tr>\n",
       "  </tbody>\n",
       "</table>\n",
       "<p>22700 rows × 7 columns</p>\n",
       "</div>"
      ],
      "text/plain": [
       "      reference_identity candidate_identity reference_ethnicity  \\\n",
       "17999            n000382            n000382               white   \n",
       "10563            n006634            n006634               asian   \n",
       "17735            n001010            n001010               white   \n",
       "12546            n000460            n000460               black   \n",
       "12766            n003694            n003694               black   \n",
       "...                  ...                ...                 ...   \n",
       "24318            n003465            n001976               asian   \n",
       "28359            n004960            n009152               black   \n",
       "26106            n000964            n000512               white   \n",
       "26500            n009032            n005807               white   \n",
       "33679            n003398            n008955               white   \n",
       "\n",
       "      candidate_ethnicity reference_gender candidate_gender  labels  \n",
       "17999               white           female           female     1.0  \n",
       "10563               asian           female           female     1.0  \n",
       "17735               white           female           female     1.0  \n",
       "12546               black           female           female     1.0  \n",
       "12766               black           female           female     1.0  \n",
       "...                   ...              ...              ...     ...  \n",
       "24318               asian             male             male     0.0  \n",
       "28359               black             male             male     0.0  \n",
       "26106               white             male             male     0.0  \n",
       "26500               white             male             male     0.0  \n",
       "33679               white             male             male     0.0  \n",
       "\n",
       "[22700 rows x 7 columns]"
      ]
     },
     "execution_count": 5,
     "metadata": {},
     "output_type": "execute_result"
    }
   ],
   "source": [
    "np.random.seed(random_state)\n",
    "female_matches_sub_idx = female_matches.index[np.random.choice(len(female_matches.index), size=5675, replace=False)]\n",
    "male_matches_sub_idx = male_matches.index[np.random.choice(len(male_matches.index), size=5675, replace=False)]\n",
    "female_non_matches_sub_idx = female_non_matches.index[np.random.choice(len(female_non_matches.index), size=5675, replace=False)]\n",
    "male_non_matches_sub_idx = male_non_matches.index\n",
    "\n",
    "X_train = torch.cat([X[female_matches_sub_idx],X[male_matches_sub_idx],X[female_non_matches_sub_idx],X[male_non_matches_sub_idx]])\n",
    "y_train = torch.cat([y[female_matches_sub_idx],y[male_matches_sub_idx],y[female_non_matches_sub_idx],y[male_non_matches_sub_idx]])\n",
    "gender_train = np.concatenate([gender[female_matches_sub_idx],gender[male_matches_sub_idx],gender[female_non_matches_sub_idx],gender[male_non_matches_sub_idx]])\n",
    "df_train = pd.concat([df.iloc[female_matches_sub_idx],df.iloc[male_matches_sub_idx],df.iloc[female_non_matches_sub_idx],df.iloc[male_non_matches_sub_idx]])\n",
    "df_train"
   ]
  },
  {
   "cell_type": "code",
   "execution_count": 6,
   "metadata": {},
   "outputs": [
    {
     "data": {
      "text/html": [
       "<div>\n",
       "<style scoped>\n",
       "    .dataframe tbody tr th:only-of-type {\n",
       "        vertical-align: middle;\n",
       "    }\n",
       "\n",
       "    .dataframe tbody tr th {\n",
       "        vertical-align: top;\n",
       "    }\n",
       "\n",
       "    .dataframe thead th {\n",
       "        text-align: right;\n",
       "    }\n",
       "</style>\n",
       "<table border=\"1\" class=\"dataframe\">\n",
       "  <thead>\n",
       "    <tr style=\"text-align: right;\">\n",
       "      <th></th>\n",
       "      <th>reference_identity</th>\n",
       "      <th>candidate_identity</th>\n",
       "      <th>reference_ethnicity</th>\n",
       "      <th>candidate_ethnicity</th>\n",
       "      <th>reference_gender</th>\n",
       "      <th>candidate_gender</th>\n",
       "      <th>labels</th>\n",
       "    </tr>\n",
       "  </thead>\n",
       "  <tbody>\n",
       "    <tr>\n",
       "      <th>5873</th>\n",
       "      <td>n008307</td>\n",
       "      <td>n008307</td>\n",
       "      <td>indian</td>\n",
       "      <td>indian</td>\n",
       "      <td>male</td>\n",
       "      <td>male</td>\n",
       "      <td>1.0</td>\n",
       "    </tr>\n",
       "    <tr>\n",
       "      <th>24669</th>\n",
       "      <td>n000806</td>\n",
       "      <td>n005599</td>\n",
       "      <td>white</td>\n",
       "      <td>white</td>\n",
       "      <td>female</td>\n",
       "      <td>female</td>\n",
       "      <td>0.0</td>\n",
       "    </tr>\n",
       "    <tr>\n",
       "      <th>4525</th>\n",
       "      <td>n002800</td>\n",
       "      <td>n002800</td>\n",
       "      <td>black</td>\n",
       "      <td>black</td>\n",
       "      <td>male</td>\n",
       "      <td>male</td>\n",
       "      <td>1.0</td>\n",
       "    </tr>\n",
       "    <tr>\n",
       "      <th>22366</th>\n",
       "      <td>n002273</td>\n",
       "      <td>n000596</td>\n",
       "      <td>black</td>\n",
       "      <td>black</td>\n",
       "      <td>female</td>\n",
       "      <td>female</td>\n",
       "      <td>0.0</td>\n",
       "    </tr>\n",
       "    <tr>\n",
       "      <th>19758</th>\n",
       "      <td>n003655</td>\n",
       "      <td>n002638</td>\n",
       "      <td>black</td>\n",
       "      <td>black</td>\n",
       "      <td>female</td>\n",
       "      <td>female</td>\n",
       "      <td>0.0</td>\n",
       "    </tr>\n",
       "    <tr>\n",
       "      <th>...</th>\n",
       "      <td>...</td>\n",
       "      <td>...</td>\n",
       "      <td>...</td>\n",
       "      <td>...</td>\n",
       "      <td>...</td>\n",
       "      <td>...</td>\n",
       "      <td>...</td>\n",
       "    </tr>\n",
       "    <tr>\n",
       "      <th>4412</th>\n",
       "      <td>n001280</td>\n",
       "      <td>n001280</td>\n",
       "      <td>black</td>\n",
       "      <td>black</td>\n",
       "      <td>male</td>\n",
       "      <td>male</td>\n",
       "      <td>1.0</td>\n",
       "    </tr>\n",
       "    <tr>\n",
       "      <th>37015</th>\n",
       "      <td>n000541</td>\n",
       "      <td>n007272</td>\n",
       "      <td>white</td>\n",
       "      <td>white</td>\n",
       "      <td>male</td>\n",
       "      <td>male</td>\n",
       "      <td>0.0</td>\n",
       "    </tr>\n",
       "    <tr>\n",
       "      <th>28389</th>\n",
       "      <td>n007046</td>\n",
       "      <td>n001024</td>\n",
       "      <td>indian</td>\n",
       "      <td>indian</td>\n",
       "      <td>female</td>\n",
       "      <td>female</td>\n",
       "      <td>0.0</td>\n",
       "    </tr>\n",
       "    <tr>\n",
       "      <th>15345</th>\n",
       "      <td>n003573</td>\n",
       "      <td>n003573</td>\n",
       "      <td>indian</td>\n",
       "      <td>indian</td>\n",
       "      <td>female</td>\n",
       "      <td>female</td>\n",
       "      <td>1.0</td>\n",
       "    </tr>\n",
       "    <tr>\n",
       "      <th>15783</th>\n",
       "      <td>n004528</td>\n",
       "      <td>n004528</td>\n",
       "      <td>indian</td>\n",
       "      <td>indian</td>\n",
       "      <td>female</td>\n",
       "      <td>female</td>\n",
       "      <td>1.0</td>\n",
       "    </tr>\n",
       "  </tbody>\n",
       "</table>\n",
       "<p>768 rows × 7 columns</p>\n",
       "</div>"
      ],
      "text/plain": [
       "      reference_identity candidate_identity reference_ethnicity  \\\n",
       "5873             n008307            n008307              indian   \n",
       "24669            n000806            n005599               white   \n",
       "4525             n002800            n002800               black   \n",
       "22366            n002273            n000596               black   \n",
       "19758            n003655            n002638               black   \n",
       "...                  ...                ...                 ...   \n",
       "4412             n001280            n001280               black   \n",
       "37015            n000541            n007272               white   \n",
       "28389            n007046            n001024              indian   \n",
       "15345            n003573            n003573              indian   \n",
       "15783            n004528            n004528              indian   \n",
       "\n",
       "      candidate_ethnicity reference_gender candidate_gender  labels  \n",
       "5873               indian             male             male     1.0  \n",
       "24669               white           female           female     0.0  \n",
       "4525                black             male             male     1.0  \n",
       "22366               black           female           female     0.0  \n",
       "19758               black           female           female     0.0  \n",
       "...                   ...              ...              ...     ...  \n",
       "4412                black             male             male     1.0  \n",
       "37015               white             male             male     0.0  \n",
       "28389              indian           female           female     0.0  \n",
       "15345              indian           female           female     1.0  \n",
       "15783              indian           female           female     1.0  \n",
       "\n",
       "[768 rows x 7 columns]"
      ]
     },
     "execution_count": 6,
     "metadata": {},
     "output_type": "execute_result"
    }
   ],
   "source": [
    "test_split, holdout_split = train_test_split(np.arange(7680),test_size=0.1, random_state=random_state)\n",
    "X_test = test_X[test_split]\n",
    "X_holdout = test_X[holdout_split]\n",
    "y_test = test_y[test_split]\n",
    "y_holdout = test_y[test_split]\n",
    "gender_test = test_gender[holdout_split]\n",
    "gender_holdout = test_gender[holdout_split]\n",
    "df_test = test_df.iloc[test_split]\n",
    "df_holdout = test_df.iloc[holdout_split]\n",
    "df_holdout"
   ]
  },
  {
   "cell_type": "code",
   "execution_count": 7,
   "metadata": {},
   "outputs": [],
   "source": [
    "cos_sim = nn.CosineSimilarity(dim=1, eps=1e-6)\n",
    "def confusion_mat(y_pred, y_test):\n",
    "    tn, fp, fn, tp = confusion_matrix(y_test, y_pred).ravel()\n",
    "    acc = (tn + tp)/(tn+tp+fn+fp)\n",
    "    return tn, fp, fn, tp, acc\n",
    "def AOE(tn_1,fp_1,fn_1,tp_1,tn_0,fp_0,fn_0,tp_0):\n",
    "    tpr_1 = tp_1/(tp_1+fn_1)\n",
    "    tpr_0 = tp_0/(tp_0+fn_0)\n",
    "\n",
    "    fpr_1 = fp_1/(fp_1+tn_1)\n",
    "    fpr_0 = fp_0/(fp_0+tn_0)\n",
    "\n",
    "\n",
    "    return (np.abs(fpr_1-fpr_0) + np.abs(tpr_1 - tpr_0))/2"
   ]
  },
  {
   "cell_type": "code",
   "execution_count": 8,
   "metadata": {},
   "outputs": [
    {
     "data": {
      "application/vnd.jupyter.widget-view+json": {
       "model_id": "57c739ca4e8b4c15b60245aa835ed330",
       "version_major": 2,
       "version_minor": 0
      },
      "text/plain": [
       "  0%|          | 0/1001 [00:00<?, ?it/s]"
      ]
     },
     "metadata": {},
     "output_type": "display_data"
    }
   ],
   "source": [
    "train_cos = cos_sim(X_train[:,:2048],X_train[:,2048:])\n",
    "thresholds = np.arange(0,1.001,0.001)\n",
    "tpr_list = []\n",
    "tnr_list = []\n",
    "fpr_list = []\n",
    "fnr_list = []\n",
    "acc_list = []\n",
    "for thresh in tqdm_notebook(thresholds,total=len(thresholds)):\n",
    "    pred = (train_cos>thresh)*1\n",
    "    tn, fp, fn, tp, acc = confusion_mat(pred, y_train.numpy())\n",
    "    tnr_list.append(tn/(tn+fp))\n",
    "    tpr_list.append(tp/(tp+fn))\n",
    "    fnr_list.append(fn/(fn+tp))\n",
    "    fpr_list.append(fp/(fp+tn))\n",
    "    acc_list.append(acc)\n"
   ]
  },
  {
   "cell_type": "code",
   "execution_count": 9,
   "metadata": {},
   "outputs": [
    {
     "data": {
      "text/plain": [
       "array([0.48665])"
      ]
     },
     "execution_count": 9,
     "metadata": {},
     "output_type": "execute_result"
    }
   ],
   "source": [
    "def solve(f,x):\n",
    "    s = np.sign(f)\n",
    "    z = np.where(s == 0)[0]\n",
    "    if z:\n",
    "        return z\n",
    "    else:\n",
    "        s = s[0:-1] + s[1:]\n",
    "        z = np.where(s == 0)[0]\n",
    "        return z\n",
    "\n",
    "def interp(f,x,z):\n",
    "    m = (f[z+1] - f[z]) / (x[z+1] - x[z])\n",
    "    return x[z] - f[z]/m\n",
    "f = np.array(fnr_list)-np.array(fpr_list)\n",
    "z = solve(f,thresholds)\n",
    "ans = interp(f,thresholds,z)\n",
    "ans"
   ]
  },
  {
   "cell_type": "code",
   "execution_count": 10,
   "metadata": {},
   "outputs": [
    {
     "data": {
      "image/png": "[encoded data removed]",
      "text/plain": [
       "<Figure size 576x396 with 1 Axes>"
      ]
     },
     "metadata": {},
     "output_type": "display_data"
    }
   ],
   "source": [
    "with plt.style.context('seaborn'):    \n",
    "    plt.plot(thresholds,fnr_list,label='FNR')\n",
    "    plt.plot(thresholds,fpr_list,label='FPR')\n",
    "    # plt.plot(thresholds,np.array(fnr_list)-np.array(fpr_list))\n",
    "    plt.axvline(x=ans,linestyle ='--')\n",
    "    plt.legend()\n",
    "plt.show()"
   ]
  },
  {
   "cell_type": "code",
   "execution_count": 11,
   "metadata": {},
   "outputs": [
    {
     "data": {
      "image/png": "[encoded data removed]",
      "text/plain": [
       "<Figure size 576x396 with 1 Axes>"
      ]
     },
     "metadata": {},
     "output_type": "display_data"
    }
   ],
   "source": [
    "with plt.style.context('seaborn'):    \n",
    "    plt.plot(thresholds,tnr_list,label='TNR')\n",
    "    plt.plot(thresholds,tpr_list,label='TPR')\n",
    "    plt.legend()\n",
    "    plt.axvline(x=ans,linestyle ='--')\n",
    "plt.show()"
   ]
  },
  {
   "cell_type": "code",
   "execution_count": 12,
   "metadata": {},
   "outputs": [
    {
     "name": "stdout",
     "output_type": "stream",
     "text": [
      "0.487\n",
      "[0.524]\n"
     ]
    }
   ],
   "source": [
    "print(thresholds[np.abs(thresholds-ans).argmin()])\n",
    "print(thresholds[acc_list == max(acc_list)])"
   ]
  },
  {
   "cell_type": "code",
   "execution_count": 15,
   "metadata": {},
   "outputs": [],
   "source": [
    "eer_thresh = 0.49\n",
    "acc_thresh = 0.537\n",
    "eer_pred = (train_cos>eer_thresh)*1\n",
    "acc_pred = (train_cos>acc_thresh)*1\n",
    "df_bias = df_train.drop(['reference_identity','candidate_identity','reference_ethnicity','candidate_ethnicity','candidate_gender'],axis=1)\n",
    "df_bias['eer_pred'] = eer_pred\n",
    "df_bias['acc_pred'] = acc_pred\n",
    "df_bias_female = df_bias[df_bias['reference_gender']=='female']\n",
    "df_bias_male = df_bias[df_bias['reference_gender']=='male']"
   ]
  },
  {
   "cell_type": "code",
   "execution_count": 16,
   "metadata": {},
   "outputs": [],
   "source": [
    "female_eer_tn, female_eer_fp, female_eer_fn, female_eer_tp, female_eer_acc = confusion_mat(df_bias_female['eer_pred'], df_bias_female['labels'])\n",
    "\n",
    "male_eer_tn, male_eer_fp, male_eer_fn, male_eer_tp, male_eer_acc = confusion_mat(df_bias_male['eer_pred'], df_bias_male['labels'])\n",
    "\n",
    "female_acc_tn, female_acc_fp, female_acc_fn, female_acc_tp, female_acc_acc = confusion_mat(df_bias_female['acc_pred'], df_bias_female['labels'])\n",
    "\n",
    "male_acc_tn, male_acc_fp, male_acc_fn, male_acc_tp, male_acc_acc = confusion_mat(df_bias_male['acc_pred'], df_bias_male['labels'])"
   ]
  },
  {
   "cell_type": "code",
   "execution_count": 17,
   "metadata": {},
   "outputs": [
    {
     "name": "stdout",
     "output_type": "stream",
     "text": [
      "1.3598102289193341\n",
      "1.0321246443716785\n",
      "1.001544554705872\n",
      "1.0151890041739349\n",
      "1.1843271259120944\n"
     ]
    }
   ],
   "source": [
    "female_eer_tnr = female_eer_tn/(female_eer_tn+female_eer_fp)\n",
    "female_eer_tpr = female_eer_tp/(female_eer_tp+female_eer_fn)\n",
    "female_eer_fnr = female_eer_fn/(female_eer_fn+female_eer_tp)\n",
    "female_eer_fpr = female_eer_fp/(female_eer_tn+female_eer_fp)\n",
    "\n",
    "male_eer_tnr = male_eer_tn/(male_eer_tn+male_eer_fp)\n",
    "male_eer_tpr = male_eer_tp/(male_eer_tp+male_eer_fn)\n",
    "male_eer_fnr = male_eer_fn/(male_eer_fn+male_eer_tp)\n",
    "male_eer_fpr = male_eer_fp/(male_eer_tn+male_eer_fp)\n",
    "\n",
    "print(female_eer_fnr/male_eer_fnr)\n",
    "print(female_eer_fpr/male_eer_fpr)\n",
    "print(male_eer_tnr/female_eer_tnr)\n",
    "print(male_eer_tpr/female_eer_tpr)\n",
    "print((1-female_eer_acc)/(1-male_eer_acc))"
   ]
  },
  {
   "cell_type": "code",
   "execution_count": 18,
   "metadata": {},
   "outputs": [
    {
     "name": "stdout",
     "output_type": "stream",
     "text": [
      "female fnr: 0.05428671820098384 male fnr: 0.03992227521639286\n",
      "female fpr: 0.047278436845778087 male fpr: 0.04580690627202255\n",
      "female tnr: 0.9541930937279774 male tnr: 0.952721563154222\n",
      "female tpr: 0.9600777247836071 male tpr: 0.9457132817990161\n",
      "female mis class: 0.05077030812324934 male mis class: 0.04286848372585339\n"
     ]
    }
   ],
   "source": [
    "print('female fnr:',female_eer_fnr,'male fnr:',male_eer_fnr)\n",
    "print('female fpr:',female_eer_fpr,'male fpr:',male_eer_fpr)\n",
    "print('female tnr:',male_eer_tnr,'male tnr:',female_eer_tnr)\n",
    "print('female tpr:',male_eer_tpr,'male tpr:',female_eer_tpr)\n",
    "print('female mis class:',(1-female_eer_acc),'male mis class:',(1-male_eer_acc))"
   ]
  },
  {
   "cell_type": "code",
   "execution_count": 19,
   "metadata": {},
   "outputs": [
    {
     "name": "stdout",
     "output_type": "stream",
     "text": [
      "1.2799228782022616\n",
      "0.9902302861130495\n",
      "0.9998372854107624\n",
      "1.0189105602913806\n",
      "1.217622273628553\n"
     ]
    }
   ],
   "source": [
    "female_acc_tnr = female_acc_tn/(female_acc_tn+female_acc_fp)\n",
    "female_acc_tpr = female_acc_tp/(female_acc_tp+female_acc_fn)\n",
    "female_acc_fnr = female_acc_fn/(female_acc_fn+female_acc_tp)\n",
    "female_acc_fpr = female_acc_fp/(female_acc_tn+female_acc_fp)\n",
    "\n",
    "male_acc_tnr = male_acc_tn/(male_acc_tn+male_acc_fp)\n",
    "male_acc_tpr = male_acc_tp/(male_acc_tp+male_acc_fn)\n",
    "male_acc_fnr = male_acc_fn/(male_acc_fn+male_acc_tp)\n",
    "male_acc_fpr = male_acc_fp/(male_acc_tn+male_acc_fp)\n",
    "\n",
    "print(female_acc_fnr/male_acc_fnr)\n",
    "print(female_acc_fpr/male_acc_fpr)\n",
    "print(male_acc_tnr/female_acc_tnr)\n",
    "print(male_acc_tpr/female_acc_tpr)\n",
    "print((1-female_acc_acc)/(1-male_acc_acc))"
   ]
  },
  {
   "cell_type": "code",
   "execution_count": 20,
   "metadata": {},
   "outputs": [
    {
     "name": "stdout",
     "output_type": "stream",
     "text": [
      "female fnr: 0.07958538299367533 male fnr: 0.062179826885709236\n",
      "female fpr: 0.016224703419399862 male fpr: 0.01638477801268499\n",
      "female tnr: 0.983615221987315 male tnr: 0.9837752965806001\n",
      "female tpr: 0.9378201731142908 male tpr: 0.9204146170063247\n",
      "female acc: 0.047794117647058876 male acc: 0.03925200670371354\n"
     ]
    }
   ],
   "source": [
    "print('female fnr:',female_acc_fnr,'male fnr:',male_acc_fnr)\n",
    "print('female fpr:',female_acc_fpr,'male fpr:',male_acc_fpr)\n",
    "print('female tnr:',male_acc_tnr,'male tnr:',female_acc_tnr)\n",
    "print('female tpr:',male_acc_tpr,'male tpr:',female_acc_tpr)\n",
    "print('female acc:',(1-female_acc_acc),'male acc:',(1-male_acc_acc))"
   ]
  },
  {
   "cell_type": "code",
   "execution_count": 21,
   "metadata": {},
   "outputs": [
    {
     "data": {
      "application/vnd.jupyter.widget-view+json": {
       "model_id": "450c620f6cf14921941bc3bff4210ccd",
       "version_major": 2,
       "version_minor": 0
      },
      "text/plain": [
       "  0%|          | 0/1001 [00:00<?, ?it/s]"
      ]
     },
     "metadata": {},
     "output_type": "display_data"
    }
   ],
   "source": [
    "train_cos = cos_sim(X_train[:,:2048],X_train[:,2048:])\n",
    "female_train_cos = train_cos[gender_train=='female']\n",
    "male_train_cos = train_cos[gender_train=='male']\n",
    "\n",
    "\n",
    "thresholds = np.arange(0,1.001,0.001)\n",
    "female_tpr_list = []\n",
    "female_tnr_list = []\n",
    "female_fpr_list = []\n",
    "female_fnr_list = []\n",
    "female_acc_list = []\n",
    "\n",
    "male_tpr_list = []\n",
    "male_tnr_list = []\n",
    "male_fpr_list = []\n",
    "male_fnr_list = []\n",
    "male_acc_list = []\n",
    "for thresh in tqdm_notebook(thresholds,total=len(thresholds)):\n",
    "    female_pred = (female_train_cos>thresh)*1\n",
    "    female_tn, female_fp, female_fn, female_tp, female_acc = confusion_mat(female_pred, y_train[gender_train=='female'].numpy())\n",
    "    female_tnr_list.append(female_tn/(female_tn+female_fp))\n",
    "    female_tpr_list.append(female_tp/(female_tp+female_fn))\n",
    "    female_fnr_list.append(female_fn/(female_fn+female_tp))\n",
    "    female_fpr_list.append(female_fp/(female_fp+female_tn))\n",
    "    female_acc_list.append(female_acc)\n",
    "\n",
    "    male_pred = (male_train_cos>thresh)*1\n",
    "    male_tn, male_fp, male_fn, male_tp, male_acc = confusion_mat(male_pred, y_train[gender_train=='male'].numpy())\n",
    "    male_tnr_list.append(male_tn/(male_tn+male_fp))\n",
    "    male_tpr_list.append(male_tp/(male_tp+male_fn))\n",
    "    male_fnr_list.append(male_fn/(male_fn+male_tp))\n",
    "    male_fpr_list.append(male_fp/(male_fp+male_tn))\n",
    "    male_acc_list.append(male_acc)"
   ]
  },
  {
   "cell_type": "code",
   "execution_count": 22,
   "metadata": {},
   "outputs": [
    {
     "data": {
      "image/png": "[encoded data removed]",
      "text/plain": [
       "<Figure size 576x396 with 1 Axes>"
      ]
     },
     "metadata": {},
     "output_type": "display_data"
    }
   ],
   "source": [
    "with plt.style.context('seaborn'):    \n",
    "    plt.plot(thresholds,female_fnr_list,label='Female FNR')\n",
    "    plt.plot(thresholds,male_fnr_list,label='Male FNR')\n",
    "    plt.legend()\n",
    "    plt.xlabel('Cosine Similarity Threshold')\n",
    "    plt.ylabel('Rate')\n",
    "    plt.xlim(0.3,0.9)\n",
    "plt.show()"
   ]
  },
  {
   "cell_type": "code",
   "execution_count": 23,
   "metadata": {},
   "outputs": [
    {
     "data": {
      "image/png": "[encoded data removed]",
      "text/plain": [
       "<Figure size 576x396 with 1 Axes>"
      ]
     },
     "metadata": {},
     "output_type": "display_data"
    }
   ],
   "source": [
    "with plt.style.context('seaborn'):    \n",
    "    plt.plot(thresholds,female_fpr_list,label='Female FPR')\n",
    "    plt.plot(thresholds,male_fpr_list,label='Male FPR')\n",
    "    plt.legend()\n",
    "    plt.xlabel('Cosine Similarity Threshold')\n",
    "    plt.ylabel('Rate')\n",
    "    plt.legend()\n",
    "    plt.xlim(0.15,0.5)\n",
    "plt.show()"
   ]
  },
  {
   "cell_type": "markdown",
   "metadata": {},
   "source": [
    "### do all bias on validation set now"
   ]
  },
  {
   "cell_type": "code",
   "execution_count": 24,
   "metadata": {},
   "outputs": [
    {
     "name": "stdout",
     "output_type": "stream",
     "text": [
      "male      1914\n",
      "female    1906\n",
      "Name: reference_gender, dtype: int64\n",
      "male      1894\n",
      "female    1873\n",
      "Name: reference_gender, dtype: int64\n"
     ]
    }
   ],
   "source": [
    "matches = df_val[df_val.labels==1]\n",
    "non_matches = df_val[df_val.labels==0]\n",
    "print(non_matches['reference_gender'].value_counts())\n",
    "print(matches['reference_gender'].value_counts())"
   ]
  },
  {
   "cell_type": "code",
   "execution_count": 25,
   "metadata": {},
   "outputs": [
    {
     "data": {
      "application/vnd.jupyter.widget-view+json": {
       "model_id": "06a7828d9c8d4372a5511bbf24e89b0c",
       "version_major": 2,
       "version_minor": 0
      },
      "text/plain": [
       "  0%|          | 0/1001 [00:00<?, ?it/s]"
      ]
     },
     "metadata": {},
     "output_type": "display_data"
    },
    {
     "data": {
      "text/plain": [
       "array([0.4875411])"
      ]
     },
     "execution_count": 25,
     "metadata": {},
     "output_type": "execute_result"
    }
   ],
   "source": [
    "# bias on validation\n",
    "val_cos = cos_sim(X_val[:,:2048],X_val[:,2048:])\n",
    "thresholds = np.arange(0,1.001,0.001)\n",
    "tpr_list = []\n",
    "tnr_list = []\n",
    "fpr_list = []\n",
    "fnr_list = []\n",
    "acc_list = []\n",
    "for thresh in tqdm_notebook(thresholds,total=len(thresholds)):\n",
    "    pred = (val_cos>thresh)*1\n",
    "    tn, fp, fn, tp, acc = confusion_mat(pred, y_val.numpy())\n",
    "    tnr_list.append(tn/(tn+fp))\n",
    "    tpr_list.append(tp/(tp+fn))\n",
    "    fnr_list.append(fn/(fn+tp))\n",
    "    fpr_list.append(fp/(fp+tn))\n",
    "    acc_list.append(acc)\n",
    "f = np.array(fnr_list)-np.array(fpr_list)\n",
    "z = solve(f,thresholds)\n",
    "ans = interp(f,thresholds,z)\n",
    "ans"
   ]
  },
  {
   "cell_type": "code",
   "execution_count": 26,
   "metadata": {},
   "outputs": [
    {
     "data": {
      "image/png": "[encoded data removed]",
      "text/plain": [
       "<Figure size 576x396 with 1 Axes>"
      ]
     },
     "metadata": {},
     "output_type": "display_data"
    },
    {
     "data": {
      "image/png": "[encoded data removed]",
      "text/plain": [
       "<Figure size 576x396 with 1 Axes>"
      ]
     },
     "metadata": {},
     "output_type": "display_data"
    },
    {
     "name": "stdout",
     "output_type": "stream",
     "text": [
      "0.488\n",
      "[0.511]\n"
     ]
    }
   ],
   "source": [
    "with plt.style.context('seaborn'):    \n",
    "    plt.plot(thresholds,fnr_list,label='FNR')\n",
    "    plt.plot(thresholds,fpr_list,label='FPR')\n",
    "    # plt.plot(thresholds,np.array(fnr_list)-np.array(fpr_list))\n",
    "    plt.axvline(x=ans,linestyle ='--')\n",
    "    plt.legend()\n",
    "plt.show()\n",
    "with plt.style.context('seaborn'):    \n",
    "    plt.plot(thresholds,tnr_list,label='TNR')\n",
    "    plt.plot(thresholds,tpr_list,label='TPR')\n",
    "    plt.legend()\n",
    "    plt.axvline(x=ans,linestyle ='--')\n",
    "plt.show()\n",
    "print(thresholds[np.abs(thresholds-ans).argmin()])\n",
    "print(thresholds[acc_list == max(acc_list)])\n"
   ]
  },
  {
   "cell_type": "code",
   "execution_count": 27,
   "metadata": {},
   "outputs": [],
   "source": [
    "eer_thresh = 0.49\n",
    "acc_thresh = 0.537\n",
    "eer_pred = (val_cos>eer_thresh)*1\n",
    "acc_pred = (val_cos>acc_thresh)*1\n",
    "df_bias = df_val.drop(['reference_identity','candidate_identity','reference_ethnicity','candidate_ethnicity','candidate_gender'],axis=1)\n",
    "df_bias['eer_pred'] = eer_pred\n",
    "df_bias['acc_pred'] = acc_pred\n",
    "df_bias_female = df_bias[df_bias['reference_gender']=='female']\n",
    "df_bias_male = df_bias[df_bias['reference_gender']=='male']\n",
    "\n",
    "female_eer_tn, female_eer_fp, female_eer_fn, female_eer_tp, female_eer_acc = confusion_mat(df_bias_female['eer_pred'], df_bias_female['labels'])\n",
    "male_eer_tn, male_eer_fp, male_eer_fn, male_eer_tp, male_eer_acc = confusion_mat(df_bias_male['eer_pred'], df_bias_male['labels'])\n",
    "\n",
    "female_acc_tn, female_acc_fp, female_acc_fn, female_acc_tp, female_acc_acc = confusion_mat(df_bias_female['acc_pred'], df_bias_female['labels'])\n",
    "male_acc_tn, male_acc_fp, male_acc_fn, male_acc_tp, male_acc_acc = confusion_mat(df_bias_male['acc_pred'], df_bias_male['labels'])\n",
    "\n"
   ]
  },
  {
   "cell_type": "code",
   "execution_count": 28,
   "metadata": {},
   "outputs": [
    {
     "name": "stdout",
     "output_type": "stream",
     "text": [
      "1.1927115418839924\n",
      "1.4522237468722252\n",
      "1.0161543500776202\n",
      "1.0083463426868262\n",
      "1.310680851300065\n"
     ]
    }
   ],
   "source": [
    "female_eer_tnr = female_eer_tn/(female_eer_tn+female_eer_fp)\n",
    "female_eer_tpr = female_eer_tp/(female_eer_tp+female_eer_fn)\n",
    "female_eer_fnr = female_eer_fn/(female_eer_fn+female_eer_tp)\n",
    "female_eer_fpr = female_eer_fp/(female_eer_tn+female_eer_fp)\n",
    "\n",
    "male_eer_tnr = male_eer_tn/(male_eer_tn+male_eer_fp)\n",
    "male_eer_tpr = male_eer_tp/(male_eer_tp+male_eer_fn)\n",
    "male_eer_fnr = male_eer_fn/(male_eer_fn+male_eer_tp)\n",
    "male_eer_fpr = male_eer_fp/(male_eer_tn+male_eer_fp)\n",
    "\n",
    "print(female_eer_fnr/male_eer_fnr)\n",
    "print(female_eer_fpr/male_eer_fpr)\n",
    "print(male_eer_tnr/female_eer_tnr)\n",
    "print(male_eer_tpr/female_eer_tpr)\n",
    "print((1-female_eer_acc)/(1-male_eer_acc))"
   ]
  },
  {
   "cell_type": "code",
   "execution_count": 29,
   "metadata": {},
   "outputs": [
    {
     "name": "stdout",
     "output_type": "stream",
     "text": [
      "female fnr: 0.04911906033101975 male fnr: 0.04118268215417107\n",
      "female fpr: 0.04931794333683106 male fpr: 0.03396029258098224\n",
      "female tnr: 0.9660397074190178 male tnr: 0.950682056663169\n",
      "female tpr: 0.9588173178458289 male tpr: 0.9508809396689802\n",
      "female mis class: 0.04921937020375766 male mis class: 0.03755252100840334\n"
     ]
    }
   ],
   "source": [
    "print('female fnr:',female_eer_fnr,'male fnr:',male_eer_fnr)\n",
    "print('female fpr:',female_eer_fpr,'male fpr:',male_eer_fpr)\n",
    "print('female tnr:',male_eer_tnr,'male tnr:',female_eer_tnr)\n",
    "print('female tpr:',male_eer_tpr,'male tpr:',female_eer_tpr)\n",
    "print('female mis class:',(1-female_eer_acc),'male mis class:',(1-male_eer_acc))"
   ]
  },
  {
   "cell_type": "code",
   "execution_count": 30,
   "metadata": {},
   "outputs": [
    {
     "name": "stdout",
     "output_type": "stream",
     "text": [
      "1.213454351308062\n",
      "1.1586891597384776\n",
      "1.0021901241664495\n",
      "1.0153139614912472\n",
      "1.201200780191685\n"
     ]
    }
   ],
   "source": [
    "female_acc_tnr = female_acc_tn/(female_acc_tn+female_acc_fp)\n",
    "female_acc_tpr = female_acc_tp/(female_acc_tp+female_acc_fn)\n",
    "female_acc_fnr = female_acc_fn/(female_acc_fn+female_acc_tp)\n",
    "female_acc_fpr = female_acc_fp/(female_acc_tn+female_acc_fp)\n",
    "\n",
    "male_acc_tnr = male_acc_tn/(male_acc_tn+male_acc_fp)\n",
    "male_acc_tpr = male_acc_tp/(male_acc_tp+male_acc_fn)\n",
    "male_acc_fnr = male_acc_fn/(male_acc_fn+male_acc_tp)\n",
    "male_acc_fpr = male_acc_fp/(male_acc_tn+male_acc_fp)\n",
    "\n",
    "print(female_acc_fnr/male_acc_fnr)\n",
    "print(female_acc_fpr/male_acc_fpr)\n",
    "print(male_acc_tnr/female_acc_tnr)\n",
    "print(male_acc_tpr/female_acc_tpr)\n",
    "print((1-female_acc_acc)/(1-male_acc_acc))"
   ]
  },
  {
   "cell_type": "code",
   "execution_count": 31,
   "metadata": {},
   "outputs": [
    {
     "name": "stdout",
     "output_type": "stream",
     "text": [
      "female fnr: 0.0800854244527496 male fnr: 0.06599788806758183\n",
      "female fpr: 0.015739769150052464 male fpr: 0.013584117032392894\n",
      "female tnr: 0.9864158829676071 male tnr: 0.9842602308499475\n",
      "female tpr: 0.9340021119324181 male tpr: 0.9199145755472504\n",
      "female acc: 0.047631648584281594 male acc: 0.039653361344537785\n"
     ]
    }
   ],
   "source": [
    "print('female fnr:',female_acc_fnr,'male fnr:',male_acc_fnr)\n",
    "print('female fpr:',female_acc_fpr,'male fpr:',male_acc_fpr)\n",
    "print('female tnr:',male_acc_tnr,'male tnr:',female_acc_tnr)\n",
    "print('female tpr:',male_acc_tpr,'male tpr:',female_acc_tpr)\n",
    "print('female acc:',(1-female_acc_acc),'male acc:',(1-male_acc_acc))"
   ]
  },
  {
   "cell_type": "code",
   "execution_count": 32,
   "metadata": {},
   "outputs": [
    {
     "data": {
      "application/vnd.jupyter.widget-view+json": {
       "model_id": "a665c2965d784dc39692a17c67002878",
       "version_major": 2,
       "version_minor": 0
      },
      "text/plain": [
       "  0%|          | 0/1001 [00:00<?, ?it/s]"
      ]
     },
     "metadata": {},
     "output_type": "display_data"
    }
   ],
   "source": [
    "val_cos = cos_sim(X_val[:,:2048],X_val[:,2048:])\n",
    "female_val_cos = val_cos[gender_val=='female']\n",
    "male_val_cos = val_cos[gender_val=='male']\n",
    "\n",
    "\n",
    "thresholds = np.arange(0,1.001,0.001)\n",
    "female_tpr_list = []\n",
    "female_tnr_list = []\n",
    "female_fpr_list = []\n",
    "female_fnr_list = []\n",
    "female_acc_list = []\n",
    "\n",
    "male_tpr_list = []\n",
    "male_tnr_list = []\n",
    "male_fpr_list = []\n",
    "male_fnr_list = []\n",
    "male_acc_list = []\n",
    "for thresh in tqdm_notebook(thresholds,total=len(thresholds)):\n",
    "    female_pred = (female_val_cos>thresh)*1\n",
    "    female_tn, female_fp, female_fn, female_tp, female_acc = confusion_mat(female_pred, y_val[gender_val=='female'].numpy())\n",
    "    female_tnr_list.append(female_tn/(female_tn+female_fp))\n",
    "    female_tpr_list.append(female_tp/(female_tp+female_fn))\n",
    "    female_fnr_list.append(female_fn/(female_fn+female_tp))\n",
    "    female_fpr_list.append(female_fp/(female_fp+female_tn))\n",
    "    female_acc_list.append(female_acc)\n",
    "\n",
    "    male_pred = (male_val_cos>thresh)*1\n",
    "    male_tn, male_fp, male_fn, male_tp, male_acc = confusion_mat(male_pred, y_val[gender_val=='male'].numpy())\n",
    "    male_tnr_list.append(male_tn/(male_tn+male_fp))\n",
    "    male_tpr_list.append(male_tp/(male_tp+male_fn))\n",
    "    male_fnr_list.append(male_fn/(male_fn+male_tp))\n",
    "    male_fpr_list.append(male_fp/(male_fp+male_tn))\n",
    "    male_acc_list.append(male_acc)"
   ]
  },
  {
   "cell_type": "code",
   "execution_count": 33,
   "metadata": {},
   "outputs": [
    {
     "data": {
      "image/png": "[encoded data removed]",
      "text/plain": [
       "<Figure size 576x396 with 1 Axes>"
      ]
     },
     "metadata": {},
     "output_type": "display_data"
    },
    {
     "data": {
      "image/png": "[encoded data removed]",
      "text/plain": [
       "<Figure size 576x396 with 1 Axes>"
      ]
     },
     "metadata": {},
     "output_type": "display_data"
    }
   ],
   "source": [
    "with plt.style.context('seaborn'):    \n",
    "    plt.plot(thresholds,female_fnr_list,label='Female FNR')\n",
    "    plt.plot(thresholds,male_fnr_list,label='Male FNR')\n",
    "    plt.legend()\n",
    "    plt.xlabel('Cosine Similarity Threshold')\n",
    "    plt.ylabel('Rate')\n",
    "    plt.legend()\n",
    "    plt.xlim(0.3,0.9)\n",
    "plt.show()\n",
    "\n",
    "with plt.style.context('seaborn'):    \n",
    "    plt.plot(thresholds,female_fpr_list,label='Female FPR')\n",
    "    plt.plot(thresholds,male_fpr_list,label='Male FPR')\n",
    "    plt.legend()\n",
    "    plt.xlabel('Cosine Similarity Threshold')\n",
    "    plt.ylabel('Rate')\n",
    "    plt.legend()\n",
    "    plt.xlim(0.15,0.5)\n",
    "plt.show()"
   ]
  },
  {
   "cell_type": "code",
   "execution_count": null,
   "metadata": {},
   "outputs": [],
   "source": []
  },
  {
   "cell_type": "code",
   "execution_count": 34,
   "metadata": {},
   "outputs": [
    {
     "name": "stdout",
     "output_type": "stream",
     "text": [
      "male      1894\n",
      "female    1846\n",
      "Name: reference_gender, dtype: int64\n",
      "male      1929\n",
      "female    1919\n",
      "Name: reference_gender, dtype: int64\n"
     ]
    }
   ],
   "source": [
    "matches = df_test[df_test.labels==1]\n",
    "non_matches = df_test[df_test.labels==0]\n",
    "print(non_matches['reference_gender'].value_counts())\n",
    "print(matches['reference_gender'].value_counts())"
   ]
  },
  {
   "cell_type": "code",
   "execution_count": null,
   "metadata": {},
   "outputs": [],
   "source": []
  }
 ],
 "metadata": {
  "kernelspec": {
   "display_name": "Python 3.9.13 ('mpsEnv')",
   "language": "python",
   "name": "python3"
  },
  "language_info": {
   "codemirror_mode": {
    "name": "ipython",
    "version": 3
   },
   "file_extension": ".py",
   "mimetype": "text/x-python",
   "name": "python",
   "nbconvert_exporter": "python",
   "pygments_lexer": "ipython3",
   "version": "3.9.13"
  },
  "orig_nbformat": 4,
  "vscode": {
   "interpreter": {
    "hash": "dd368a5ef6c8892f6c87c22c8d56888e698af74589d34ad1bd17c3290e3a6a05"
   }
  }
 },
 "nbformat": 4,
 "nbformat_minor": 2
}
