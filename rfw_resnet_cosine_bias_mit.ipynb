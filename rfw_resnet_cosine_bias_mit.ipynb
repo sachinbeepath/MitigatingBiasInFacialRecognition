{
 "cells": [
  {
   "cell_type": "code",
   "execution_count": 1,
   "metadata": {},
   "outputs": [
    {
     "name": "stdout",
     "output_type": "stream",
     "text": [
      "mps\n"
     ]
    },
    {
     "name": "stderr",
     "output_type": "stream",
     "text": [
      "WARNING:root:No module named 'tensorflow': AdversarialDebiasing will be unavailable. To install, run:\n",
      "pip install 'aif360[AdversarialDebiasing]'\n"
     ]
    }
   ],
   "source": [
    "import os\n",
    "import numpy as np\n",
    "import pandas as pd\n",
    "import torch\n",
    "import torch.nn as nn\n",
    "import torch.nn.functional as F\n",
    "\n",
    "import torch.optim as optim\n",
    "from torch.utils import data\n",
    "\n",
    "from tqdm.notebook import tqdm_notebook\n",
    "\n",
    "import warnings\n",
    "warnings.filterwarnings('ignore')\n",
    "\n",
    "device = torch.device(\"mps\" if torch.has_mps else \"cpu\")\n",
    "print(device)\n",
    "from itertools import product\n",
    "from sklearn.model_selection import train_test_split\n",
    "from sklearn.preprocessing import StandardScaler\n",
    "from sklearn.metrics import confusion_matrix\n",
    "import matplotlib.pyplot as plt\n",
    "from aif360.algorithms.postprocessing import (CalibratedEqOddsPostprocessing,\n",
    "                                              EqOddsPostprocessing,\n",
    "                                              RejectOptionClassification)\n",
    "from aif360.datasets import StandardDataset\n",
    "from aif360.metrics import BinaryLabelDatasetMetric, ClassificationMetric\n",
    "from aif360.metrics.utils import compute_boolean_conditioning_vector\n",
    "random_state = 1"
   ]
  },
  {
   "cell_type": "code",
   "execution_count": 2,
   "metadata": {},
   "outputs": [],
   "source": [
    "# read in data and split\n",
    "X = torch.load('inputs/rfw_resnet50_face_embeddings.pt').cpu()\n",
    "y = torch.load('inputs/rfw_resnet50_labels.pt').cpu()\n",
    "df = pd.read_csv('inputs/rfw_resnet50_df.csv')\n",
    "df['reference_ethnicity'] = df['reference_ethnicity'].str.lower()\n",
    "ethnicity = df['reference_ethnicity']"
   ]
  },
  {
   "cell_type": "code",
   "execution_count": 3,
   "metadata": {},
   "outputs": [],
   "source": [
    "train_split, test_split = train_test_split(np.arange(len(X)),test_size=0.2, random_state=random_state)\n",
    "train_split, val_split = train_test_split(train_split,test_size=0.25, random_state=random_state)\n",
    "\n",
    "train_X = X[train_split]\n",
    "X_val = X[val_split]\n",
    "test_X = X[test_split]\n",
    "\n",
    "train_y = y[train_split]\n",
    "y_val = y[val_split]\n",
    "test_y = y[test_split]\n",
    "\n",
    "train_df = df.iloc[train_split]\n",
    "val_df = df.iloc[val_split]\n",
    "test_df = df.iloc[test_split]\n",
    "\n",
    "\n",
    "train_ethnicity = ethnicity[train_split].values\n",
    "train_ethnicity[train_ethnicity=='caucasian'] = 0\n",
    "train_ethnicity[train_ethnicity=='african'] = 1\n",
    "train_ethnicity = train_ethnicity.astype(int)\n",
    "\n",
    "ethnicity_val = ethnicity[val_split].values\n",
    "ethnicity_val[ethnicity_val=='caucasian'] = 0\n",
    "ethnicity_val[ethnicity_val=='african'] = 1\n",
    "ethnicity_val = ethnicity_val.astype(int)\n",
    "\n",
    "test_ethnicity = ethnicity[test_split].values\n",
    "test_ethnicity[test_ethnicity=='caucasian'] = 0\n",
    "test_ethnicity[test_ethnicity=='african'] = 1\n",
    "test_ethnicity = test_ethnicity.astype(int)"
   ]
  },
  {
   "cell_type": "code",
   "execution_count": 4,
   "metadata": {},
   "outputs": [
    {
     "name": "stdout",
     "output_type": "stream",
     "text": [
      "non matches\n",
      "african      4492\n",
      "caucasian    4376\n",
      "Name: reference_ethnicity, dtype: int64\n",
      "matches\n",
      "african      4396\n",
      "caucasian    4325\n",
      "Name: reference_ethnicity, dtype: int64\n"
     ]
    }
   ],
   "source": [
    "train_matches = train_df[train_df.labels==1]\n",
    "train_non_matches = train_df[train_df.labels==0]\n",
    "print('non matches')\n",
    "print(train_non_matches['reference_ethnicity'].value_counts())\n",
    "print('matches')\n",
    "print(train_matches['reference_ethnicity'].value_counts())\n",
    "\n",
    "african_non_matches = train_non_matches[train_non_matches['reference_ethnicity']=='african']\n",
    "caucasian_non_matches = train_non_matches[train_non_matches['reference_ethnicity']=='caucasian']\n",
    "\n",
    "african_matches = train_matches[train_matches['reference_ethnicity']=='african']\n",
    "caucasian_matches = train_matches[train_matches['reference_ethnicity']=='caucasian']"
   ]
  },
  {
   "cell_type": "code",
   "execution_count": 5,
   "metadata": {},
   "outputs": [
    {
     "data": {
      "text/html": [
       "<div>\n",
       "<style scoped>\n",
       "    .dataframe tbody tr th:only-of-type {\n",
       "        vertical-align: middle;\n",
       "    }\n",
       "\n",
       "    .dataframe tbody tr th {\n",
       "        vertical-align: top;\n",
       "    }\n",
       "\n",
       "    .dataframe thead th {\n",
       "        text-align: right;\n",
       "    }\n",
       "</style>\n",
       "<table border=\"1\" class=\"dataframe\">\n",
       "  <thead>\n",
       "    <tr style=\"text-align: right;\">\n",
       "      <th></th>\n",
       "      <th>reference_identity</th>\n",
       "      <th>candidate_identity</th>\n",
       "      <th>reference_ethnicity</th>\n",
       "      <th>candidate_ethnicity</th>\n",
       "      <th>labels</th>\n",
       "    </tr>\n",
       "  </thead>\n",
       "  <tbody>\n",
       "    <tr>\n",
       "      <th>6419</th>\n",
       "      <td>m.03j6s0</td>\n",
       "      <td>m.03j6s0</td>\n",
       "      <td>african</td>\n",
       "      <td>African</td>\n",
       "      <td>1.0</td>\n",
       "    </tr>\n",
       "    <tr>\n",
       "      <th>5541</th>\n",
       "      <td>m.01qd5bm</td>\n",
       "      <td>m.01qd5bm</td>\n",
       "      <td>african</td>\n",
       "      <td>African</td>\n",
       "      <td>1.0</td>\n",
       "    </tr>\n",
       "    <tr>\n",
       "      <th>5881</th>\n",
       "      <td>m.02qdp4v</td>\n",
       "      <td>m.02qdp4v</td>\n",
       "      <td>african</td>\n",
       "      <td>African</td>\n",
       "      <td>1.0</td>\n",
       "    </tr>\n",
       "    <tr>\n",
       "      <th>229</th>\n",
       "      <td>m.0272001</td>\n",
       "      <td>m.0272001</td>\n",
       "      <td>african</td>\n",
       "      <td>African</td>\n",
       "      <td>1.0</td>\n",
       "    </tr>\n",
       "    <tr>\n",
       "      <th>5264</th>\n",
       "      <td>m.05f962</td>\n",
       "      <td>m.05f962</td>\n",
       "      <td>african</td>\n",
       "      <td>African</td>\n",
       "      <td>1.0</td>\n",
       "    </tr>\n",
       "    <tr>\n",
       "      <th>...</th>\n",
       "      <td>...</td>\n",
       "      <td>...</td>\n",
       "      <td>...</td>\n",
       "      <td>...</td>\n",
       "      <td>...</td>\n",
       "    </tr>\n",
       "    <tr>\n",
       "      <th>18810</th>\n",
       "      <td>m.0g3f1p</td>\n",
       "      <td>m.01kxfvq</td>\n",
       "      <td>caucasian</td>\n",
       "      <td>Caucasian</td>\n",
       "      <td>0.0</td>\n",
       "    </tr>\n",
       "    <tr>\n",
       "      <th>20550</th>\n",
       "      <td>m.07gb0p</td>\n",
       "      <td>m.0bgwxt</td>\n",
       "      <td>caucasian</td>\n",
       "      <td>Caucasian</td>\n",
       "      <td>0.0</td>\n",
       "    </tr>\n",
       "    <tr>\n",
       "      <th>24018</th>\n",
       "      <td>m.07pyvy</td>\n",
       "      <td>m.01y7m1</td>\n",
       "      <td>caucasian</td>\n",
       "      <td>Caucasian</td>\n",
       "      <td>0.0</td>\n",
       "    </tr>\n",
       "    <tr>\n",
       "      <th>20879</th>\n",
       "      <td>m.02qg85</td>\n",
       "      <td>m.070p26</td>\n",
       "      <td>caucasian</td>\n",
       "      <td>Caucasian</td>\n",
       "      <td>0.0</td>\n",
       "    </tr>\n",
       "    <tr>\n",
       "      <th>27148</th>\n",
       "      <td>m.05ppy0</td>\n",
       "      <td>m.0g9zt_w</td>\n",
       "      <td>caucasian</td>\n",
       "      <td>Caucasian</td>\n",
       "      <td>0.0</td>\n",
       "    </tr>\n",
       "  </tbody>\n",
       "</table>\n",
       "<p>17300 rows × 5 columns</p>\n",
       "</div>"
      ],
      "text/plain": [
       "      reference_identity candidate_identity reference_ethnicity  \\\n",
       "6419            m.03j6s0           m.03j6s0             african   \n",
       "5541           m.01qd5bm          m.01qd5bm             african   \n",
       "5881           m.02qdp4v          m.02qdp4v             african   \n",
       "229            m.0272001          m.0272001             african   \n",
       "5264            m.05f962           m.05f962             african   \n",
       "...                  ...                ...                 ...   \n",
       "18810           m.0g3f1p          m.01kxfvq           caucasian   \n",
       "20550           m.07gb0p           m.0bgwxt           caucasian   \n",
       "24018           m.07pyvy           m.01y7m1           caucasian   \n",
       "20879           m.02qg85           m.070p26           caucasian   \n",
       "27148           m.05ppy0          m.0g9zt_w           caucasian   \n",
       "\n",
       "      candidate_ethnicity  labels  \n",
       "6419              African     1.0  \n",
       "5541              African     1.0  \n",
       "5881              African     1.0  \n",
       "229               African     1.0  \n",
       "5264              African     1.0  \n",
       "...                   ...     ...  \n",
       "18810           Caucasian     0.0  \n",
       "20550           Caucasian     0.0  \n",
       "24018           Caucasian     0.0  \n",
       "20879           Caucasian     0.0  \n",
       "27148           Caucasian     0.0  \n",
       "\n",
       "[17300 rows x 5 columns]"
      ]
     },
     "execution_count": 5,
     "metadata": {},
     "output_type": "execute_result"
    }
   ],
   "source": [
    "np.random.seed(random_state)\n",
    "african_matches_sub_idx = african_matches.index[np.random.choice(len(african_matches.index), size=4325, replace=False)]\n",
    "caucasian_non_matches_sub_idx = caucasian_non_matches.index[np.random.choice(len(caucasian_non_matches.index), size=4325, replace=False)]\n",
    "african_non_matches_sub_idx = african_non_matches.index[np.random.choice(len(african_non_matches.index), size=4325, replace=False)]\n",
    "caucasian_matches_sub_idx = caucasian_matches.index\n",
    "\n",
    "X_train = torch.cat([X[african_matches_sub_idx],X[caucasian_matches_sub_idx],X[african_non_matches_sub_idx],X[caucasian_non_matches_sub_idx]])\n",
    "y_train = torch.cat([y[african_matches_sub_idx],y[caucasian_matches_sub_idx],y[african_non_matches_sub_idx],y[caucasian_non_matches_sub_idx]])\n",
    "ethnicity_train = np.concatenate([ethnicity[african_matches_sub_idx],ethnicity[caucasian_matches_sub_idx],ethnicity[african_non_matches_sub_idx],ethnicity[caucasian_non_matches_sub_idx]])\n",
    "df_train = pd.concat([df.iloc[african_matches_sub_idx],df.iloc[caucasian_matches_sub_idx],df.iloc[african_non_matches_sub_idx],df.iloc[caucasian_non_matches_sub_idx]])\n",
    "df_train"
   ]
  },
  {
   "cell_type": "code",
   "execution_count": 6,
   "metadata": {},
   "outputs": [
    {
     "data": {
      "text/html": [
       "<div>\n",
       "<style scoped>\n",
       "    .dataframe tbody tr th:only-of-type {\n",
       "        vertical-align: middle;\n",
       "    }\n",
       "\n",
       "    .dataframe tbody tr th {\n",
       "        vertical-align: top;\n",
       "    }\n",
       "\n",
       "    .dataframe thead th {\n",
       "        text-align: right;\n",
       "    }\n",
       "</style>\n",
       "<table border=\"1\" class=\"dataframe\">\n",
       "  <thead>\n",
       "    <tr style=\"text-align: right;\">\n",
       "      <th></th>\n",
       "      <th>reference_identity</th>\n",
       "      <th>candidate_identity</th>\n",
       "      <th>reference_ethnicity</th>\n",
       "      <th>candidate_ethnicity</th>\n",
       "      <th>labels</th>\n",
       "    </tr>\n",
       "  </thead>\n",
       "  <tbody>\n",
       "    <tr>\n",
       "      <th>18904</th>\n",
       "      <td>m.0cx09_</td>\n",
       "      <td>m.02q_nsj</td>\n",
       "      <td>caucasian</td>\n",
       "      <td>Caucasian</td>\n",
       "      <td>0.0</td>\n",
       "    </tr>\n",
       "    <tr>\n",
       "      <th>28620</th>\n",
       "      <td>m.080gs5b</td>\n",
       "      <td>m.027w0nt</td>\n",
       "      <td>african</td>\n",
       "      <td>African</td>\n",
       "      <td>0.0</td>\n",
       "    </tr>\n",
       "    <tr>\n",
       "      <th>11687</th>\n",
       "      <td>m.027q3qg</td>\n",
       "      <td>m.027q3qg</td>\n",
       "      <td>caucasian</td>\n",
       "      <td>Caucasian</td>\n",
       "      <td>1.0</td>\n",
       "    </tr>\n",
       "    <tr>\n",
       "      <th>27477</th>\n",
       "      <td>m.034s_j</td>\n",
       "      <td>m.03h3058</td>\n",
       "      <td>african</td>\n",
       "      <td>African</td>\n",
       "      <td>0.0</td>\n",
       "    </tr>\n",
       "    <tr>\n",
       "      <th>12283</th>\n",
       "      <td>m.05p7_tb</td>\n",
       "      <td>m.05p7_tb</td>\n",
       "      <td>caucasian</td>\n",
       "      <td>Caucasian</td>\n",
       "      <td>1.0</td>\n",
       "    </tr>\n",
       "    <tr>\n",
       "      <th>...</th>\n",
       "      <td>...</td>\n",
       "      <td>...</td>\n",
       "      <td>...</td>\n",
       "      <td>...</td>\n",
       "      <td>...</td>\n",
       "    </tr>\n",
       "    <tr>\n",
       "      <th>18134</th>\n",
       "      <td>m.0hzpkcs</td>\n",
       "      <td>m.067fmb</td>\n",
       "      <td>caucasian</td>\n",
       "      <td>Caucasian</td>\n",
       "      <td>0.0</td>\n",
       "    </tr>\n",
       "    <tr>\n",
       "      <th>3639</th>\n",
       "      <td>m.05lnvt</td>\n",
       "      <td>m.05lnvt</td>\n",
       "      <td>african</td>\n",
       "      <td>African</td>\n",
       "      <td>1.0</td>\n",
       "    </tr>\n",
       "    <tr>\n",
       "      <th>11091</th>\n",
       "      <td>m.01ndxh</td>\n",
       "      <td>m.01ndxh</td>\n",
       "      <td>caucasian</td>\n",
       "      <td>Caucasian</td>\n",
       "      <td>1.0</td>\n",
       "    </tr>\n",
       "    <tr>\n",
       "      <th>9369</th>\n",
       "      <td>m.0c2g8y</td>\n",
       "      <td>m.0c2g8y</td>\n",
       "      <td>caucasian</td>\n",
       "      <td>Caucasian</td>\n",
       "      <td>1.0</td>\n",
       "    </tr>\n",
       "    <tr>\n",
       "      <th>21112</th>\n",
       "      <td>m.05mgqb</td>\n",
       "      <td>m.04xb3k</td>\n",
       "      <td>caucasian</td>\n",
       "      <td>Caucasian</td>\n",
       "      <td>0.0</td>\n",
       "    </tr>\n",
       "  </tbody>\n",
       "</table>\n",
       "<p>5864 rows × 5 columns</p>\n",
       "</div>"
      ],
      "text/plain": [
       "      reference_identity candidate_identity reference_ethnicity  \\\n",
       "18904           m.0cx09_          m.02q_nsj           caucasian   \n",
       "28620          m.080gs5b          m.027w0nt             african   \n",
       "11687          m.027q3qg          m.027q3qg           caucasian   \n",
       "27477           m.034s_j          m.03h3058             african   \n",
       "12283          m.05p7_tb          m.05p7_tb           caucasian   \n",
       "...                  ...                ...                 ...   \n",
       "18134          m.0hzpkcs           m.067fmb           caucasian   \n",
       "3639            m.05lnvt           m.05lnvt             african   \n",
       "11091           m.01ndxh           m.01ndxh           caucasian   \n",
       "9369            m.0c2g8y           m.0c2g8y           caucasian   \n",
       "21112           m.05mgqb           m.04xb3k           caucasian   \n",
       "\n",
       "      candidate_ethnicity  labels  \n",
       "18904           Caucasian     0.0  \n",
       "28620             African     0.0  \n",
       "11687           Caucasian     1.0  \n",
       "27477             African     0.0  \n",
       "12283           Caucasian     1.0  \n",
       "...                   ...     ...  \n",
       "18134           Caucasian     0.0  \n",
       "3639              African     1.0  \n",
       "11091           Caucasian     1.0  \n",
       "9369            Caucasian     1.0  \n",
       "21112           Caucasian     0.0  \n",
       "\n",
       "[5864 rows x 5 columns]"
      ]
     },
     "execution_count": 6,
     "metadata": {},
     "output_type": "execute_result"
    }
   ],
   "source": [
    "# test_split, holdout_split = train_test_split(np.arange(5864),test_size=0.1, random_state=random_state)\n",
    "X_test = test_X#[test_split]\n",
    "# X_holdout = test_X[holdout_split]\n",
    "y_test = test_y###[test_split]\n",
    "# y_holdout = test_y##[holdout_split]\n",
    "ethnicity_test = test_ethnicity#[test_split]\n",
    "# ethnicity_holdout = test_ethnicity[holdout_split]\n",
    "df_test = test_df#.iloc#[test_split]\n",
    "# df_holdout = test_df.iloc[holdout_split]\n",
    "df_test"
   ]
  },
  {
   "cell_type": "code",
   "execution_count": 7,
   "metadata": {},
   "outputs": [
    {
     "name": "stdout",
     "output_type": "stream",
     "text": [
      "non matches\n",
      "caucasian    1460\n",
      "african      1454\n",
      "Name: reference_ethnicity, dtype: int64\n",
      "matches\n",
      "caucasian    1480\n",
      "african      1469\n",
      "Name: reference_ethnicity, dtype: int64\n"
     ]
    }
   ],
   "source": [
    "val_matches = val_df[val_df.labels==1]\n",
    "val_non_matches = val_df[val_df.labels==0]\n",
    "print('non matches')\n",
    "print(val_non_matches['reference_ethnicity'].value_counts())\n",
    "print('matches')\n",
    "print(val_matches['reference_ethnicity'].value_counts())\n",
    "\n",
    "val_african_non_matches = val_non_matches[val_non_matches['reference_ethnicity']=='african']\n",
    "val_african_non_matches = val_non_matches[val_non_matches['reference_ethnicity']=='african']\n",
    "\n",
    "val_african_matches = val_matches[val_matches['reference_ethnicity']=='african']\n",
    "val_african_matches = val_matches[val_matches['reference_ethnicity']=='african']"
   ]
  },
  {
   "cell_type": "code",
   "execution_count": 8,
   "metadata": {},
   "outputs": [
    {
     "name": "stdout",
     "output_type": "stream",
     "text": [
      "non matches\n",
      "african      1518\n",
      "caucasian    1358\n",
      "Name: reference_ethnicity, dtype: int64\n",
      "matches\n",
      "african      1555\n",
      "caucasian    1433\n",
      "Name: reference_ethnicity, dtype: int64\n"
     ]
    }
   ],
   "source": [
    "test_matches = df_test[df_test.labels==1]\n",
    "test_non_matches = df_test[df_test.labels==0]\n",
    "print('non matches')\n",
    "print(test_non_matches['reference_ethnicity'].value_counts())\n",
    "print('matches')\n",
    "print(test_matches['reference_ethnicity'].value_counts())\n",
    "\n",
    "test_african_non_matches = test_non_matches[test_non_matches['reference_ethnicity']=='african']\n",
    "test_african_non_matches = test_non_matches[test_non_matches['reference_ethnicity']=='african']\n",
    "\n",
    "test_african_matches = test_matches[test_matches['reference_ethnicity']=='african']\n",
    "test_african_matches = test_matches[test_matches['reference_ethnicity']=='african']"
   ]
  },
  {
   "cell_type": "code",
   "execution_count": 9,
   "metadata": {},
   "outputs": [],
   "source": [
    "# holdout_matches = df_holdout[df_holdout.labels==1]\n",
    "# holdout_non_matches = df_holdout[df_holdout.labels==0]\n",
    "# print('non matches')\n",
    "# print(holdout_non_matches['reference_ethnicity'].value_counts())\n",
    "# print('matches')\n",
    "# print(holdout_matches['reference_ethnicity'].value_counts())\n",
    "\n",
    "# holdout_african_non_matches = holdout_non_matches[holdout_non_matches['reference_ethnicity']=='african']\n",
    "# holdout_african_non_matches = holdout_non_matches[holdout_non_matches['reference_ethnicity']=='african']\n",
    "\n",
    "# holdout_african_matches = holdout_matches[holdout_matches['reference_ethnicity']=='african']\n",
    "# holdout_african_matches = holdout_matches[holdout_matches['reference_ethnicity']=='african']"
   ]
  },
  {
   "cell_type": "code",
   "execution_count": 10,
   "metadata": {},
   "outputs": [],
   "source": [
    "cos_sim = nn.CosineSimilarity(dim=1, eps=1e-6)\n",
    "def confusion_mat(y_pred, y_test):\n",
    "    tn, fp, fn, tp = confusion_matrix(y_test, y_pred).ravel()\n",
    "    acc = (tn + tp)/(tn+tp+fn+fp)\n",
    "    return tn, fp, fn, tp, acc\n",
    "def AOE(tn_1,fp_1,fn_1,tp_1,tn_0,fp_0,fn_0,tp_0):\n",
    "    tpr_1 = tp_1/(tp_1+fn_1)\n",
    "    tpr_0 = tp_0/(tp_0+fn_0)\n",
    "\n",
    "    fpr_1 = fp_1/(fp_1+tn_1)\n",
    "    fpr_0 = fp_0/(fp_0+tn_0)\n",
    "\n",
    "\n",
    "    return (np.abs(fpr_1-fpr_0) + np.abs(tpr_1 - tpr_0))/2"
   ]
  },
  {
   "cell_type": "code",
   "execution_count": 11,
   "metadata": {},
   "outputs": [
    {
     "name": "stdout",
     "output_type": "stream",
     "text": [
      "0.4066924388431249\n",
      "14.950328595445516\n",
      "1.09472498962225\n",
      "0.9549544807965862\n",
      "1.5172477777069073\n",
      "african fnr: 0.029952348536419333 caucasian fnr: 0.07364864864864865\n",
      "african fpr: 0.0921595598349381 caucasian fpr: 0.0061643835616438354\n",
      "caucasian tnr: 0.9938356164383562 african tnr: 0.9078404401650619\n",
      "caucasian tpr: 0.9263513513513514 african tpr: 0.9700476514635806\n",
      "african mis class: 0.06089633937735206 caucasian mis class: 0.04013605442176871\n",
      "african  class: 0.9391036606226479 caucasian  class: 0.9598639455782313\n"
     ]
    }
   ],
   "source": [
    "val_cos = cos_sim(X_val[:,:2048],X_val[:,2048:])\n",
    "eer_thresh = 0.40895\n",
    "\n",
    "eer_pred = (val_cos>eer_thresh)*1\n",
    "\n",
    "df_bias = val_df.drop(['reference_identity','candidate_identity','candidate_ethnicity'],axis=1)\n",
    "df_bias['eer_pred'] = eer_pred\n",
    "\n",
    "df_bias_african = df_bias[df_bias['reference_ethnicity']=='african']\n",
    "df_bias_caucasian = df_bias[df_bias['reference_ethnicity']=='caucasian']\n",
    "\n",
    "african_eer_tn, african_eer_fp, african_eer_fn, african_eer_tp, african_eer_acc = confusion_mat(df_bias_african['eer_pred'], df_bias_african['labels'])\n",
    "caucasian_eer_tn, caucasian_eer_fp, caucasian_eer_fn, caucasian_eer_tp, caucasian_eer_acc = confusion_mat(df_bias_caucasian['eer_pred'], df_bias_caucasian['labels'])\n",
    "\n",
    "african_eer_tnr = african_eer_tn/(african_eer_tn+african_eer_fp)\n",
    "african_eer_tpr = african_eer_tp/(african_eer_tp+african_eer_fn)\n",
    "african_eer_fnr = african_eer_fn/(african_eer_fn+african_eer_tp)\n",
    "african_eer_fpr = african_eer_fp/(african_eer_tn+african_eer_fp)\n",
    "\n",
    "caucasian_eer_tnr = caucasian_eer_tn/(caucasian_eer_tn+caucasian_eer_fp)\n",
    "caucasian_eer_tpr = caucasian_eer_tp/(caucasian_eer_tp+caucasian_eer_fn)\n",
    "caucasian_eer_fnr = caucasian_eer_fn/(caucasian_eer_fn+caucasian_eer_tp)\n",
    "caucasian_eer_fpr = caucasian_eer_fp/(caucasian_eer_tn+caucasian_eer_fp)\n",
    "\n",
    "print(african_eer_fnr/caucasian_eer_fnr)\n",
    "print(african_eer_fpr/caucasian_eer_fpr)\n",
    "print(caucasian_eer_tnr/african_eer_tnr)\n",
    "print(caucasian_eer_tpr/african_eer_tpr)\n",
    "print((1-african_eer_acc)/(1-caucasian_eer_acc))\n",
    "print('african fnr:',african_eer_fnr,'caucasian fnr:',caucasian_eer_fnr)\n",
    "print('african fpr:',african_eer_fpr,'caucasian fpr:',caucasian_eer_fpr)\n",
    "print('caucasian tnr:',caucasian_eer_tnr,'african tnr:',african_eer_tnr)\n",
    "print('caucasian tpr:',caucasian_eer_tpr,'african tpr:',african_eer_tpr)\n",
    "print('african mis class:',(1-african_eer_acc),'caucasian mis class:',(1-caucasian_eer_acc))\n",
    "print('african  class:',(african_eer_acc),'caucasian  class:',(caucasian_eer_acc))"
   ]
  },
  {
   "cell_type": "code",
   "execution_count": 12,
   "metadata": {},
   "outputs": [
    {
     "name": "stdout",
     "output_type": "stream",
     "text": [
      "1320 134 44 1425\n",
      "1451 9 109 1371\n"
     ]
    }
   ],
   "source": [
    "print(african_eer_tn, african_eer_fp, african_eer_fn, african_eer_tp)\n",
    "print(caucasian_eer_tn, caucasian_eer_fp, caucasian_eer_fn, caucasian_eer_tp)"
   ]
  },
  {
   "cell_type": "code",
   "execution_count": 13,
   "metadata": {},
   "outputs": [
    {
     "data": {
      "text/html": [
       "<div>\n",
       "<style scoped>\n",
       "    .dataframe tbody tr th:only-of-type {\n",
       "        vertical-align: middle;\n",
       "    }\n",
       "\n",
       "    .dataframe tbody tr th {\n",
       "        vertical-align: top;\n",
       "    }\n",
       "\n",
       "    .dataframe thead th {\n",
       "        text-align: right;\n",
       "    }\n",
       "</style>\n",
       "<table border=\"1\" class=\"dataframe\">\n",
       "  <thead>\n",
       "    <tr style=\"text-align: right;\">\n",
       "      <th></th>\n",
       "      <th>label</th>\n",
       "      <th>prediction</th>\n",
       "      <th>protected</th>\n",
       "      <th>rounded</th>\n",
       "    </tr>\n",
       "  </thead>\n",
       "  <tbody>\n",
       "    <tr>\n",
       "      <th>0</th>\n",
       "      <td>1.0</td>\n",
       "      <td>0.557137</td>\n",
       "      <td>0</td>\n",
       "      <td>1</td>\n",
       "    </tr>\n",
       "    <tr>\n",
       "      <th>2</th>\n",
       "      <td>0.0</td>\n",
       "      <td>0.203042</td>\n",
       "      <td>0</td>\n",
       "      <td>0</td>\n",
       "    </tr>\n",
       "    <tr>\n",
       "      <th>7</th>\n",
       "      <td>0.0</td>\n",
       "      <td>0.216037</td>\n",
       "      <td>0</td>\n",
       "      <td>0</td>\n",
       "    </tr>\n",
       "    <tr>\n",
       "      <th>9</th>\n",
       "      <td>0.0</td>\n",
       "      <td>0.235024</td>\n",
       "      <td>0</td>\n",
       "      <td>0</td>\n",
       "    </tr>\n",
       "    <tr>\n",
       "      <th>12</th>\n",
       "      <td>0.0</td>\n",
       "      <td>0.212539</td>\n",
       "      <td>0</td>\n",
       "      <td>0</td>\n",
       "    </tr>\n",
       "    <tr>\n",
       "      <th>...</th>\n",
       "      <td>...</td>\n",
       "      <td>...</td>\n",
       "      <td>...</td>\n",
       "      <td>...</td>\n",
       "    </tr>\n",
       "    <tr>\n",
       "      <th>5857</th>\n",
       "      <td>1.0</td>\n",
       "      <td>0.819825</td>\n",
       "      <td>0</td>\n",
       "      <td>1</td>\n",
       "    </tr>\n",
       "    <tr>\n",
       "      <th>5858</th>\n",
       "      <td>1.0</td>\n",
       "      <td>0.738980</td>\n",
       "      <td>0</td>\n",
       "      <td>1</td>\n",
       "    </tr>\n",
       "    <tr>\n",
       "      <th>5859</th>\n",
       "      <td>1.0</td>\n",
       "      <td>0.561938</td>\n",
       "      <td>0</td>\n",
       "      <td>1</td>\n",
       "    </tr>\n",
       "    <tr>\n",
       "      <th>5860</th>\n",
       "      <td>0.0</td>\n",
       "      <td>0.279173</td>\n",
       "      <td>0</td>\n",
       "      <td>0</td>\n",
       "    </tr>\n",
       "    <tr>\n",
       "      <th>5862</th>\n",
       "      <td>1.0</td>\n",
       "      <td>0.892465</td>\n",
       "      <td>0</td>\n",
       "      <td>1</td>\n",
       "    </tr>\n",
       "  </tbody>\n",
       "</table>\n",
       "<p>2940 rows × 4 columns</p>\n",
       "</div>"
      ],
      "text/plain": [
       "      label  prediction  protected  rounded\n",
       "0       1.0    0.557137          0        1\n",
       "2       0.0    0.203042          0        0\n",
       "7       0.0    0.216037          0        0\n",
       "9       0.0    0.235024          0        0\n",
       "12      0.0    0.212539          0        0\n",
       "...     ...         ...        ...      ...\n",
       "5857    1.0    0.819825          0        1\n",
       "5858    1.0    0.738980          0        1\n",
       "5859    1.0    0.561938          0        1\n",
       "5860    0.0    0.279173          0        0\n",
       "5862    1.0    0.892465          0        1\n",
       "\n",
       "[2940 rows x 4 columns]"
      ]
     },
     "execution_count": 13,
     "metadata": {},
     "output_type": "execute_result"
    }
   ],
   "source": [
    "ethnicity_val[ethnicity_val=='caucasian'] = 0\n",
    "ethnicity_val[ethnicity_val=='african'] = 1\n",
    "ethnicity_val = ethnicity_val.astype(int)\n",
    "ethnicity_val\n",
    "val_bias_df = pd.DataFrame(columns=['label','prediction','protected','rounded'])\n",
    "val_bias_df['label']=y_val.cpu().numpy()\n",
    "val_bias_df['prediction']=val_cos.cpu().numpy()\n",
    "val_bias_df['rounded']=eer_pred.cpu().numpy()\n",
    "val_bias_df['protected']=ethnicity_val\n",
    "val_bias_df\n",
    "unpriveleged_df = val_bias_df[val_bias_df['protected']==1]\n",
    "unpriveleged_df\n",
    "priveleged_df = val_bias_df[val_bias_df['protected']==0]\n",
    "priveleged_df"
   ]
  },
  {
   "cell_type": "code",
   "execution_count": 14,
   "metadata": {},
   "outputs": [
    {
     "data": {
      "text/plain": [
       "(2771, 143, 153, 2796, 0.9495139007334129)"
      ]
     },
     "execution_count": 14,
     "metadata": {},
     "output_type": "execute_result"
    }
   ],
   "source": [
    "confusion_mat(val_bias_df['rounded'], val_bias_df['label'])"
   ]
  },
  {
   "cell_type": "code",
   "execution_count": 15,
   "metadata": {},
   "outputs": [
    {
     "name": "stdout",
     "output_type": "stream",
     "text": [
      "Overall Accuracy: 0.95\n",
      "Missclassificaition Rate Ratio: 1.517\n",
      "FNR Ratio: 0.407 FPR Ratio: 14.95\n",
      "AOE: 0.065\n"
     ]
    }
   ],
   "source": [
    "unpriveleged_tn, unpriveleged_fp, unpriveleged_fn, unpriveleged_tp, unpriveleged_acc = confusion_mat(unpriveleged_df['rounded'], unpriveleged_df['label'])\n",
    "priveleged_tn, priveleged_fp, priveleged_fn, priveleged_tp, priveleged_acc = confusion_mat(priveleged_df['rounded'], priveleged_df['label'])\n",
    "unpriveleged_fnr = unpriveleged_fn/(unpriveleged_fn+unpriveleged_tp)\n",
    "unpriveleged_fpr = unpriveleged_fp/(unpriveleged_fp+unpriveleged_tn)\n",
    "priveleged_fnr = priveleged_fn/(priveleged_fn+priveleged_tp)\n",
    "priveleged_fpr = priveleged_fp/(priveleged_fp+priveleged_tn)\n",
    "\n",
    "print('Overall Accuracy:',round(torch.sum(eer_pred == y_val).item()/y_val.size()[0],3))\n",
    "print('Missclassificaition Rate Ratio:',round((1-unpriveleged_acc)/(1- priveleged_acc),3))\n",
    "print('FNR Ratio:',round(unpriveleged_fnr/priveleged_fnr,3),'FPR Ratio:',round(unpriveleged_fpr/priveleged_fpr,3))\n",
    "print('AOE:',round(AOE(unpriveleged_tn,unpriveleged_fp,unpriveleged_fn,unpriveleged_tp,priveleged_tn,priveleged_fp,priveleged_fn,priveleged_tp),3))"
   ]
  },
  {
   "cell_type": "code",
   "execution_count": 16,
   "metadata": {},
   "outputs": [],
   "source": [
    "def to_dataframe(y_true, y_pred, y_prot):\n",
    "        y_true, y_pred, y_prot = y_true.float().cpu().numpy(), y_pred.float().cpu().numpy(), y_prot.astype(np.float32)\n",
    "        df = pd.DataFrame({'y_true': y_true, 'y_pred': y_pred, 'y_prot': y_prot})\n",
    "        dataset = StandardDataset(df, 'y_true', [1.], ['y_prot'], [[1.]])\n",
    "        dataset.scores = y_pred.reshape(-1, 1)\n",
    "        return dataset\n",
    "\n",
    "def compute_bias(y_pred, y_true, prot, metric):\n",
    "    \"\"\"Compute bias on the dataset\"\"\"\n",
    "    def zero_if_nan(data):\n",
    "        \"\"\"Zero if there is a nan\"\"\"\n",
    "        return 0. if torch.isnan(data) else data\n",
    "\n",
    "    gtpr_prot = zero_if_nan(y_pred[prot * y_true == 1].mean())\n",
    "    gfpr_prot = zero_if_nan(y_pred[prot * (1-y_true) == 1].mean())\n",
    "    mean_prot = zero_if_nan(y_pred[prot == 1].mean())\n",
    "\n",
    "    gtpr_unprot = zero_if_nan(y_pred[(1-prot) * y_true == 1].mean())\n",
    "    gfpr_unprot = zero_if_nan(y_pred[(1-prot) * (1-y_true) == 1].mean())\n",
    "    mean_unprot = zero_if_nan(y_pred[(1-prot) == 1].mean())\n",
    "\n",
    "    if metric == \"spd\":\n",
    "        return mean_prot - mean_unprot\n",
    "    elif metric == \"aod\":\n",
    "        return 0.5 * ((gfpr_prot - gfpr_unprot) + (gtpr_prot - gtpr_unprot))\n",
    "    elif metric == \"eod\":\n",
    "        return gtpr_prot - gtpr_unprot\n",
    "    elif metric=='false_diff':\n",
    "        return (np.abs(gfpr_prot - gfpr_unprot) + np.abs(gtpr_unprot - gtpr_prot))"
   ]
  },
  {
   "cell_type": "code",
   "execution_count": 17,
   "metadata": {},
   "outputs": [],
   "source": [
    "aif_data = to_dataframe(y_val, val_cos, ethnicity_val)\n"
   ]
  },
  {
   "cell_type": "code",
   "execution_count": 18,
   "metadata": {},
   "outputs": [
    {
     "name": "stdout",
     "output_type": "stream",
     "text": [
      "Missclassificaition Rate Ratio: nan\n",
      "FPR Ratio: nan\n",
      "FNR Ratio: nan\n",
      "1.0\n",
      "AOE: 0.0\n"
     ]
    }
   ],
   "source": [
    "eo = EqOddsPostprocessing(privileged_groups=[{'y_prot': 0.}],\n",
    "                                  unprivileged_groups=[{'y_prot': 1.}],seed=random_state)\n",
    "\n",
    "eo=eo.fit(aif_data,aif_data)\n",
    "\n",
    "eo_pred = eo.predict(aif_data).labels.reshape(-1)\n",
    "eo_label = aif_data.labels.reshape(-1)\n",
    "eo_prot = aif_data.protected_attributes.reshape(-1)\n",
    "\n",
    "eo_unpriv_ids = (eo_prot==1)\n",
    "eo_unpriv_pred = eo_pred[eo_unpriv_ids]\n",
    "eo_unpriv_label = eo_label[eo_unpriv_ids]\n",
    "\n",
    "eo_priv_ids = (eo_prot==0)\n",
    "eo_priv_pred = eo_pred[eo_priv_ids]\n",
    "eo_priv_label = eo_label[eo_priv_ids]\n",
    "\n",
    "eo_unpriv_tn, eo_unpriv_fp, eo_unpriv_fn, eo_unpriv_tp, eo_unpriv_acc = confusion_mat(eo_unpriv_pred, eo_unpriv_label)\n",
    "eo_unpriv_fpr = eo_unpriv_fp/(eo_unpriv_fp+eo_unpriv_tn)\n",
    "eo_unpriv_fnr = eo_unpriv_fn/(eo_unpriv_fn+eo_unpriv_tp)\n",
    "\n",
    "eo_priv_tn, eo_priv_fp, eo_priv_fn, eo_priv_tp, eo_priv_acc = confusion_mat(eo_priv_pred, eo_priv_label)\n",
    "eo_priv_fpr = eo_priv_fp/(eo_priv_fp+eo_priv_tn)\n",
    "eo_priv_fnr = eo_priv_fn/(eo_priv_fn+eo_priv_tp)\n",
    "\n",
    "print('Missclassificaition Rate Ratio:',round((1-eo_unpriv_acc)/(1- eo_priv_acc),3))\n",
    "print('FPR Ratio:',eo_unpriv_fpr/eo_priv_fpr)\n",
    "print('FNR Ratio:',eo_unpriv_fnr/eo_priv_fnr)\n",
    "print(np.sum(eo_pred == eo_label)/len(eo_pred))\n",
    "print('AOE:',round(AOE(eo_unpriv_tn, eo_unpriv_fp, eo_unpriv_fn, eo_unpriv_tp,eo_priv_tn, eo_priv_fp, eo_priv_fn, eo_priv_tp),3))\n"
   ]
  },
  {
   "cell_type": "code",
   "execution_count": 19,
   "metadata": {},
   "outputs": [
    {
     "name": "stdout",
     "output_type": "stream",
     "text": [
      "Missclassificaition Rate Ratio: nan\n",
      "FPR Ratio: nan\n",
      "FNR Ratio: nan\n",
      "1.0\n",
      "AOE: 0.0\n"
     ]
    }
   ],
   "source": [
    "ethnicity_test[ethnicity_test=='caucasian'] = 0\n",
    "ethnicity_test[ethnicity_test=='african'] = 1\n",
    "ethnicity_test = ethnicity_test.astype(int)\n",
    "ethnicity_test\n",
    "test_bias_df = pd.DataFrame(columns=['label','prediction','protected','rounded'])\n",
    "test_bias_df['label']=y_test.cpu().numpy()\n",
    "test_cos = cos_sim(X_test[:,:2048],X_test[:,2048:])\n",
    "test_eer_pred = (test_cos>eer_thresh)*1\n",
    "test_bias_df['prediction']=test_cos.cpu().numpy()\n",
    "test_bias_df['rounded']=test_eer_pred.cpu().numpy()\n",
    "test_bias_df['protected']=ethnicity_test\n",
    "\n",
    "test_unpriveleged_df = test_bias_df[test_bias_df['protected']==1]\n",
    "\n",
    "test_priveleged_df = test_bias_df[test_bias_df['protected']==0]\n",
    "\n",
    "test_aif_data = to_dataframe(y_test, test_cos, ethnicity_test)\n",
    "\n",
    "test_eo_pred = eo.predict(test_aif_data).labels.reshape(-1)\n",
    "test_eo_label = test_aif_data.labels.reshape(-1)\n",
    "test_eo_prot = test_aif_data.protected_attributes.reshape(-1)\n",
    "\n",
    "test_eo_unpriv_ids = (test_eo_prot==1)\n",
    "test_eo_unpriv_pred = test_eo_pred[test_eo_unpriv_ids]\n",
    "test_eo_unpriv_label = test_eo_label[test_eo_unpriv_ids]\n",
    "\n",
    "test_eo_priv_ids = (test_eo_prot==0)\n",
    "test_eo_priv_pred = test_eo_pred[test_eo_priv_ids]\n",
    "test_eo_priv_label = test_eo_label[test_eo_priv_ids]\n",
    "\n",
    "test_eo_unpriv_tn, test_eo_unpriv_fp, test_eo_unpriv_fn, test_eo_unpriv_tp, test_eo_unpriv_acc = confusion_mat(test_eo_unpriv_pred, test_eo_unpriv_label)\n",
    "test_eo_unpriv_fpr = test_eo_unpriv_fp/(test_eo_unpriv_fp+test_eo_unpriv_tn)\n",
    "test_eo_unpriv_fnr = test_eo_unpriv_fn/(test_eo_unpriv_fn+test_eo_unpriv_tp)\n",
    "\n",
    "test_eo_priv_tn, test_eo_priv_fp, test_eo_priv_fn, test_eo_priv_tp, test_eo_priv_acc = confusion_mat(test_eo_priv_pred, test_eo_priv_label)\n",
    "test_eo_priv_fpr = test_eo_priv_fp/(test_eo_priv_fp+test_eo_priv_tn)\n",
    "test_eo_priv_fnr = test_eo_priv_fn/(test_eo_priv_fn+test_eo_priv_tp)\n",
    "\n",
    "print('Missclassificaition Rate Ratio:',round((1-test_eo_unpriv_acc)/(1- test_eo_priv_acc),3))\n",
    "print('FPR Ratio:',test_eo_unpriv_fpr/test_eo_priv_fpr)\n",
    "print('FNR Ratio:',test_eo_unpriv_fnr/test_eo_priv_fnr)\n",
    "print(np.sum(test_eo_pred == test_eo_label)/len(test_eo_pred))\n",
    "print('AOE:',round(AOE(test_eo_unpriv_tn, test_eo_unpriv_fp, test_eo_unpriv_fn, test_eo_unpriv_tp,test_eo_priv_tn, test_eo_priv_fp, test_eo_priv_fn, test_eo_priv_tp),3))"
   ]
  },
  {
   "cell_type": "code",
   "execution_count": 20,
   "metadata": {},
   "outputs": [
    {
     "name": "stdout",
     "output_type": "stream",
     "text": [
      "tnm fm fnm tm\n",
      "(1518, 0, 0, 1555, 1.0)\n",
      "(1358, 0, 0, 1433, 1.0)\n",
      "0.0 0.0\n",
      "0.0 0.0\n"
     ]
    },
    {
     "data": {
      "text/plain": [
       "(2876, 0, 0, 2988, 1.0)"
      ]
     },
     "execution_count": 20,
     "metadata": {},
     "output_type": "execute_result"
    }
   ],
   "source": [
    "print('tnm', 'fm', 'fnm', 'tm')\n",
    "print(confusion_mat(test_eo_unpriv_pred, test_eo_unpriv_label))\n",
    "print(confusion_mat(test_eo_priv_pred, test_eo_priv_label))\n",
    "print(test_eo_unpriv_fpr,test_eo_unpriv_fnr)\n",
    "print(test_eo_priv_fpr,test_eo_priv_fnr)\n",
    "confusion_mat(test_eo_pred, test_eo_label)"
   ]
  },
  {
   "cell_type": "code",
   "execution_count": 21,
   "metadata": {},
   "outputs": [
    {
     "name": "stdout",
     "output_type": "stream",
     "text": [
      "Missclassificaition Rate Ratio: 0.548\n",
      "FPR Ratio: 0.123\n",
      "FNR Ratio: 0.761\n",
      "Overall Accuracy: 0.871\n",
      "AOE: 0.075\n"
     ]
    }
   ],
   "source": [
    "cost_constraint = 'weighted'\n",
    "privileged_groups=[{'y_prot': 0.}],\n",
    "unprivileged_groups=[{'y_prot': 1.}]\n",
    "cpp = CalibratedEqOddsPostprocessing(privileged_groups=[{'y_prot': 0.}],\n",
    "                                             unprivileged_groups=[{'y_prot': 1.}],\n",
    "                                             cost_constraint=cost_constraint,seed=random_state)\n",
    "cpp=cpp.fit(aif_data,aif_data)\n",
    "cpp_pred = cpp.predict(aif_data).labels.reshape(-1)\n",
    "cpp_label = aif_data.labels.reshape(-1)\n",
    "cpp_prot = aif_data.protected_attributes.reshape(-1)\n",
    "\n",
    "unpriv_ids = (cpp_prot==1)\n",
    "unpriv_pred = cpp_pred[unpriv_ids]\n",
    "unpriv_label = cpp_label[unpriv_ids]\n",
    "\n",
    "priv_ids = (cpp_prot==0)\n",
    "priv_pred = cpp_pred[priv_ids]\n",
    "priv_label = cpp_label[priv_ids]\n",
    "\n",
    "unpriv_tn, unpriv_fp, unpriv_fn, unpriv_tp, unpriv_acc = confusion_mat(unpriv_pred, unpriv_label)\n",
    "unpriv_fpr = unpriv_fp/(unpriv_fp+unpriv_tn)\n",
    "unpriv_fnr = unpriv_fn/(unpriv_fn+unpriv_tp)\n",
    "\n",
    "priv_tn, priv_fp, priv_fn, priv_tp, priv_acc = confusion_mat(priv_pred, priv_label)\n",
    "priv_fpr = priv_fp/(priv_fp+priv_tn)\n",
    "priv_fnr = priv_fn/(priv_fn+priv_tp)\n",
    "\n",
    "print('Missclassificaition Rate Ratio:',round((1-unpriv_acc)/(1- priv_acc),3))\n",
    "print('FPR Ratio:',round(unpriv_fpr/priv_fpr,3))\n",
    "print('FNR Ratio:',round(unpriv_fnr/priv_fnr,3))\n",
    "print('Overall Accuracy:',round(np.sum(cpp_pred == cpp_label)/len(cpp_label),3))\n",
    "print('AOE:',round(AOE(unpriv_tn, unpriv_fp, unpriv_fn, unpriv_tp,priv_tn, priv_fp, priv_fn, priv_tp),3))"
   ]
  },
  {
   "cell_type": "code",
   "execution_count": 22,
   "metadata": {},
   "outputs": [
    {
     "name": "stdout",
     "output_type": "stream",
     "text": [
      "Missclassificaition Rate Ratio: 0.547\n",
      "FPR Ratio: 0.09387758421574846\n",
      "FNR Ratio: 0.81070485409001\n",
      "0.876193724420191\n",
      "AOD: tensor(-0.0348, dtype=torch.float64)\n",
      "False Diff: tensor(0.1465, dtype=torch.float64)\n"
     ]
    }
   ],
   "source": [
    "test_cpp_pred = cpp.predict(test_aif_data).labels.reshape(-1)\n",
    "test_cpp_label = test_aif_data.labels.reshape(-1)\n",
    "test_cpp_prot = test_aif_data.protected_attributes.reshape(-1)\n",
    "\n",
    "test_cpp_unpriv_ids = (test_cpp_prot==1)\n",
    "test_cpp_unpriv_pred = test_cpp_pred[test_cpp_unpriv_ids]\n",
    "test_cpp_unpriv_label = test_cpp_label[test_cpp_unpriv_ids]\n",
    "\n",
    "test_cpp_priv_ids = (test_cpp_prot==0)\n",
    "test_cpp_priv_pred = test_cpp_pred[test_cpp_priv_ids]\n",
    "test_cpp_priv_label = test_cpp_label[test_cpp_priv_ids]\n",
    "\n",
    "test_cpp_unpriv_tn, test_cpp_unpriv_fp, test_cpp_unpriv_fn, test_cpp_unpriv_tp, test_cpp_unpriv_acc = confusion_mat(test_cpp_unpriv_pred, test_cpp_unpriv_label)\n",
    "test_cpp_unpriv_fpr = test_cpp_unpriv_fp/(test_cpp_unpriv_fp+test_cpp_unpriv_tn)\n",
    "test_cpp_unpriv_fnr = test_cpp_unpriv_fn/(test_cpp_unpriv_fn+test_cpp_unpriv_tp)\n",
    "\n",
    "test_cpp_priv_tn, test_cpp_priv_fp, test_cpp_priv_fn, test_cpp_priv_tp, test_cpp_priv_acc = confusion_mat(test_cpp_priv_pred, test_cpp_priv_label)\n",
    "test_cpp_priv_fpr = test_cpp_priv_fp/(test_cpp_priv_fp+test_cpp_priv_tn)\n",
    "test_cpp_priv_fnr = test_cpp_priv_fn/(test_cpp_priv_fn+test_cpp_priv_tp)\n",
    "\n",
    "print('Missclassificaition Rate Ratio:',round((1-test_cpp_unpriv_acc)/(1- test_cpp_priv_acc),3))\n",
    "print('FPR Ratio:',test_cpp_unpriv_fpr/test_cpp_priv_fpr)\n",
    "print('FNR Ratio:',test_cpp_unpriv_fnr/test_cpp_priv_fnr)\n",
    "print(np.sum(test_cpp_pred == test_cpp_label)/len(test_cpp_pred))\n",
    "print('AOD:',compute_bias(torch.tensor(test_cpp_pred), torch.tensor(test_cpp_label), torch.tensor(test_cpp_prot), 'aod'))\n",
    "print('False Diff:',compute_bias(torch.tensor(test_cpp_pred), torch.tensor(test_cpp_label), torch.tensor(test_cpp_prot), 'false_diff'))"
   ]
  },
  {
   "cell_type": "code",
   "execution_count": 23,
   "metadata": {},
   "outputs": [
    {
     "name": "stdout",
     "output_type": "stream",
     "text": [
      "tnm fm fnm tm\n",
      "(1501, 17, 256, 1299, 0.9111617312072893)\n",
      "(1196, 162, 291, 1142, 0.8376925833034754)\n",
      "0.011198945981554678 0.16463022508038586\n",
      "0.11929307805596466 0.2030704815073273\n"
     ]
    },
    {
     "data": {
      "text/plain": [
       "(2697, 179, 547, 2441, 0.876193724420191)"
      ]
     },
     "execution_count": 23,
     "metadata": {},
     "output_type": "execute_result"
    }
   ],
   "source": [
    "print('tnm', 'fm', 'fnm', 'tm')\n",
    "print(confusion_mat(test_cpp_unpriv_pred, test_cpp_unpriv_label))\n",
    "print(confusion_mat(test_cpp_priv_pred, test_cpp_priv_label))\n",
    "print(test_cpp_unpriv_fpr,test_cpp_unpriv_fnr)\n",
    "print(test_cpp_priv_fpr,test_cpp_priv_fnr)\n",
    "confusion_mat(test_cpp_pred, test_cpp_label)"
   ]
  },
  {
   "cell_type": "code",
   "execution_count": 24,
   "metadata": {},
   "outputs": [
    {
     "name": "stdout",
     "output_type": "stream",
     "text": [
      "Missclassificaition Rate Ratio: 0.948\n",
      "FPR Ratio: 13.455\n",
      "FNR Ratio: 0.537\n",
      "0.9479788504178748\n",
      "AOE: 0.045\n"
     ]
    }
   ],
   "source": [
    "roc = RejectOptionClassification(unprivileged_groups=[{'y_prot': 1.}],\n",
    "                                         privileged_groups=[{'y_prot': 0.}],\n",
    "                                         low_class_thresh=0.01, high_class_thresh=0.99,\n",
    "                                         num_class_thresh=100, num_ROC_margin=50,\n",
    "                                         metric_name=\"Average odds difference\",\n",
    "                                         metric_ub=0.05, metric_lb=-0.05)\n",
    "\n",
    "roc = roc.fit(aif_data, aif_data)\n",
    "\n",
    "roc_pred = roc.predict(aif_data).labels.reshape(-1)\n",
    "roc_label = aif_data.labels.reshape(-1)\n",
    "roc_prot = aif_data.protected_attributes.reshape(-1)\n",
    "\n",
    "roc_unpriv_ids = (roc_prot==1)\n",
    "roc_unpriv_pred = roc_pred[roc_unpriv_ids]\n",
    "roc_unpriv_label = roc_label[roc_unpriv_ids]\n",
    "\n",
    "roc_priv_ids = (roc_prot==0)\n",
    "roc_priv_pred = roc_pred[roc_priv_ids]\n",
    "roc_priv_label = roc_label[roc_priv_ids]\n",
    "\n",
    "roc_unpriv_tn, roc_unpriv_fp, roc_unpriv_fn, roc_unpriv_tp, roc_unpriv_acc = confusion_mat(roc_unpriv_pred, roc_unpriv_label)\n",
    "roc_unpriv_fpr = roc_unpriv_fp/(roc_unpriv_fp+roc_unpriv_tn)\n",
    "roc_unpriv_fnr = roc_unpriv_fn/(roc_unpriv_fn+roc_unpriv_tp)\n",
    "\n",
    "roc_priv_tn, roc_priv_fp, roc_priv_fn, roc_priv_tp, roc_priv_acc = confusion_mat(roc_priv_pred, roc_priv_label)\n",
    "roc_priv_fpr = roc_priv_fp/(roc_priv_fp+roc_priv_tn)\n",
    "roc_priv_fnr = roc_priv_fn/(roc_priv_fn+roc_priv_tp)\n",
    "\n",
    "print('Missclassificaition Rate Ratio:',round((1-roc_unpriv_acc)/(1- roc_priv_acc),3))\n",
    "print('FPR Ratio:',round(roc_unpriv_fpr/roc_priv_fpr,3))\n",
    "print('FNR Ratio:',round(roc_unpriv_fnr/roc_priv_fnr,3))\n",
    "print(np.sum(roc_pred == roc_label)/len(roc_pred))\n",
    "print('AOE:',round(AOE(roc_unpriv_tn, roc_unpriv_fp, roc_unpriv_fn, roc_unpriv_tp,roc_priv_tn, roc_priv_fp, roc_priv_fn, roc_priv_tp),3))\n"
   ]
  },
  {
   "cell_type": "code",
   "execution_count": 25,
   "metadata": {},
   "outputs": [
    {
     "name": "stdout",
     "output_type": "stream",
     "text": [
      "Missclassificaition Rate Ratio: 0.882\n",
      "FPR Ratio: 5.4314888010540185\n",
      "FNR Ratio: 0.486529128637335\n",
      "0.9411664392905866\n",
      "AOD: tensor(0.0517, dtype=torch.float64)\n",
      "False Diff: tensor(0.1034, dtype=torch.float64)\n"
     ]
    }
   ],
   "source": [
    "test_roc_pred = roc.predict(test_aif_data).labels.reshape(-1)\n",
    "test_roc_label = test_aif_data.labels.reshape(-1)\n",
    "test_roc_prot = test_aif_data.protected_attributes.reshape(-1)\n",
    "\n",
    "test_roc_unpriv_ids = (test_roc_prot==1)\n",
    "test_roc_unpriv_pred = test_roc_pred[test_roc_unpriv_ids]\n",
    "test_roc_unpriv_label = test_roc_label[test_roc_unpriv_ids]\n",
    "\n",
    "test_roc_priv_ids = (test_roc_prot==0)\n",
    "test_roc_priv_pred = test_roc_pred[test_roc_priv_ids]\n",
    "test_roc_priv_label = test_roc_label[test_roc_priv_ids]\n",
    "\n",
    "test_roc_unpriv_tn, test_roc_unpriv_fp, test_roc_unpriv_fn, test_roc_unpriv_tp, test_roc_unpriv_acc = confusion_mat(test_roc_unpriv_pred, test_roc_unpriv_label)\n",
    "test_roc_unpriv_fpr = test_roc_unpriv_fp/(test_roc_unpriv_fp+test_roc_unpriv_tn)\n",
    "test_roc_unpriv_fnr = test_roc_unpriv_fn/(test_roc_unpriv_fn+test_roc_unpriv_tp)\n",
    "\n",
    "test_roc_priv_tn, test_roc_priv_fp, test_roc_priv_fn, test_roc_priv_tp, test_roc_priv_acc = confusion_mat(test_roc_priv_pred, test_roc_priv_label)\n",
    "test_roc_priv_fpr = test_roc_priv_fp/(test_roc_priv_fp+test_roc_priv_tn)\n",
    "test_roc_priv_fnr = test_roc_priv_fn/(test_roc_priv_fn+test_roc_priv_tp)\n",
    "\n",
    "print('Missclassificaition Rate Ratio:',round((1-test_roc_unpriv_acc)/(1- test_roc_priv_acc),3))\n",
    "print('FPR Ratio:',test_roc_unpriv_fpr/test_roc_priv_fpr)\n",
    "print('FNR Ratio:',test_roc_unpriv_fnr/test_roc_priv_fnr)\n",
    "print(np.sum(test_roc_pred == test_roc_label)/len(test_roc_pred))\n",
    "print('AOD:',compute_bias(torch.tensor(test_roc_pred), torch.tensor(test_roc_label), torch.tensor(test_roc_prot), 'aod'))\n",
    "print('False Diff:',compute_bias(torch.tensor(test_roc_pred), torch.tensor(test_roc_label), torch.tensor(test_roc_prot), 'false_diff'))"
   ]
  },
  {
   "cell_type": "code",
   "execution_count": 26,
   "metadata": {},
   "outputs": [
    {
     "name": "stdout",
     "output_type": "stream",
     "text": [
      "tnm fm fnm tm\n",
      "(1433, 85, 85, 1470, 0.9446794663195575)\n",
      "(1344, 14, 161, 1272, 0.9372984593335721)\n",
      "0.055994729907773384 0.05466237942122187\n",
      "0.010309278350515464 0.11235170969993022\n"
     ]
    },
    {
     "data": {
      "text/plain": [
       "(2777, 99, 246, 2742, 0.9411664392905866)"
      ]
     },
     "execution_count": 26,
     "metadata": {},
     "output_type": "execute_result"
    }
   ],
   "source": [
    "print('tnm', 'fm', 'fnm', 'tm')\n",
    "print(confusion_mat(test_roc_unpriv_pred, test_roc_unpriv_label))\n",
    "print(confusion_mat(test_roc_priv_pred, test_roc_priv_label))\n",
    "print(test_roc_unpriv_fpr,test_roc_unpriv_fnr)\n",
    "print(test_roc_priv_fpr,test_roc_priv_fnr)\n",
    "confusion_mat(test_roc_pred, test_roc_label)"
   ]
  }
 ],
 "metadata": {
  "kernelspec": {
   "display_name": "Python 3.9.13 ('mpsEnv')",
   "language": "python",
   "name": "python3"
  },
  "language_info": {
   "codemirror_mode": {
    "name": "ipython",
    "version": 3
   },
   "file_extension": ".py",
   "mimetype": "text/x-python",
   "name": "python",
   "nbconvert_exporter": "python",
   "pygments_lexer": "ipython3",
   "version": "3.9.13"
  },
  "orig_nbformat": 4,
  "vscode": {
   "interpreter": {
    "hash": "dd368a5ef6c8892f6c87c22c8d56888e698af74589d34ad1bd17c3290e3a6a05"
   }
  }
 },
 "nbformat": 4,
 "nbformat_minor": 2
}
