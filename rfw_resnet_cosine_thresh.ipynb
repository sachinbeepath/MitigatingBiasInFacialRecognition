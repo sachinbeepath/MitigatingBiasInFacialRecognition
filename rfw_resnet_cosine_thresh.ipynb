{
 "cells": [
  {
   "cell_type": "code",
   "execution_count": 51,
   "metadata": {},
   "outputs": [
    {
     "name": "stdout",
     "output_type": "stream",
     "text": [
      "mps\n"
     ]
    }
   ],
   "source": [
    "import os\n",
    "import numpy as np\n",
    "import pandas as pd\n",
    "import torch\n",
    "import torch.nn as nn\n",
    "import torch.nn.functional as F\n",
    "\n",
    "import torch.optim as optim\n",
    "from torch.utils import data\n",
    "\n",
    "from tqdm.notebook import tqdm_notebook\n",
    "\n",
    "import warnings\n",
    "warnings.filterwarnings('ignore')\n",
    "\n",
    "device = torch.device(\"mps\" if torch.has_mps else \"cpu\")\n",
    "print(device)\n",
    "from itertools import product\n",
    "from sklearn.model_selection import train_test_split\n",
    "from sklearn.preprocessing import StandardScaler\n",
    "from sklearn.metrics import confusion_matrix\n",
    "import matplotlib.pyplot as plt\n",
    "from aif360.algorithms.postprocessing import (CalibratedEqOddsPostprocessing,\n",
    "                                              EqOddsPostprocessing,\n",
    "                                              RejectOptionClassification)\n",
    "from aif360.datasets import StandardDataset\n",
    "from aif360.metrics import BinaryLabelDatasetMetric, ClassificationMetric\n",
    "from aif360.metrics.utils import compute_boolean_conditioning_vector\n",
    "random_state = 1"
   ]
  },
  {
   "cell_type": "code",
   "execution_count": 52,
   "metadata": {},
   "outputs": [
    {
     "name": "stdout",
     "output_type": "stream",
     "text": [
      "1.0    14658\n",
      "0.0    14658\n",
      "Name: labels, dtype: int64\n"
     ]
    },
    {
     "data": {
      "text/html": [
       "<div>\n",
       "<style scoped>\n",
       "    .dataframe tbody tr th:only-of-type {\n",
       "        vertical-align: middle;\n",
       "    }\n",
       "\n",
       "    .dataframe tbody tr th {\n",
       "        vertical-align: top;\n",
       "    }\n",
       "\n",
       "    .dataframe thead th {\n",
       "        text-align: right;\n",
       "    }\n",
       "</style>\n",
       "<table border=\"1\" class=\"dataframe\">\n",
       "  <thead>\n",
       "    <tr style=\"text-align: right;\">\n",
       "      <th></th>\n",
       "      <th>reference_identity</th>\n",
       "      <th>candidate_identity</th>\n",
       "      <th>reference_ethnicity</th>\n",
       "      <th>candidate_ethnicity</th>\n",
       "      <th>labels</th>\n",
       "    </tr>\n",
       "  </thead>\n",
       "  <tbody>\n",
       "    <tr>\n",
       "      <th>0</th>\n",
       "      <td>m.0c7mh2</td>\n",
       "      <td>m.0c7mh2</td>\n",
       "      <td>african</td>\n",
       "      <td>African</td>\n",
       "      <td>1.0</td>\n",
       "    </tr>\n",
       "    <tr>\n",
       "      <th>1</th>\n",
       "      <td>m.0c7mh2</td>\n",
       "      <td>m.0c7mh2</td>\n",
       "      <td>african</td>\n",
       "      <td>African</td>\n",
       "      <td>1.0</td>\n",
       "    </tr>\n",
       "    <tr>\n",
       "      <th>2</th>\n",
       "      <td>m.026tq86</td>\n",
       "      <td>m.026tq86</td>\n",
       "      <td>african</td>\n",
       "      <td>African</td>\n",
       "      <td>1.0</td>\n",
       "    </tr>\n",
       "    <tr>\n",
       "      <th>3</th>\n",
       "      <td>m.026tq86</td>\n",
       "      <td>m.026tq86</td>\n",
       "      <td>african</td>\n",
       "      <td>African</td>\n",
       "      <td>1.0</td>\n",
       "    </tr>\n",
       "    <tr>\n",
       "      <th>4</th>\n",
       "      <td>m.02wz3nc</td>\n",
       "      <td>m.02wz3nc</td>\n",
       "      <td>african</td>\n",
       "      <td>African</td>\n",
       "      <td>1.0</td>\n",
       "    </tr>\n",
       "    <tr>\n",
       "      <th>...</th>\n",
       "      <td>...</td>\n",
       "      <td>...</td>\n",
       "      <td>...</td>\n",
       "      <td>...</td>\n",
       "      <td>...</td>\n",
       "    </tr>\n",
       "    <tr>\n",
       "      <th>29311</th>\n",
       "      <td>m.0402tg</td>\n",
       "      <td>m.01npnk3</td>\n",
       "      <td>caucasian</td>\n",
       "      <td>Caucasian</td>\n",
       "      <td>0.0</td>\n",
       "    </tr>\n",
       "    <tr>\n",
       "      <th>29312</th>\n",
       "      <td>m.05pbbnj</td>\n",
       "      <td>m.02rrb2n</td>\n",
       "      <td>caucasian</td>\n",
       "      <td>Caucasian</td>\n",
       "      <td>0.0</td>\n",
       "    </tr>\n",
       "    <tr>\n",
       "      <th>29313</th>\n",
       "      <td>m.09j6df</td>\n",
       "      <td>m.07kcsqd</td>\n",
       "      <td>african</td>\n",
       "      <td>African</td>\n",
       "      <td>0.0</td>\n",
       "    </tr>\n",
       "    <tr>\n",
       "      <th>29314</th>\n",
       "      <td>m.0fhrbz</td>\n",
       "      <td>m.025zgjt</td>\n",
       "      <td>african</td>\n",
       "      <td>African</td>\n",
       "      <td>0.0</td>\n",
       "    </tr>\n",
       "    <tr>\n",
       "      <th>29315</th>\n",
       "      <td>m.02q15tj</td>\n",
       "      <td>m.01w6m_0</td>\n",
       "      <td>african</td>\n",
       "      <td>African</td>\n",
       "      <td>0.0</td>\n",
       "    </tr>\n",
       "  </tbody>\n",
       "</table>\n",
       "<p>29316 rows × 5 columns</p>\n",
       "</div>"
      ],
      "text/plain": [
       "      reference_identity candidate_identity reference_ethnicity  \\\n",
       "0               m.0c7mh2           m.0c7mh2             african   \n",
       "1               m.0c7mh2           m.0c7mh2             african   \n",
       "2              m.026tq86          m.026tq86             african   \n",
       "3              m.026tq86          m.026tq86             african   \n",
       "4              m.02wz3nc          m.02wz3nc             african   \n",
       "...                  ...                ...                 ...   \n",
       "29311           m.0402tg          m.01npnk3           caucasian   \n",
       "29312          m.05pbbnj          m.02rrb2n           caucasian   \n",
       "29313           m.09j6df          m.07kcsqd             african   \n",
       "29314           m.0fhrbz          m.025zgjt             african   \n",
       "29315          m.02q15tj          m.01w6m_0             african   \n",
       "\n",
       "      candidate_ethnicity  labels  \n",
       "0                 African     1.0  \n",
       "1                 African     1.0  \n",
       "2                 African     1.0  \n",
       "3                 African     1.0  \n",
       "4                 African     1.0  \n",
       "...                   ...     ...  \n",
       "29311           Caucasian     0.0  \n",
       "29312           Caucasian     0.0  \n",
       "29313             African     0.0  \n",
       "29314             African     0.0  \n",
       "29315             African     0.0  \n",
       "\n",
       "[29316 rows x 5 columns]"
      ]
     },
     "execution_count": 52,
     "metadata": {},
     "output_type": "execute_result"
    }
   ],
   "source": [
    "# read in data and split\n",
    "X = torch.load('inputs/rfw_resnet50_face_embeddings.pt').cpu()\n",
    "y = torch.load('inputs/rfw_resnet50_labels.pt').cpu()\n",
    "df = pd.read_csv('inputs/rfw_resnet50_df.csv')\n",
    "df['reference_ethnicity'] = df['reference_ethnicity'].str.lower()\n",
    "ethnicity = df['reference_ethnicity']\n",
    "print(df['labels'].value_counts())\n",
    "df"
   ]
  },
  {
   "cell_type": "code",
   "execution_count": 53,
   "metadata": {},
   "outputs": [],
   "source": [
    "train_split, test_split = train_test_split(np.arange(len(X)),test_size=0.2, random_state=random_state)\n",
    "train_split, val_split = train_test_split(train_split,test_size=0.25, random_state=random_state)\n",
    "\n",
    "train_X = X[train_split]\n",
    "X_val = X[val_split]\n",
    "test_X = X[test_split]\n",
    "\n",
    "train_y = y[train_split]\n",
    "y_val = y[val_split]\n",
    "test_y = y[test_split]\n",
    "\n",
    "train_df = df.iloc[train_split]\n",
    "val_df = df.iloc[val_split]\n",
    "test_df = df.iloc[test_split]\n",
    "\n",
    "\n",
    "train_ethnicity = ethnicity[train_split].values\n",
    "train_ethnicity[train_ethnicity=='caucasian'] = 0\n",
    "train_ethnicity[train_ethnicity=='african'] = 1\n",
    "train_ethnicity = train_ethnicity.astype(int)\n",
    "\n",
    "ethnicity_val = ethnicity[val_split].values\n",
    "ethnicity_val[ethnicity_val=='caucasian'] = 0\n",
    "ethnicity_val[ethnicity_val=='african'] = 1\n",
    "ethnicity_val = ethnicity_val.astype(int)\n",
    "\n",
    "test_ethnicity = ethnicity[test_split].values\n",
    "test_ethnicity[test_ethnicity=='caucasian'] = 0\n",
    "test_ethnicity[test_ethnicity=='african'] = 1\n",
    "test_ethnicity = test_ethnicity.astype(int)"
   ]
  },
  {
   "cell_type": "code",
   "execution_count": 54,
   "metadata": {},
   "outputs": [
    {
     "name": "stdout",
     "output_type": "stream",
     "text": [
      "non matches\n",
      "african      4492\n",
      "caucasian    4376\n",
      "Name: reference_ethnicity, dtype: int64\n",
      "matches\n",
      "african      4396\n",
      "caucasian    4325\n",
      "Name: reference_ethnicity, dtype: int64\n"
     ]
    }
   ],
   "source": [
    "train_matches = train_df[train_df.labels==1]\n",
    "train_non_matches = train_df[train_df.labels==0]\n",
    "print('non matches')\n",
    "print(train_non_matches['reference_ethnicity'].value_counts())\n",
    "print('matches')\n",
    "print(train_matches['reference_ethnicity'].value_counts())\n",
    "\n",
    "african_non_matches = train_non_matches[train_non_matches['reference_ethnicity']=='african']\n",
    "caucasian_non_matches = train_non_matches[train_non_matches['reference_ethnicity']=='caucasian']\n",
    "\n",
    "african_matches = train_matches[train_matches['reference_ethnicity']=='african']\n",
    "caucasian_matches = train_matches[train_matches['reference_ethnicity']=='caucasian']"
   ]
  },
  {
   "cell_type": "code",
   "execution_count": 55,
   "metadata": {},
   "outputs": [
    {
     "name": "stdout",
     "output_type": "stream",
     "text": [
      "non matches\n",
      "caucasian    1460\n",
      "african      1454\n",
      "Name: reference_ethnicity, dtype: int64\n",
      "matches\n",
      "caucasian    1480\n",
      "african      1469\n",
      "Name: reference_ethnicity, dtype: int64\n"
     ]
    }
   ],
   "source": [
    "val_matches = val_df[val_df.labels==1]\n",
    "val_non_matches = val_df[val_df.labels==0]\n",
    "print('non matches')\n",
    "print(val_non_matches['reference_ethnicity'].value_counts())\n",
    "print('matches')\n",
    "print(val_matches['reference_ethnicity'].value_counts())"
   ]
  },
  {
   "cell_type": "code",
   "execution_count": 56,
   "metadata": {},
   "outputs": [
    {
     "name": "stdout",
     "output_type": "stream",
     "text": [
      "non matches\n",
      "african      1518\n",
      "caucasian    1358\n",
      "Name: reference_ethnicity, dtype: int64\n",
      "matches\n",
      "african      1555\n",
      "caucasian    1433\n",
      "Name: reference_ethnicity, dtype: int64\n"
     ]
    }
   ],
   "source": [
    "test_matches = test_df[test_df.labels==1]\n",
    "test_non_matches = test_df[test_df.labels==0]\n",
    "print('non matches')\n",
    "print(test_non_matches['reference_ethnicity'].value_counts())\n",
    "print('matches')\n",
    "print(test_matches['reference_ethnicity'].value_counts())"
   ]
  },
  {
   "cell_type": "code",
   "execution_count": 57,
   "metadata": {},
   "outputs": [
    {
     "data": {
      "text/html": [
       "<div>\n",
       "<style scoped>\n",
       "    .dataframe tbody tr th:only-of-type {\n",
       "        vertical-align: middle;\n",
       "    }\n",
       "\n",
       "    .dataframe tbody tr th {\n",
       "        vertical-align: top;\n",
       "    }\n",
       "\n",
       "    .dataframe thead th {\n",
       "        text-align: right;\n",
       "    }\n",
       "</style>\n",
       "<table border=\"1\" class=\"dataframe\">\n",
       "  <thead>\n",
       "    <tr style=\"text-align: right;\">\n",
       "      <th></th>\n",
       "      <th>reference_identity</th>\n",
       "      <th>candidate_identity</th>\n",
       "      <th>reference_ethnicity</th>\n",
       "      <th>candidate_ethnicity</th>\n",
       "      <th>labels</th>\n",
       "    </tr>\n",
       "  </thead>\n",
       "  <tbody>\n",
       "    <tr>\n",
       "      <th>6419</th>\n",
       "      <td>m.03j6s0</td>\n",
       "      <td>m.03j6s0</td>\n",
       "      <td>african</td>\n",
       "      <td>African</td>\n",
       "      <td>1.0</td>\n",
       "    </tr>\n",
       "    <tr>\n",
       "      <th>5541</th>\n",
       "      <td>m.01qd5bm</td>\n",
       "      <td>m.01qd5bm</td>\n",
       "      <td>african</td>\n",
       "      <td>African</td>\n",
       "      <td>1.0</td>\n",
       "    </tr>\n",
       "    <tr>\n",
       "      <th>5881</th>\n",
       "      <td>m.02qdp4v</td>\n",
       "      <td>m.02qdp4v</td>\n",
       "      <td>african</td>\n",
       "      <td>African</td>\n",
       "      <td>1.0</td>\n",
       "    </tr>\n",
       "    <tr>\n",
       "      <th>229</th>\n",
       "      <td>m.0272001</td>\n",
       "      <td>m.0272001</td>\n",
       "      <td>african</td>\n",
       "      <td>African</td>\n",
       "      <td>1.0</td>\n",
       "    </tr>\n",
       "    <tr>\n",
       "      <th>5264</th>\n",
       "      <td>m.05f962</td>\n",
       "      <td>m.05f962</td>\n",
       "      <td>african</td>\n",
       "      <td>African</td>\n",
       "      <td>1.0</td>\n",
       "    </tr>\n",
       "    <tr>\n",
       "      <th>...</th>\n",
       "      <td>...</td>\n",
       "      <td>...</td>\n",
       "      <td>...</td>\n",
       "      <td>...</td>\n",
       "      <td>...</td>\n",
       "    </tr>\n",
       "    <tr>\n",
       "      <th>18810</th>\n",
       "      <td>m.0g3f1p</td>\n",
       "      <td>m.01kxfvq</td>\n",
       "      <td>caucasian</td>\n",
       "      <td>Caucasian</td>\n",
       "      <td>0.0</td>\n",
       "    </tr>\n",
       "    <tr>\n",
       "      <th>20550</th>\n",
       "      <td>m.07gb0p</td>\n",
       "      <td>m.0bgwxt</td>\n",
       "      <td>caucasian</td>\n",
       "      <td>Caucasian</td>\n",
       "      <td>0.0</td>\n",
       "    </tr>\n",
       "    <tr>\n",
       "      <th>24018</th>\n",
       "      <td>m.07pyvy</td>\n",
       "      <td>m.01y7m1</td>\n",
       "      <td>caucasian</td>\n",
       "      <td>Caucasian</td>\n",
       "      <td>0.0</td>\n",
       "    </tr>\n",
       "    <tr>\n",
       "      <th>20879</th>\n",
       "      <td>m.02qg85</td>\n",
       "      <td>m.070p26</td>\n",
       "      <td>caucasian</td>\n",
       "      <td>Caucasian</td>\n",
       "      <td>0.0</td>\n",
       "    </tr>\n",
       "    <tr>\n",
       "      <th>27148</th>\n",
       "      <td>m.05ppy0</td>\n",
       "      <td>m.0g9zt_w</td>\n",
       "      <td>caucasian</td>\n",
       "      <td>Caucasian</td>\n",
       "      <td>0.0</td>\n",
       "    </tr>\n",
       "  </tbody>\n",
       "</table>\n",
       "<p>17300 rows × 5 columns</p>\n",
       "</div>"
      ],
      "text/plain": [
       "      reference_identity candidate_identity reference_ethnicity  \\\n",
       "6419            m.03j6s0           m.03j6s0             african   \n",
       "5541           m.01qd5bm          m.01qd5bm             african   \n",
       "5881           m.02qdp4v          m.02qdp4v             african   \n",
       "229            m.0272001          m.0272001             african   \n",
       "5264            m.05f962           m.05f962             african   \n",
       "...                  ...                ...                 ...   \n",
       "18810           m.0g3f1p          m.01kxfvq           caucasian   \n",
       "20550           m.07gb0p           m.0bgwxt           caucasian   \n",
       "24018           m.07pyvy           m.01y7m1           caucasian   \n",
       "20879           m.02qg85           m.070p26           caucasian   \n",
       "27148           m.05ppy0          m.0g9zt_w           caucasian   \n",
       "\n",
       "      candidate_ethnicity  labels  \n",
       "6419              African     1.0  \n",
       "5541              African     1.0  \n",
       "5881              African     1.0  \n",
       "229               African     1.0  \n",
       "5264              African     1.0  \n",
       "...                   ...     ...  \n",
       "18810           Caucasian     0.0  \n",
       "20550           Caucasian     0.0  \n",
       "24018           Caucasian     0.0  \n",
       "20879           Caucasian     0.0  \n",
       "27148           Caucasian     0.0  \n",
       "\n",
       "[17300 rows x 5 columns]"
      ]
     },
     "execution_count": 57,
     "metadata": {},
     "output_type": "execute_result"
    }
   ],
   "source": [
    "np.random.seed(random_state)\n",
    "african_matches_sub_idx = african_matches.index[np.random.choice(len(african_matches.index), size=4325, replace=False)]\n",
    "caucasian_non_matches_sub_idx = caucasian_non_matches.index[np.random.choice(len(caucasian_non_matches.index), size=4325, replace=False)]\n",
    "african_non_matches_sub_idx = african_non_matches.index[np.random.choice(len(african_non_matches.index), size=4325, replace=False)]\n",
    "caucasian_matches_sub_idx = caucasian_matches.index\n",
    "\n",
    "X_train = torch.cat([X[african_matches_sub_idx],X[caucasian_matches_sub_idx],X[african_non_matches_sub_idx],X[caucasian_non_matches_sub_idx]])\n",
    "y_train = torch.cat([y[african_matches_sub_idx],y[caucasian_matches_sub_idx],y[african_non_matches_sub_idx],y[caucasian_non_matches_sub_idx]])\n",
    "ethnicity_train = np.concatenate([ethnicity[african_matches_sub_idx],ethnicity[caucasian_matches_sub_idx],ethnicity[african_non_matches_sub_idx],ethnicity[caucasian_non_matches_sub_idx]])\n",
    "df_train = pd.concat([df.iloc[african_matches_sub_idx],df.iloc[caucasian_matches_sub_idx],df.iloc[african_non_matches_sub_idx],df.iloc[caucasian_non_matches_sub_idx]])\n",
    "df_train"
   ]
  },
  {
   "cell_type": "code",
   "execution_count": 58,
   "metadata": {},
   "outputs": [
    {
     "data": {
      "text/html": [
       "<div>\n",
       "<style scoped>\n",
       "    .dataframe tbody tr th:only-of-type {\n",
       "        vertical-align: middle;\n",
       "    }\n",
       "\n",
       "    .dataframe tbody tr th {\n",
       "        vertical-align: top;\n",
       "    }\n",
       "\n",
       "    .dataframe thead th {\n",
       "        text-align: right;\n",
       "    }\n",
       "</style>\n",
       "<table border=\"1\" class=\"dataframe\">\n",
       "  <thead>\n",
       "    <tr style=\"text-align: right;\">\n",
       "      <th></th>\n",
       "      <th>reference_identity</th>\n",
       "      <th>candidate_identity</th>\n",
       "      <th>reference_ethnicity</th>\n",
       "      <th>candidate_ethnicity</th>\n",
       "      <th>labels</th>\n",
       "    </tr>\n",
       "  </thead>\n",
       "  <tbody>\n",
       "    <tr>\n",
       "      <th>26599</th>\n",
       "      <td>m.08dyjb</td>\n",
       "      <td>m.01dysq</td>\n",
       "      <td>african</td>\n",
       "      <td>African</td>\n",
       "      <td>0.0</td>\n",
       "    </tr>\n",
       "    <tr>\n",
       "      <th>13208</th>\n",
       "      <td>m.05nqz8</td>\n",
       "      <td>m.05nqz8</td>\n",
       "      <td>caucasian</td>\n",
       "      <td>Caucasian</td>\n",
       "      <td>1.0</td>\n",
       "    </tr>\n",
       "    <tr>\n",
       "      <th>7459</th>\n",
       "      <td>m.0chlpf</td>\n",
       "      <td>m.0chlpf</td>\n",
       "      <td>caucasian</td>\n",
       "      <td>Caucasian</td>\n",
       "      <td>1.0</td>\n",
       "    </tr>\n",
       "    <tr>\n",
       "      <th>4747</th>\n",
       "      <td>m.0gzkxh</td>\n",
       "      <td>m.0gzkxh</td>\n",
       "      <td>african</td>\n",
       "      <td>African</td>\n",
       "      <td>1.0</td>\n",
       "    </tr>\n",
       "    <tr>\n",
       "      <th>22098</th>\n",
       "      <td>m.01tl0vh</td>\n",
       "      <td>m.027g5hs</td>\n",
       "      <td>african</td>\n",
       "      <td>African</td>\n",
       "      <td>0.0</td>\n",
       "    </tr>\n",
       "    <tr>\n",
       "      <th>...</th>\n",
       "      <td>...</td>\n",
       "      <td>...</td>\n",
       "      <td>...</td>\n",
       "      <td>...</td>\n",
       "      <td>...</td>\n",
       "    </tr>\n",
       "    <tr>\n",
       "      <th>27224</th>\n",
       "      <td>m.0glqs_8</td>\n",
       "      <td>m.05972y</td>\n",
       "      <td>african</td>\n",
       "      <td>African</td>\n",
       "      <td>0.0</td>\n",
       "    </tr>\n",
       "    <tr>\n",
       "      <th>5728</th>\n",
       "      <td>m.06w9s22</td>\n",
       "      <td>m.06w9s22</td>\n",
       "      <td>african</td>\n",
       "      <td>African</td>\n",
       "      <td>1.0</td>\n",
       "    </tr>\n",
       "    <tr>\n",
       "      <th>18206</th>\n",
       "      <td>m.04zvsy6</td>\n",
       "      <td>m.06tvw7</td>\n",
       "      <td>caucasian</td>\n",
       "      <td>Caucasian</td>\n",
       "      <td>0.0</td>\n",
       "    </tr>\n",
       "    <tr>\n",
       "      <th>25909</th>\n",
       "      <td>m.0h_dpyh</td>\n",
       "      <td>m.04d_dnm</td>\n",
       "      <td>african</td>\n",
       "      <td>African</td>\n",
       "      <td>0.0</td>\n",
       "    </tr>\n",
       "    <tr>\n",
       "      <th>16263</th>\n",
       "      <td>m.05zp39m</td>\n",
       "      <td>m.01nwty</td>\n",
       "      <td>caucasian</td>\n",
       "      <td>Caucasian</td>\n",
       "      <td>0.0</td>\n",
       "    </tr>\n",
       "  </tbody>\n",
       "</table>\n",
       "<p>587 rows × 5 columns</p>\n",
       "</div>"
      ],
      "text/plain": [
       "      reference_identity candidate_identity reference_ethnicity  \\\n",
       "26599           m.08dyjb           m.01dysq             african   \n",
       "13208           m.05nqz8           m.05nqz8           caucasian   \n",
       "7459            m.0chlpf           m.0chlpf           caucasian   \n",
       "4747            m.0gzkxh           m.0gzkxh             african   \n",
       "22098          m.01tl0vh          m.027g5hs             african   \n",
       "...                  ...                ...                 ...   \n",
       "27224          m.0glqs_8           m.05972y             african   \n",
       "5728           m.06w9s22          m.06w9s22             african   \n",
       "18206          m.04zvsy6           m.06tvw7           caucasian   \n",
       "25909          m.0h_dpyh          m.04d_dnm             african   \n",
       "16263          m.05zp39m           m.01nwty           caucasian   \n",
       "\n",
       "      candidate_ethnicity  labels  \n",
       "26599             African     0.0  \n",
       "13208           Caucasian     1.0  \n",
       "7459            Caucasian     1.0  \n",
       "4747              African     1.0  \n",
       "22098             African     0.0  \n",
       "...                   ...     ...  \n",
       "27224             African     0.0  \n",
       "5728              African     1.0  \n",
       "18206           Caucasian     0.0  \n",
       "25909             African     0.0  \n",
       "16263           Caucasian     0.0  \n",
       "\n",
       "[587 rows x 5 columns]"
      ]
     },
     "execution_count": 58,
     "metadata": {},
     "output_type": "execute_result"
    }
   ],
   "source": [
    "test_split, holdout_split = train_test_split(np.arange(5864),test_size=0.1, random_state=random_state)\n",
    "X_test = test_X[test_split]\n",
    "X_holdout = test_X[holdout_split]\n",
    "y_test = test_y[test_split]\n",
    "y_holdout = test_y[test_split]\n",
    "ethnicity_test = test_ethnicity[holdout_split]\n",
    "ethnicity_holdout = test_ethnicity[holdout_split]\n",
    "df_test = test_df.iloc[test_split]\n",
    "df_holdout = test_df.iloc[holdout_split]\n",
    "df_holdout"
   ]
  },
  {
   "cell_type": "code",
   "execution_count": 59,
   "metadata": {},
   "outputs": [],
   "source": [
    "cos_sim = nn.CosineSimilarity(dim=1, eps=1e-6)\n",
    "def confusion_mat(y_pred, y_test):\n",
    "    tn, fp, fn, tp = confusion_matrix(y_test, y_pred).ravel()\n",
    "    acc = (tn + tp)/(tn+tp+fn+fp)\n",
    "    return tn, fp, fn, tp, acc\n",
    "def AOE(tn_1,fp_1,fn_1,tp_1,tn_0,fp_0,fn_0,tp_0):\n",
    "    tpr_1 = tp_1/(tp_1+fn_1)\n",
    "    tpr_0 = tp_0/(tp_0+fn_0)\n",
    "\n",
    "    fpr_1 = fp_1/(fp_1+tn_1)\n",
    "    fpr_0 = fp_0/(fp_0+tn_0)\n",
    "\n",
    "\n",
    "    return (np.abs(fpr_1-fpr_0) + np.abs(tpr_1 - tpr_0))/2"
   ]
  },
  {
   "cell_type": "code",
   "execution_count": 60,
   "metadata": {},
   "outputs": [
    {
     "data": {
      "application/vnd.jupyter.widget-view+json": {
       "model_id": "55b003d521024bd19167a897086cfc5b",
       "version_major": 2,
       "version_minor": 0
      },
      "text/plain": [
       "  0%|          | 0/1001 [00:00<?, ?it/s]"
      ]
     },
     "metadata": {},
     "output_type": "display_data"
    }
   ],
   "source": [
    "train_cos = cos_sim(X_train[:,:2048],X_train[:,2048:])\n",
    "thresholds = np.arange(0,1.001,0.001)\n",
    "tpr_list = []\n",
    "tnr_list = []\n",
    "fpr_list = []\n",
    "fnr_list = []\n",
    "acc_list = []\n",
    "for thresh in tqdm_notebook(thresholds,total=len(thresholds)):\n",
    "    pred = (train_cos>thresh)*1\n",
    "    tn, fp, fn, tp, acc = confusion_mat(pred, y_train.numpy())\n",
    "    tnr_list.append(tn/(tn+fp))\n",
    "    tpr_list.append(tp/(tp+fn))\n",
    "    fnr_list.append(fn/(fn+tp))\n",
    "    fpr_list.append(fp/(fp+tn))\n",
    "    acc_list.append(acc)\n"
   ]
  },
  {
   "cell_type": "code",
   "execution_count": 61,
   "metadata": {},
   "outputs": [
    {
     "data": {
      "text/plain": [
       "array([0.40894118])"
      ]
     },
     "execution_count": 61,
     "metadata": {},
     "output_type": "execute_result"
    }
   ],
   "source": [
    "def solve(f,x):\n",
    "    s = np.sign(f)\n",
    "    z = np.where(s == 0)[0]\n",
    "    if z:\n",
    "        return z\n",
    "    else:\n",
    "        s = s[0:-1] + s[1:]\n",
    "        z = np.where(s == 0)[0]\n",
    "        return z\n",
    "\n",
    "def interp(f,x,z):\n",
    "    m = (f[z+1] - f[z]) / (x[z+1] - x[z])\n",
    "    return x[z] - f[z]/m\n",
    "f = np.array(fnr_list)-np.array(fpr_list)\n",
    "z = solve(f,thresholds)\n",
    "ans = interp(f,thresholds,z)\n",
    "ans"
   ]
  },
  {
   "cell_type": "code",
   "execution_count": 62,
   "metadata": {},
   "outputs": [
    {
     "data": {
      "text/plain": [
       "array(0.05253179)"
      ]
     },
     "execution_count": 62,
     "metadata": {},
     "output_type": "execute_result"
    }
   ],
   "source": [
    "from scipy import interpolate\n",
    "\n",
    "x = thresholds\n",
    "y = fpr_list\n",
    "f = interpolate.interp1d(x, y, fill_value='extrapolate')\n",
    "f(0.40895)"
   ]
  },
  {
   "cell_type": "code",
   "execution_count": 63,
   "metadata": {},
   "outputs": [
    {
     "data": {
      "text/plain": [
       "486"
      ]
     },
     "execution_count": 63,
     "metadata": {},
     "output_type": "execute_result"
    }
   ],
   "source": [
    "fpr_list = np.array(fpr_list)\n",
    "np.abs(fpr_list-0.01).argmin()"
   ]
  },
  {
   "cell_type": "code",
   "execution_count": 64,
   "metadata": {},
   "outputs": [
    {
     "data": {
      "image/png": "[encoded data removed]",
      "text/plain": [
       "<Figure size 576x396 with 1 Axes>"
      ]
     },
     "metadata": {},
     "output_type": "display_data"
    }
   ],
   "source": [
    "with plt.style.context('seaborn'):    \n",
    "    plt.plot(thresholds,fnr_list,label='FNMR')\n",
    "    plt.plot(thresholds,fpr_list,label='FMR')\n",
    "    # plt.plot(thresholds,np.array(fnr_list)-np.array(fpr_list))\n",
    "    plt.axvline(x=0.40895,linestyle ='--')\n",
    "    plt.legend()\n",
    "    plt.xlabel('Cosine Similarity Threshold')\n",
    "    plt.ylabel('Rate')\n",
    "    plt.title('ResNet-50 RFW EER Threshold')\n",
    "plt.show()"
   ]
  },
  {
   "cell_type": "code",
   "execution_count": 14,
   "metadata": {},
   "outputs": [
    {
     "data": {
      "image/png": "[encoded data removed]",
      "text/plain": [
       "<Figure size 576x396 with 1 Axes>"
      ]
     },
     "metadata": {},
     "output_type": "display_data"
    }
   ],
   "source": [
    "with plt.style.context('seaborn'):    \n",
    "    plt.plot(thresholds,tnr_list,label='TNR')\n",
    "    plt.plot(thresholds,tpr_list,label='TPR')\n",
    "    plt.legend()\n",
    "    plt.axvline(x=ans,linestyle ='--')\n",
    "plt.show()"
   ]
  },
  {
   "cell_type": "code",
   "execution_count": 15,
   "metadata": {},
   "outputs": [
    {
     "name": "stdout",
     "output_type": "stream",
     "text": [
      "0.40900000000000003\n",
      "[0.412]\n"
     ]
    }
   ],
   "source": [
    "print(thresholds[np.abs(thresholds-ans).argmin()])\n",
    "print(thresholds[acc_list == max(acc_list)])"
   ]
  },
  {
   "cell_type": "code",
   "execution_count": 16,
   "metadata": {},
   "outputs": [
    {
     "data": {
      "text/html": [
       "<div>\n",
       "<style scoped>\n",
       "    .dataframe tbody tr th:only-of-type {\n",
       "        vertical-align: middle;\n",
       "    }\n",
       "\n",
       "    .dataframe tbody tr th {\n",
       "        vertical-align: top;\n",
       "    }\n",
       "\n",
       "    .dataframe thead th {\n",
       "        text-align: right;\n",
       "    }\n",
       "</style>\n",
       "<table border=\"1\" class=\"dataframe\">\n",
       "  <thead>\n",
       "    <tr style=\"text-align: right;\">\n",
       "      <th></th>\n",
       "      <th>reference_ethnicity</th>\n",
       "      <th>labels</th>\n",
       "      <th>eer_pred</th>\n",
       "      <th>acc_pred</th>\n",
       "    </tr>\n",
       "  </thead>\n",
       "  <tbody>\n",
       "    <tr>\n",
       "      <th>6419</th>\n",
       "      <td>african</td>\n",
       "      <td>1.0</td>\n",
       "      <td>1</td>\n",
       "      <td>1</td>\n",
       "    </tr>\n",
       "    <tr>\n",
       "      <th>5541</th>\n",
       "      <td>african</td>\n",
       "      <td>1.0</td>\n",
       "      <td>1</td>\n",
       "      <td>1</td>\n",
       "    </tr>\n",
       "    <tr>\n",
       "      <th>5881</th>\n",
       "      <td>african</td>\n",
       "      <td>1.0</td>\n",
       "      <td>1</td>\n",
       "      <td>1</td>\n",
       "    </tr>\n",
       "    <tr>\n",
       "      <th>229</th>\n",
       "      <td>african</td>\n",
       "      <td>1.0</td>\n",
       "      <td>1</td>\n",
       "      <td>1</td>\n",
       "    </tr>\n",
       "    <tr>\n",
       "      <th>5264</th>\n",
       "      <td>african</td>\n",
       "      <td>1.0</td>\n",
       "      <td>1</td>\n",
       "      <td>1</td>\n",
       "    </tr>\n",
       "    <tr>\n",
       "      <th>...</th>\n",
       "      <td>...</td>\n",
       "      <td>...</td>\n",
       "      <td>...</td>\n",
       "      <td>...</td>\n",
       "    </tr>\n",
       "    <tr>\n",
       "      <th>27661</th>\n",
       "      <td>african</td>\n",
       "      <td>0.0</td>\n",
       "      <td>1</td>\n",
       "      <td>1</td>\n",
       "    </tr>\n",
       "    <tr>\n",
       "      <th>15944</th>\n",
       "      <td>african</td>\n",
       "      <td>0.0</td>\n",
       "      <td>0</td>\n",
       "      <td>0</td>\n",
       "    </tr>\n",
       "    <tr>\n",
       "      <th>22796</th>\n",
       "      <td>african</td>\n",
       "      <td>0.0</td>\n",
       "      <td>1</td>\n",
       "      <td>1</td>\n",
       "    </tr>\n",
       "    <tr>\n",
       "      <th>27872</th>\n",
       "      <td>african</td>\n",
       "      <td>0.0</td>\n",
       "      <td>0</td>\n",
       "      <td>0</td>\n",
       "    </tr>\n",
       "    <tr>\n",
       "      <th>16091</th>\n",
       "      <td>african</td>\n",
       "      <td>0.0</td>\n",
       "      <td>0</td>\n",
       "      <td>0</td>\n",
       "    </tr>\n",
       "  </tbody>\n",
       "</table>\n",
       "<p>8650 rows × 4 columns</p>\n",
       "</div>"
      ],
      "text/plain": [
       "      reference_ethnicity  labels  eer_pred  acc_pred\n",
       "6419              african     1.0         1         1\n",
       "5541              african     1.0         1         1\n",
       "5881              african     1.0         1         1\n",
       "229               african     1.0         1         1\n",
       "5264              african     1.0         1         1\n",
       "...                   ...     ...       ...       ...\n",
       "27661             african     0.0         1         1\n",
       "15944             african     0.0         0         0\n",
       "22796             african     0.0         1         1\n",
       "27872             african     0.0         0         0\n",
       "16091             african     0.0         0         0\n",
       "\n",
       "[8650 rows x 4 columns]"
      ]
     },
     "execution_count": 16,
     "metadata": {},
     "output_type": "execute_result"
    }
   ],
   "source": [
    "eer_thresh = 0.40895\n",
    "acc_thresh = 0.413\n",
    "eer_pred = (train_cos>eer_thresh)*1\n",
    "acc_pred = (train_cos>acc_thresh)*1\n",
    "df_bias = df_train.drop(['reference_identity','candidate_identity','candidate_ethnicity'],axis=1)\n",
    "df_bias['eer_pred'] = eer_pred\n",
    "df_bias['acc_pred'] = acc_pred\n",
    "df_bias_african = df_bias[df_bias['reference_ethnicity']=='african']\n",
    "df_bias_caucasian = df_bias[df_bias['reference_ethnicity']=='caucasian']\n",
    "df_bias_african"
   ]
  },
  {
   "cell_type": "code",
   "execution_count": 17,
   "metadata": {},
   "outputs": [],
   "source": [
    "african_eer_tn, african_eer_fp, african_eer_fn, african_eer_tp, african_eer_acc = confusion_mat(df_bias_african['eer_pred'], df_bias_african['labels'])\n",
    "\n",
    "caucasian_eer_tn, caucasian_eer_fp, caucasian_eer_fn, caucasian_eer_tp, caucasian_eer_acc = confusion_mat(df_bias_caucasian['eer_pred'], df_bias_caucasian['labels'])\n",
    "\n",
    "african_acc_tn, african_acc_fp, african_acc_fn, african_acc_tp, african_acc_acc = confusion_mat(df_bias_african['acc_pred'], df_bias_african['labels'])\n",
    "\n",
    "caucasian_acc_tn, caucasian_acc_fp, caucasian_acc_fn, caucasian_acc_tp, caucasian_acc_acc = confusion_mat(df_bias_caucasian['acc_pred'], df_bias_caucasian['labels'])"
   ]
  },
  {
   "cell_type": "code",
   "execution_count": 18,
   "metadata": {},
   "outputs": [
    {
     "name": "stdout",
     "output_type": "stream",
     "text": [
      "0.42319749216300934\n",
      "6.583333333333333\n",
      "1.0852417302798982\n",
      "0.9560859188544153\n",
      "1.3984168865435378\n"
     ]
    }
   ],
   "source": [
    "african_eer_tnr = african_eer_tn/(african_eer_tn+african_eer_fp)\n",
    "african_eer_tpr = african_eer_tp/(african_eer_tp+african_eer_fn)\n",
    "african_eer_fnr = african_eer_fn/(african_eer_fn+african_eer_tp)\n",
    "african_eer_fpr = african_eer_fp/(african_eer_tn+african_eer_fp)\n",
    "\n",
    "caucasian_eer_tnr = caucasian_eer_tn/(caucasian_eer_tn+caucasian_eer_fp)\n",
    "caucasian_eer_tpr = caucasian_eer_tp/(caucasian_eer_tp+caucasian_eer_fn)\n",
    "caucasian_eer_fnr = caucasian_eer_fn/(caucasian_eer_fn+caucasian_eer_tp)\n",
    "caucasian_eer_fpr = caucasian_eer_fp/(caucasian_eer_tn+caucasian_eer_fp)\n",
    "\n",
    "print(african_eer_fnr/caucasian_eer_fnr)\n",
    "print(african_eer_fpr/caucasian_eer_fpr)\n",
    "print(caucasian_eer_tnr/african_eer_tnr)\n",
    "print(caucasian_eer_tpr/african_eer_tpr)\n",
    "print((1-african_eer_acc)/(1-caucasian_eer_acc))"
   ]
  },
  {
   "cell_type": "code",
   "execution_count": 19,
   "metadata": {},
   "outputs": [
    {
     "name": "stdout",
     "output_type": "stream",
     "text": [
      "african fnr: 0.03121387283236994 caucasian fnr: 0.07375722543352602\n",
      "african fpr: 0.09132947976878612 caucasian fpr: 0.013872832369942197\n",
      "african tnr: 0.9861271676300578 caucasian tnr: 0.9086705202312139\n",
      "african tpr: 0.926242774566474 caucasian tpr: 0.96878612716763\n",
      "african mis class: 0.06127167630057806 caucasian mis class: 0.043815028901734054\n"
     ]
    }
   ],
   "source": [
    "print('african fnr:',african_eer_fnr,'caucasian fnr:',caucasian_eer_fnr)\n",
    "print('african fpr:',african_eer_fpr,'caucasian fpr:',caucasian_eer_fpr)\n",
    "print('african tnr:',caucasian_eer_tnr,'caucasian tnr:',african_eer_tnr)\n",
    "print('african tpr:',caucasian_eer_tpr,'caucasian tpr:',african_eer_tpr)\n",
    "print('african mis class:',(1-african_eer_acc),'caucasian mis class:',(1-caucasian_eer_acc))"
   ]
  },
  {
   "cell_type": "code",
   "execution_count": 20,
   "metadata": {},
   "outputs": [
    {
     "data": {
      "text/plain": [
       "6.348212486848291"
      ]
     },
     "execution_count": 20,
     "metadata": {},
     "output_type": "execute_result"
    }
   ],
   "source": [
    "0.08998380754105945/0.01417466849565615"
   ]
  },
  {
   "cell_type": "code",
   "execution_count": 21,
   "metadata": {},
   "outputs": [
    {
     "name": "stdout",
     "output_type": "stream",
     "text": [
      "0.44542772861356933\n",
      "6.581818181818181\n",
      "1.0774665657330305\n",
      "0.95495927168184\n",
      "1.302030456852791\n"
     ]
    }
   ],
   "source": [
    "african_acc_tnr = african_acc_tn/(african_acc_tn+african_acc_fp)\n",
    "african_acc_tpr = african_acc_tp/(african_acc_tp+african_acc_fn)\n",
    "african_acc_fnr = african_acc_fn/(african_acc_fn+african_acc_tp)\n",
    "african_acc_fpr = african_acc_fp/(african_acc_tn+african_acc_fp)\n",
    "\n",
    "caucasian_acc_tnr = caucasian_acc_tn/(caucasian_acc_tn+caucasian_acc_fp)\n",
    "caucasian_acc_tpr = caucasian_acc_tp/(caucasian_acc_tp+caucasian_acc_fn)\n",
    "caucasian_acc_fnr = caucasian_acc_fn/(caucasian_acc_fn+caucasian_acc_tp)\n",
    "caucasian_acc_fpr = caucasian_acc_fp/(caucasian_acc_tn+caucasian_acc_fp)\n",
    "\n",
    "print(african_acc_fnr/caucasian_acc_fnr)\n",
    "print(african_acc_fpr/caucasian_acc_fpr)\n",
    "print(caucasian_acc_tnr/african_acc_tnr)\n",
    "print(caucasian_acc_tpr/african_acc_tpr)\n",
    "print((1-african_acc_acc)/(1-caucasian_acc_acc))"
   ]
  },
  {
   "cell_type": "code",
   "execution_count": 22,
   "metadata": {},
   "outputs": [
    {
     "name": "stdout",
     "output_type": "stream",
     "text": [
      "african fnr: 0.034913294797687865 caucasian fnr: 0.07838150289017341\n",
      "african fpr: 0.08369942196531792 caucasian fpr: 0.012716763005780347\n",
      "african tnr: 0.9872832369942196 caucasian tnr: 0.9163005780346821\n",
      "african tpr: 0.9216184971098266 caucasian tpr: 0.9650867052023121\n",
      "african acc: 0.05930635838150289 caucasian acc: 0.04554913294797691\n"
     ]
    }
   ],
   "source": [
    "print('african fnr:',african_acc_fnr,'caucasian fnr:',caucasian_acc_fnr)\n",
    "print('african fpr:',african_acc_fpr,'caucasian fpr:',caucasian_acc_fpr)\n",
    "print('african tnr:',caucasian_acc_tnr,'caucasian tnr:',african_acc_tnr)\n",
    "print('african tpr:',caucasian_acc_tpr,'caucasian tpr:',african_acc_tpr)\n",
    "print('african acc:',(1-african_acc_acc),'caucasian acc:',(1-caucasian_acc_acc))"
   ]
  },
  {
   "cell_type": "code",
   "execution_count": 23,
   "metadata": {},
   "outputs": [
    {
     "data": {
      "application/vnd.jupyter.widget-view+json": {
       "model_id": "cb2463e10acb4f36ba1be44c608b7104",
       "version_major": 2,
       "version_minor": 0
      },
      "text/plain": [
       "  0%|          | 0/1001 [00:00<?, ?it/s]"
      ]
     },
     "metadata": {},
     "output_type": "display_data"
    }
   ],
   "source": [
    "train_cos = cos_sim(X_train[:,:2048],X_train[:,2048:])\n",
    "african_train_cos = train_cos[ethnicity_train=='african']\n",
    "caucasian_train_cos = train_cos[ethnicity_train=='caucasian']\n",
    "\n",
    "\n",
    "thresholds = np.arange(0,1.001,0.001)\n",
    "african_tpr_list = []\n",
    "african_tnr_list = []\n",
    "african_fpr_list = []\n",
    "african_fnr_list = []\n",
    "african_acc_list = []\n",
    "\n",
    "caucasian_tpr_list = []\n",
    "caucasian_tnr_list = []\n",
    "caucasian_fpr_list = []\n",
    "caucasian_fnr_list = []\n",
    "caucasian_acc_list = []\n",
    "for thresh in tqdm_notebook(thresholds,total=len(thresholds)):\n",
    "    african_pred = (african_train_cos>thresh)*1\n",
    "    african_tn, african_fp, african_fn, african_tp, african_acc = confusion_mat(african_pred, y_train[ethnicity_train=='african'].numpy())\n",
    "    african_tnr_list.append(african_tn/(african_tn+african_fp))\n",
    "    african_tpr_list.append(african_tp/(african_tp+african_fn))\n",
    "    african_fnr_list.append(african_fn/(african_fn+african_tp))\n",
    "    african_fpr_list.append(african_fp/(african_fp+african_tn))\n",
    "    african_acc_list.append(african_acc)\n",
    "\n",
    "    caucasian_pred = (caucasian_train_cos>thresh)*1\n",
    "    caucasian_tn, caucasian_fp, caucasian_fn, caucasian_tp, caucasian_acc = confusion_mat(caucasian_pred, y_train[ethnicity_train=='caucasian'].numpy())\n",
    "    caucasian_tnr_list.append(caucasian_tn/(caucasian_tn+caucasian_fp))\n",
    "    caucasian_tpr_list.append(caucasian_tp/(caucasian_tp+caucasian_fn))\n",
    "    caucasian_fnr_list.append(caucasian_fn/(caucasian_fn+caucasian_tp))\n",
    "    caucasian_fpr_list.append(caucasian_fp/(caucasian_fp+caucasian_tn))\n",
    "    caucasian_acc_list.append(caucasian_acc)"
   ]
  },
  {
   "cell_type": "code",
   "execution_count": 50,
   "metadata": {},
   "outputs": [
    {
     "data": {
      "image/png": "[encoded data removed]",
      "text/plain": [
       "<Figure size 576x396 with 1 Axes>"
      ]
     },
     "metadata": {},
     "output_type": "display_data"
    }
   ],
   "source": [
    "with plt.style.context('seaborn'):    \n",
    "    plt.plot(thresholds,african_fnr_list,label='African FNMR')\n",
    "    plt.plot(thresholds,caucasian_fnr_list,label='Caucasian FNMR')\n",
    "    plt.legend()\n",
    "    plt.xlabel('Cosine Similarity Threshold')\n",
    "    plt.ylabel('Rate')\n",
    "    plt.title('ResNet-50 RFW False Non-Match Rate Comparison')\n",
    "    # plt.xlim(0.3,0.9)\n",
    "plt.show()"
   ]
  },
  {
   "cell_type": "code",
   "execution_count": 29,
   "metadata": {},
   "outputs": [
    {
     "data": {
      "image/png": "[encoded data removed]",
      "text/plain": [
       "<Figure size 576x396 with 1 Axes>"
      ]
     },
     "metadata": {},
     "output_type": "display_data"
    }
   ],
   "source": [
    "with plt.style.context('seaborn'):    \n",
    "    plt.plot(thresholds,african_fpr_list,label='African FMR')\n",
    "    plt.plot(thresholds,caucasian_fpr_list,label='Caucasian FMR')\n",
    "    plt.xlabel('Cosine Similarity Threshold')\n",
    "    plt.ylabel('Rate')\n",
    "    plt.legend()\n",
    "    plt.title('ResNet-50 RFW False Match Rate Comparison')\n",
    "    # plt.xlim(0.15,0.5)\n",
    "plt.show()"
   ]
  },
  {
   "cell_type": "code",
   "execution_count": 49,
   "metadata": {},
   "outputs": [
    {
     "data": {
      "image/png": "[encoded data removed]",
      "text/plain": [
       "<Figure size 576x396 with 1 Axes>"
      ]
     },
     "metadata": {},
     "output_type": "display_data"
    }
   ],
   "source": [
    "with plt.style.context('seaborn'):    \n",
    "    # plt.plot(thresholds,np.array(african_fpr_list)/np.array(caucasian_fpr_list),label='african/caucasian FPR Ratio')\n",
    "    plt.plot(thresholds,np.array(african_fnr_list)/np.array(caucasian_fnr_list),label='african/caucasian FNR Ratio')\n",
    "    plt.xlabel('Cosine Similarity Threshold')\n",
    "    plt.ylabel('Ratio')\n",
    "    plt.legend()\n",
    "\n",
    "plt.show()"
   ]
  },
  {
   "cell_type": "code",
   "execution_count": 27,
   "metadata": {},
   "outputs": [
    {
     "data": {
      "text/plain": [
       "1001"
      ]
     },
     "execution_count": 27,
     "metadata": {},
     "output_type": "execute_result"
    }
   ],
   "source": [
    "len(african_fnr_list)"
   ]
  },
  {
   "cell_type": "markdown",
   "metadata": {},
   "source": [
    "### do all bias on validation set now"
   ]
  },
  {
   "cell_type": "code",
   "execution_count": 28,
   "metadata": {},
   "outputs": [
    {
     "name": "stdout",
     "output_type": "stream",
     "text": [
      "african      1438\n",
      "caucasian    1431\n",
      "Name: reference_ethnicity, dtype: int64\n",
      "caucasian    1472\n",
      "african      1414\n",
      "Name: reference_ethnicity, dtype: int64\n"
     ]
    }
   ],
   "source": [
    "matches = df_val[df_val.labels==1]\n",
    "non_matches = df_val[df_val.labels==0]\n",
    "print(non_matches['reference_ethnicity'].value_counts())\n",
    "print(matches['reference_ethnicity'].value_counts())"
   ]
  },
  {
   "cell_type": "code",
   "execution_count": 29,
   "metadata": {},
   "outputs": [
    {
     "data": {
      "application/vnd.jupyter.widget-view+json": {
       "model_id": "1d55b143dd3a44dba8f191849a579f25",
       "version_major": 2,
       "version_minor": 0
      },
      "text/plain": [
       "  0%|          | 0/1001 [00:00<?, ?it/s]"
      ]
     },
     "metadata": {},
     "output_type": "display_data"
    },
    {
     "data": {
      "text/plain": [
       "array([0.40932147])"
      ]
     },
     "execution_count": 29,
     "metadata": {},
     "output_type": "execute_result"
    }
   ],
   "source": [
    "# bias on validation\n",
    "val_cos = cos_sim(X_val[:,:2048],X_val[:,2048:])\n",
    "thresholds = np.arange(0,1.001,0.001)\n",
    "tpr_list = []\n",
    "tnr_list = []\n",
    "fpr_list = []\n",
    "fnr_list = []\n",
    "acc_list = []\n",
    "for thresh in tqdm_notebook(thresholds,total=len(thresholds)):\n",
    "    pred = (val_cos>thresh)*1\n",
    "    tn, fp, fn, tp, acc = confusion_mat(pred, y_val.numpy())\n",
    "    tnr_list.append(tn/(tn+fp))\n",
    "    tpr_list.append(tp/(tp+fn))\n",
    "    fnr_list.append(fn/(fn+tp))\n",
    "    fpr_list.append(fp/(fp+tn))\n",
    "    acc_list.append(acc)\n",
    "f = np.array(fnr_list)-np.array(fpr_list)\n",
    "z = solve(f,thresholds)\n",
    "ans = interp(f,thresholds,z)\n",
    "ans"
   ]
  },
  {
   "cell_type": "code",
   "execution_count": 30,
   "metadata": {},
   "outputs": [
    {
     "data": {
      "image/png": "[encoded data removed]",
      "text/plain": [
       "<Figure size 576x396 with 1 Axes>"
      ]
     },
     "metadata": {},
     "output_type": "display_data"
    },
    {
     "data": {
      "image/png": "[encoded data removed]",
      "text/plain": [
       "<Figure size 576x396 with 1 Axes>"
      ]
     },
     "metadata": {},
     "output_type": "display_data"
    },
    {
     "name": "stdout",
     "output_type": "stream",
     "text": [
      "0.40900000000000003\n",
      "[0.41  0.412]\n"
     ]
    }
   ],
   "source": [
    "with plt.style.context('seaborn'):    \n",
    "    plt.plot(thresholds,fnr_list,label='FNR')\n",
    "    plt.plot(thresholds,fpr_list,label='FPR')\n",
    "    # plt.plot(thresholds,np.array(fnr_list)-np.array(fpr_list))\n",
    "    plt.axvline(x=ans,linestyle ='--')\n",
    "    plt.legend()\n",
    "plt.show()\n",
    "with plt.style.context('seaborn'):    \n",
    "    plt.plot(thresholds,tnr_list,label='TNR')\n",
    "    plt.plot(thresholds,tpr_list,label='TPR')\n",
    "    plt.legend()\n",
    "    plt.axvline(x=ans,linestyle ='--')\n",
    "plt.show()\n",
    "print(thresholds[np.abs(thresholds-ans).argmin()])\n",
    "print(thresholds[acc_list == max(acc_list)])\n"
   ]
  },
  {
   "cell_type": "code",
   "execution_count": 31,
   "metadata": {},
   "outputs": [],
   "source": [
    "eer_thresh = 0.409\n",
    "acc_thresh = 0.413\n",
    "eer_pred = (val_cos>eer_thresh)*1\n",
    "acc_pred = (val_cos>acc_thresh)*1\n",
    "df_bias = df_val.drop(['reference_identity','candidate_identity','candidate_ethnicity'],axis=1)\n",
    "df_bias['eer_pred'] = eer_pred\n",
    "df_bias['acc_pred'] = acc_pred\n",
    "df_bias_african = df_bias[df_bias['reference_ethnicity']=='african']\n",
    "df_bias_caucasian = df_bias[df_bias['reference_ethnicity']=='caucasian']\n",
    "\n",
    "african_eer_tn, african_eer_fp, african_eer_fn, african_eer_tp, african_eer_acc = confusion_mat(df_bias_african['eer_pred'], df_bias_african['labels'])\n",
    "caucasian_eer_tn, caucasian_eer_fp, caucasian_eer_fn, caucasian_eer_tp, caucasian_eer_acc = confusion_mat(df_bias_caucasian['eer_pred'], df_bias_caucasian['labels'])\n",
    "\n",
    "african_acc_tn, african_acc_fp, african_acc_fn, african_acc_tp, african_acc_acc = confusion_mat(df_bias_african['acc_pred'], df_bias_african['labels'])\n",
    "caucasian_acc_tn, caucasian_acc_fp, caucasian_acc_fn, caucasian_acc_tp, caucasian_acc_acc = confusion_mat(df_bias_caucasian['acc_pred'], df_bias_caucasian['labels'])\n",
    "\n"
   ]
  },
  {
   "cell_type": "code",
   "execution_count": 32,
   "metadata": {},
   "outputs": [
    {
     "name": "stdout",
     "output_type": "stream",
     "text": [
      "0.4144795431924144\n",
      "7.96105702364395\n",
      "1.0913339795465988\n",
      "0.9556932420004439\n",
      "1.4576072931276292\n"
     ]
    }
   ],
   "source": [
    "african_eer_tnr = african_eer_tn/(african_eer_tn+african_eer_fp)\n",
    "african_eer_tpr = african_eer_tp/(african_eer_tp+african_eer_fn)\n",
    "african_eer_fnr = african_eer_fn/(african_eer_fn+african_eer_tp)\n",
    "african_eer_fpr = african_eer_fp/(african_eer_tn+african_eer_fp)\n",
    "\n",
    "caucasian_eer_tnr = caucasian_eer_tn/(caucasian_eer_tn+caucasian_eer_fp)\n",
    "caucasian_eer_tpr = caucasian_eer_tp/(caucasian_eer_tp+caucasian_eer_fn)\n",
    "caucasian_eer_fnr = caucasian_eer_fn/(caucasian_eer_fn+caucasian_eer_tp)\n",
    "caucasian_eer_fpr = caucasian_eer_fp/(caucasian_eer_tn+caucasian_eer_fp)\n",
    "\n",
    "print(african_eer_fnr/caucasian_eer_fnr)\n",
    "print(african_eer_fpr/caucasian_eer_fpr)\n",
    "print(caucasian_eer_tnr/african_eer_tnr)\n",
    "print(caucasian_eer_tpr/african_eer_tpr)\n",
    "print((1-african_eer_acc)/(1-caucasian_eer_acc))"
   ]
  },
  {
   "cell_type": "code",
   "execution_count": 33,
   "metadata": {},
   "outputs": [
    {
     "name": "stdout",
     "output_type": "stream",
     "text": [
      "african fnr: 0.03041018387553041 caucasian fnr: 0.07336956521739131\n",
      "african fpr: 0.09457579972183588 caucasian fpr: 0.011879804332634521\n",
      "african tnr: 0.9881201956673655 caucasian tnr: 0.9054242002781642\n",
      "african tpr: 0.9266304347826086 caucasian tpr: 0.9695898161244696\n",
      "african mis class: 0.06276297335203362 caucasian mis class: 0.04305890458146744\n"
     ]
    }
   ],
   "source": [
    "print('african fnr:',african_eer_fnr,'caucasian fnr:',caucasian_eer_fnr)\n",
    "print('african fpr:',african_eer_fpr,'caucasian fpr:',caucasian_eer_fpr)\n",
    "print('african tnr:',caucasian_eer_tnr,'caucasian tnr:',african_eer_tnr)\n",
    "print('african tpr:',caucasian_eer_tpr,'caucasian tpr:',african_eer_tpr)\n",
    "print('african mis class:',(1-african_eer_acc),'caucasian mis class:',(1-caucasian_eer_acc))"
   ]
  },
  {
   "cell_type": "code",
   "execution_count": 35,
   "metadata": {},
   "outputs": [
    {
     "name": "stdout",
     "output_type": "stream",
     "text": [
      "0.4565870120846671\n",
      "9.568578153418208\n",
      "1.0852524052598778\n",
      "0.9563723224531429\n",
      "1.402593566056697\n"
     ]
    }
   ],
   "source": [
    "african_acc_tnr = african_acc_tn/(african_acc_tn+african_acc_fp)\n",
    "african_acc_tpr = african_acc_tp/(african_acc_tp+african_acc_fn)\n",
    "african_acc_fnr = african_acc_fn/(african_acc_fn+african_acc_tp)\n",
    "african_acc_fpr = african_acc_fp/(african_acc_tn+african_acc_fp)\n",
    "\n",
    "caucasian_acc_tnr = caucasian_acc_tn/(caucasian_acc_tn+caucasian_acc_fp)\n",
    "caucasian_acc_tpr = caucasian_acc_tp/(caucasian_acc_tp+caucasian_acc_fn)\n",
    "caucasian_acc_fnr = caucasian_acc_fn/(caucasian_acc_fn+caucasian_acc_tp)\n",
    "caucasian_acc_fpr = caucasian_acc_fp/(caucasian_acc_tn+caucasian_acc_fp)\n",
    "\n",
    "print(african_acc_fnr/caucasian_acc_fnr)\n",
    "print(african_acc_fpr/caucasian_acc_fpr)\n",
    "print(caucasian_acc_tnr/african_acc_tnr)\n",
    "print(caucasian_acc_tpr/african_acc_tpr)\n",
    "print((1-african_acc_acc)/(1-caucasian_acc_acc))"
   ]
  },
  {
   "cell_type": "code",
   "execution_count": 36,
   "metadata": {},
   "outputs": [
    {
     "name": "stdout",
     "output_type": "stream",
     "text": [
      "african fnr: 0.03536067892503536 caucasian fnr: 0.07744565217391304\n",
      "african fpr: 0.08692628650904033 caucasian fpr: 0.009084556254367574\n",
      "african tnr: 0.9909154437456325 caucasian tnr: 0.9130737134909597\n",
      "african tpr: 0.9225543478260869 caucasian tpr: 0.9646393210749646\n",
      "african acc: 0.061360448807854184 caucasian acc: 0.04374784705477097\n"
     ]
    }
   ],
   "source": [
    "print('african fnr:',african_acc_fnr,'caucasian fnr:',caucasian_acc_fnr)\n",
    "print('african fpr:',african_acc_fpr,'caucasian fpr:',caucasian_acc_fpr)\n",
    "print('african tnr:',caucasian_acc_tnr,'caucasian tnr:',african_acc_tnr)\n",
    "print('african tpr:',caucasian_acc_tpr,'caucasian tpr:',african_acc_tpr)\n",
    "print('african acc:',(1-african_acc_acc),'caucasian acc:',(1-caucasian_acc_acc))"
   ]
  },
  {
   "cell_type": "code",
   "execution_count": 84,
   "metadata": {},
   "outputs": [
    {
     "data": {
      "application/vnd.jupyter.widget-view+json": {
       "model_id": "50d6f093f9bf42c4a32c81bc7e129a99",
       "version_major": 2,
       "version_minor": 0
      },
      "text/plain": [
       "  0%|          | 0/1001 [00:00<?, ?it/s]"
      ]
     },
     "metadata": {},
     "output_type": "display_data"
    }
   ],
   "source": [
    "val_cos = cos_sim(X_val[:,:2048],X_val[:,2048:])\n",
    "african_val_cos = val_cos[ethnicity_val=='african']\n",
    "caucasian_val_cos = val_cos[ethnicity_val=='caucasian']\n",
    "\n",
    "\n",
    "thresholds = np.arange(0,1.001,0.001)\n",
    "african_tpr_list = []\n",
    "african_tnr_list = []\n",
    "african_fpr_list = []\n",
    "african_fnr_list = []\n",
    "african_acc_list = []\n",
    "\n",
    "caucasian_tpr_list = []\n",
    "caucasian_tnr_list = []\n",
    "caucasian_fpr_list = []\n",
    "caucasian_fnr_list = []\n",
    "caucasian_acc_list = []\n",
    "for thresh in tqdm_notebook(thresholds,total=len(thresholds)):\n",
    "    african_pred = (african_val_cos>thresh)*1\n",
    "    african_tn, african_fp, african_fn, african_tp, african_acc = confusion_mat(african_pred, y_val[ethnicity_val=='african'].numpy())\n",
    "    african_tnr_list.append(african_tn/(african_tn+african_fp))\n",
    "    african_tpr_list.append(african_tp/(african_tp+african_fn))\n",
    "    african_fnr_list.append(african_fn/(african_fn+african_tp))\n",
    "    african_fpr_list.append(african_fp/(african_fp+african_tn))\n",
    "    african_acc_list.append(african_acc)\n",
    "\n",
    "    caucasian_pred = (caucasian_val_cos>thresh)*1\n",
    "    caucasian_tn, caucasian_fp, caucasian_fn, caucasian_tp, caucasian_acc = confusion_mat(caucasian_pred, y_val[ethnicity_val=='caucasian'].numpy())\n",
    "    caucasian_tnr_list.append(caucasian_tn/(caucasian_tn+caucasian_fp))\n",
    "    caucasian_tpr_list.append(caucasian_tp/(caucasian_tp+caucasian_fn))\n",
    "    caucasian_fnr_list.append(caucasian_fn/(caucasian_fn+caucasian_tp))\n",
    "    caucasian_fpr_list.append(caucasian_fp/(caucasian_fp+caucasian_tn))\n",
    "    caucasian_acc_list.append(caucasian_acc)"
   ]
  },
  {
   "cell_type": "code",
   "execution_count": 85,
   "metadata": {},
   "outputs": [
    {
     "data": {
      "image/png": "[encoded data removed]",
      "text/plain": [
       "<Figure size 576x396 with 1 Axes>"
      ]
     },
     "metadata": {},
     "output_type": "display_data"
    },
    {
     "data": {
      "image/png": "[encoded data removed]",
      "text/plain": [
       "<Figure size 576x396 with 1 Axes>"
      ]
     },
     "metadata": {},
     "output_type": "display_data"
    }
   ],
   "source": [
    "with plt.style.context('seaborn'):    \n",
    "    plt.plot(thresholds,african_fnr_list,label='african FNR')\n",
    "    plt.plot(thresholds,caucasian_fnr_list,label='caucasian FNR')\n",
    "    plt.legend()\n",
    "    plt.xlim(0.3,0.9)\n",
    "    plt.xlabel('Cosine Similarity Threshold')\n",
    "    plt.ylabel('Rate')\n",
    "plt.show()\n",
    "\n",
    "with plt.style.context('seaborn'):    \n",
    "    plt.plot(thresholds,african_fpr_list,label='african FPR')\n",
    "    plt.plot(thresholds,caucasian_fpr_list,label='caucasian FPR')\n",
    "    plt.legend()\n",
    "    plt.xlim(0.15,0.5)\n",
    "    plt.xlabel('Cosine Similarity Threshold')\n",
    "    plt.ylabel('Rate')\n",
    "    \n",
    "plt.show()"
   ]
  },
  {
   "cell_type": "code",
   "execution_count": 86,
   "metadata": {},
   "outputs": [
    {
     "name": "stdout",
     "output_type": "stream",
     "text": [
      "african      1433\n",
      "caucasian    1389\n",
      "Name: reference_ethnicity, dtype: int64\n",
      "african      1504\n",
      "caucasian    1430\n",
      "Name: reference_ethnicity, dtype: int64\n"
     ]
    }
   ],
   "source": [
    "matches = df_test[df_test.labels==1]\n",
    "non_matches = df_test[df_test.labels==0]\n",
    "print(non_matches['reference_ethnicity'].value_counts())\n",
    "print(matches['reference_ethnicity'].value_counts())"
   ]
  },
  {
   "cell_type": "code",
   "execution_count": null,
   "metadata": {},
   "outputs": [],
   "source": []
  }
 ],
 "metadata": {
  "kernelspec": {
   "display_name": "Python 3.9.13 ('mpsEnv')",
   "language": "python",
   "name": "python3"
  },
  "language_info": {
   "codemirror_mode": {
    "name": "ipython",
    "version": 3
   },
   "file_extension": ".py",
   "mimetype": "text/x-python",
   "name": "python",
   "nbconvert_exporter": "python",
   "pygments_lexer": "ipython3",
   "version": "3.9.13"
  },
  "orig_nbformat": 4,
  "vscode": {
   "interpreter": {
    "hash": "dd368a5ef6c8892f6c87c22c8d56888e698af74589d34ad1bd17c3290e3a6a05"
   }
  }
 },
 "nbformat": 4,
 "nbformat_minor": 2
}
