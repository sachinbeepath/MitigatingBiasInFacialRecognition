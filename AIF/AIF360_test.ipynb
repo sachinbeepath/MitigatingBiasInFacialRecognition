{
 "cells": [
  {
   "cell_type": "code",
   "execution_count": 21,
   "metadata": {},
   "outputs": [
    {
     "name": "stdout",
     "output_type": "stream",
     "text": [
      "mps\n"
     ]
    }
   ],
   "source": [
    "import os\n",
    "import numpy as np\n",
    "import pandas as pd\n",
    "import torch\n",
    "import torch.nn as nn\n",
    "import torch.nn.functional as F\n",
    "\n",
    "import torch.optim as optim\n",
    "from torch.utils import data\n",
    "\n",
    "from tqdm.notebook import tqdm_notebook\n",
    "\n",
    "import warnings\n",
    "warnings.filterwarnings('ignore')\n",
    "\n",
    "device = torch.device(\"mps\" if torch.has_mps else \"cpu\")\n",
    "print(device)\n",
    "from itertools import product\n",
    "from sklearn.model_selection import train_test_split\n",
    "from sklearn.preprocessing import StandardScaler\n",
    "from sklearn.metrics import confusion_matrix\n",
    "import matplotlib.pyplot as plt\n",
    "from aif360.algorithms.postprocessing import (CalibratedEqOddsPostprocessing,\n",
    "                                              EqOddsPostprocessing,\n",
    "                                              RejectOptionClassification)\n",
    "from aif360.datasets import StandardDataset\n",
    "from aif360.metrics import BinaryLabelDatasetMetric, ClassificationMetric\n",
    "from aif360.metrics.utils import compute_boolean_conditioning_vector\n",
    "random_state = 1"
   ]
  },
  {
   "cell_type": "code",
   "execution_count": 22,
   "metadata": {},
   "outputs": [],
   "source": [
    "def val(model,dataloader):\n",
    "    y_true, y_pred, y_prot = [],[],[]\n",
    "    model.eval()\n",
    "    with torch.no_grad():\n",
    "        for X_val, y_val,prot in dataloader:\n",
    "            X_val, y_val = X_val.to(device), y_val.to(device)\n",
    "            val_out = model(X_val)\n",
    "            val_pred = torch.round(torch.sigmoid(val_out))[:,0]\n",
    "            y_true.append(y_val)\n",
    "            y_pred.append(val_pred)\n",
    "            y_prot.append(prot)\n",
    "    y_true, y_pred, y_prot = torch.cat(y_true), torch.cat(y_pred), torch.cat(y_prot)\n",
    "    return y_true, y_pred, y_prot\n",
    "\n",
    "def to_dataframe(y_true, y_pred, y_prot):\n",
    "        y_true, y_pred, y_prot = y_true.float().cpu().numpy(), y_pred.float().cpu().numpy(), y_prot.float().cpu().numpy()\n",
    "        df = pd.DataFrame({'y_true': y_true, 'y_pred': y_pred, 'y_prot': y_prot})\n",
    "        dataset = StandardDataset(df, 'y_true', [1.], ['y_prot'], [[1.]])\n",
    "        dataset.scores = y_pred.reshape(-1, 1)\n",
    "        return dataset\n",
    "        \n",
    "def eval_aif360_algorithm(y_pred, dataset, verbose=True):\n",
    "    acc = float(np.mean(y_pred == dataset.labels.reshape(-1)))\n",
    "    bias = compute_bias(\n",
    "        torch.tensor(y_pred),\n",
    "        torch.tensor(dataset.labels.reshape(-1)),\n",
    "        torch.tensor(dataset.protected_attributes.reshape(-1)),\n",
    "        'aod'\n",
    "    ).item()\n",
    "    obj = compute_objective(acc, bias, margin=0.0)\n",
    "\n",
    "    return {\n",
    "        'roc_auc': None,\n",
    "        'accuracy': float(acc),\n",
    "        'bias': float(bias),\n",
    "        'objective': float(obj)\n",
    "    }\n",
    "\n",
    "def compute_bias(y_pred, y_true, prot, metric):\n",
    "    \"\"\"Compute bias on the dataset\"\"\"\n",
    "    def zero_if_nan(data):\n",
    "        \"\"\"Zero if there is a nan\"\"\"\n",
    "        return 0. if torch.isnan(data) else data\n",
    "\n",
    "    gtpr_prot = zero_if_nan(y_pred[prot * y_true == 1].mean())\n",
    "    gfpr_prot = zero_if_nan(y_pred[prot * (1-y_true) == 1].mean())\n",
    "    mean_prot = zero_if_nan(y_pred[prot == 1].mean())\n",
    "\n",
    "    gtpr_unprot = zero_if_nan(y_pred[(1-prot) * y_true == 1].mean())\n",
    "    gfpr_unprot = zero_if_nan(y_pred[(1-prot) * (1-y_true) == 1].mean())\n",
    "    mean_unprot = zero_if_nan(y_pred[(1-prot) == 1].mean())\n",
    "\n",
    "    if metric == \"spd\":\n",
    "        return mean_prot - mean_unprot\n",
    "    elif metric == \"aod\":\n",
    "        return 0.5 * ((gfpr_prot - gfpr_unprot) + (gtpr_prot - gtpr_unprot))\n",
    "    elif metric == \"eod\":\n",
    "        return gtpr_prot - gtpr_unprot\n",
    "        \n",
    "def compute_objective(performance, bias, epsilon=0.05, margin=0.01):\n",
    "    if abs(bias) <= (epsilon-margin):\n",
    "        return performance\n",
    "    else:\n",
    "        return 0.0"
   ]
  },
  {
   "cell_type": "code",
   "execution_count": null,
   "metadata": {},
   "outputs": [],
   "source": []
  },
  {
   "cell_type": "code",
   "execution_count": 20,
   "metadata": {},
   "outputs": [
    {
     "data": {
      "text/plain": [
       "dict_keys(['feature_names', 'label_names', 'protected_attribute_names', 'instance_names', 'instance_weights', 'privileged_protected_attributes', 'unprivileged_protected_attributes'])"
      ]
     },
     "execution_count": 20,
     "metadata": {},
     "output_type": "execute_result"
    }
   ],
   "source": [
    "y_true, y_pred, y_prot = val(model,val_loader)\n",
    "aif_data = to_dataframe(y_true, y_pred, y_prot)\n",
    "aif_data.protected_attribute_names"
   ]
  },
  {
   "cell_type": "code",
   "execution_count": null,
   "metadata": {},
   "outputs": [],
   "source": [
    "cost_constraint = 'weighted'\n",
    "privileged_groups=[{'y_prot': 0.}],\n",
    "unprivileged_groups=[{'y_prot': 1.}]\n",
    "cpp = CalibratedEqOddsPostprocessing(privileged_groups=[{'y_prot': 0.}],\n",
    "                                             unprivileged_groups=[{'y_prot': 1.}],\n",
    "                                             cost_constraint=cost_constraint)\n",
    "cpp.fit(aif_data,aif_data)\n"
   ]
  },
  {
   "cell_type": "code",
   "execution_count": null,
   "metadata": {},
   "outputs": [],
   "source": [
    "eval_aif360_algorithm(aif_data.scores.reshape(-1), aif_data)\n",
    "valid_y_pred = cpp.predict(aif_data).labels.reshape(-1)\n",
    "eval_aif360_algorithm(valid_y_pred, aif_data)"
   ]
  }
 ],
 "metadata": {
  "kernelspec": {
   "display_name": "Python 3.9.13 ('mpsEnv')",
   "language": "python",
   "name": "python3"
  },
  "language_info": {
   "codemirror_mode": {
    "name": "ipython",
    "version": 3
   },
   "file_extension": ".py",
   "mimetype": "text/x-python",
   "name": "python",
   "nbconvert_exporter": "python",
   "pygments_lexer": "ipython3",
   "version": "3.9.13"
  },
  "orig_nbformat": 4,
  "vscode": {
   "interpreter": {
    "hash": "dd368a5ef6c8892f6c87c22c8d56888e698af74589d34ad1bd17c3290e3a6a05"
   }
  }
 },
 "nbformat": 4,
 "nbformat_minor": 2
}
