{
 "cells": [
  {
   "cell_type": "code",
   "execution_count": 8,
   "metadata": {},
   "outputs": [],
   "source": [
    "# exploring RFW data\n",
    "import os\n",
    "import numpy as np\n",
    "import pandas as pd\n",
    "import torch\n",
    "import torch.nn as nn\n",
    "import torch.nn.functional as F\n",
    "import torch.optim as optim\n",
    "from torch.utils import data\n",
    "from torchvision import models,transforms\n",
    "import matplotlib.pyplot as plt\n",
    "import pickle\n",
    "from collections import OrderedDict\n",
    "import csv\n",
    "import collections\n",
    "from  PIL import Image\n",
    "from tqdm.notebook import tqdm_notebook\n",
    "from scipy.spatial import distance\n",
    "import warnings\n",
    "warnings.filterwarnings('ignore')"
   ]
  },
  {
   "cell_type": "code",
   "execution_count": 9,
   "metadata": {},
   "outputs": [],
   "source": [
    "def corr2_coeff(A, B):\n",
    "    # Rowwise mean of input arrays & subtract from input arrays themeselves\n",
    "    A_mA = A - A.mean(1)[:, None]\n",
    "    B_mB = B - B.mean(1)[:, None]\n",
    "\n",
    "    # Sum of squares across rows\n",
    "    ssA = (A_mA**2).sum(1)\n",
    "    ssB = (B_mB**2).sum(1)\n",
    "\n",
    "    # Finally get corr coeff\n",
    "    return torch.matmul(A_mA, B_mB.T) / torch.sqrt(torch.matmul(ssA[:, None],ssB[None]))\n",
    "def cos_sim(a, b, eps=1e-8):\n",
    "    \"\"\"\n",
    "    added eps for numerical stability\n",
    "    \"\"\"\n",
    "    a_n, b_n = a.norm(dim=1)[:, None], b.norm(dim=1)[:, None]\n",
    "    a_norm = a / torch.max(a_n, eps * torch.ones_like(a_n))\n",
    "    b_norm = b / torch.max(b_n, eps * torch.ones_like(b_n))\n",
    "    sim_mt = torch.mm(a_norm, b_norm.transpose(0, 1))\n",
    "    return sim_mt\n"
   ]
  },
  {
   "cell_type": "code",
   "execution_count": 12,
   "metadata": {},
   "outputs": [
    {
     "data": {
      "application/vnd.jupyter.widget-view+json": {
       "model_id": "d531fae8c9b74bb8887033679fc4745b",
       "version_major": 2,
       "version_minor": 0
      },
      "text/plain": [
       "  0%|          | 0/29117 [00:00<?, ?it/s]"
      ]
     },
     "metadata": {},
     "output_type": "display_data"
    },
    {
     "data": {
      "application/vnd.jupyter.widget-view+json": {
       "model_id": "742a991cd29f453b8443142dacc1885f",
       "version_major": 2,
       "version_minor": 0
      },
      "text/plain": [
       "  0%|          | 0/29117 [00:00<?, ?it/s]"
      ]
     },
     "metadata": {},
     "output_type": "display_data"
    },
    {
     "name": "stdout",
     "output_type": "stream",
     "text": [
      "   ethnicity  accuracy\n",
      "0    African  0.385718\n",
      "1      Asian  0.432865\n",
      "2  Caucasian  0.532053\n",
      "3     Indian  0.532201\n"
     ]
    },
    {
     "data": {
      "text/html": [
       "<div>\n",
       "<style scoped>\n",
       "    .dataframe tbody tr th:only-of-type {\n",
       "        vertical-align: middle;\n",
       "    }\n",
       "\n",
       "    .dataframe tbody tr th {\n",
       "        vertical-align: top;\n",
       "    }\n",
       "\n",
       "    .dataframe thead th {\n",
       "        text-align: right;\n",
       "    }\n",
       "</style>\n",
       "<table border=\"1\" class=\"dataframe\">\n",
       "  <thead>\n",
       "    <tr style=\"text-align: right;\">\n",
       "      <th></th>\n",
       "      <th>ethnicity</th>\n",
       "      <th>accuracy</th>\n",
       "    </tr>\n",
       "  </thead>\n",
       "  <tbody>\n",
       "    <tr>\n",
       "      <th>0</th>\n",
       "      <td>African</td>\n",
       "      <td>0.384636</td>\n",
       "    </tr>\n",
       "    <tr>\n",
       "      <th>1</th>\n",
       "      <td>Asian</td>\n",
       "      <td>0.430639</td>\n",
       "    </tr>\n",
       "    <tr>\n",
       "      <th>2</th>\n",
       "      <td>Caucasian</td>\n",
       "      <td>0.532191</td>\n",
       "    </tr>\n",
       "    <tr>\n",
       "      <th>3</th>\n",
       "      <td>Indian</td>\n",
       "      <td>0.528775</td>\n",
       "    </tr>\n",
       "  </tbody>\n",
       "</table>\n",
       "</div>"
      ],
      "text/plain": [
       "   ethnicity  accuracy\n",
       "0    African  0.384636\n",
       "1      Asian  0.430639\n",
       "2  Caucasian  0.532191\n",
       "3     Indian  0.528775"
      ]
     },
     "execution_count": 12,
     "metadata": {},
     "output_type": "execute_result"
    }
   ],
   "source": [
    "reference_outputs = torch.load(\"outputs/RFW/ft/reference_outputs.pt\")\n",
    "reference_identities = np.load('outputs/RFW/ft/reference_identities.npy',allow_pickle=True)\n",
    "reference_ethnicities = np.load('outputs/RFW/ft/reference_ethnicities.npy',allow_pickle=True)\n",
    "reference_faceIDs = np.load('outputs/RFW/ft/reference_faceIDs.npy',allow_pickle=True)\n",
    "\n",
    "candidate_outputs = torch.load(\"outputs/RFW/ft/candidate_outputs.pt\")\n",
    "candidate_identities = np.load('outputs/RFW/ft/candidate_identities.npy',allow_pickle=True)\n",
    "candidate_ethnicities = np.load('outputs/RFW/ft/candidate_ethnicities.npy',allow_pickle=True)\n",
    "candidate_faceIDs = np.load('outputs/RFW/ft/candidate_faceIDs.npy',allow_pickle=True)\n",
    "\n",
    "cor = corr2_coeff(reference_outputs,candidate_outputs).cpu().detach().numpy()\n",
    "cos = cos_sim(reference_outputs,candidate_outputs).cpu().detach().numpy()\n",
    "cor_identification = pd.DataFrame(columns=['candidate_identity','candidate_ethnicity','reference_identity'])\n",
    "for i, cor_row in tqdm_notebook(enumerate(cor.T),total=len(cor.T)):\n",
    "    identity = candidate_identities[i]\n",
    "    ethnicity = candidate_ethnicities[i]\n",
    "    max_ref = np.argmax(cor_row)\n",
    "    reference_identity = reference_identities[max_ref]\n",
    "    match = 1 if identity == reference_identity else  0\n",
    "    row = {'candidate_identity': identity,\n",
    "            'candidate_ethnicity': ethnicity, \n",
    "            'reference_identity': reference_identity,\n",
    "            'match': match}\n",
    "\n",
    "    cor_identification = cor_identification.append(row,ignore_index=True)\n",
    "\n",
    "cos_identification = pd.DataFrame(columns=['candidate_identity','candidate_ethnicity','reference_identity'])\n",
    "for i, cos_row in tqdm_notebook(enumerate(cos.T),total=len(cos.T)):\n",
    "    identity = candidate_identities[i]\n",
    "    ethnicity = candidate_ethnicities[i]\n",
    "    max_ref = np.argmax(cos_row)\n",
    "    reference_identity = reference_identities[max_ref]\n",
    "    match = 1 if identity == reference_identity else  0\n",
    "    row = {'candidate_identity': identity,\n",
    "            'candidate_ethnicity': ethnicity, \n",
    "            'reference_identity': reference_identity,\n",
    "            'match': match}\n",
    "\n",
    "    cos_identification = cos_identification.append(row,ignore_index=True)\n",
    "\n",
    "cos_id_acc = pd.DataFrame(columns=['ethnicity','accuracy'])\n",
    "for ethnicity in cos_identification.candidate_ethnicity.unique():\n",
    "    eth_cos = cos_identification.loc[cos_identification.candidate_ethnicity == ethnicity]\n",
    "    accuracy = sum(eth_cos.match)/len(eth_cos)\n",
    "    #print(len(eth_cos))\n",
    "    row = {'ethnicity': ethnicity,\n",
    "            'accuracy': accuracy}\n",
    "\n",
    "    cos_id_acc = cos_id_acc.append(row,ignore_index=True)\n",
    "print(cos_id_acc)\n",
    "\n",
    "\n",
    "cor_id_acc = pd.DataFrame(columns=['ethnicity','accuracy'])\n",
    "for ethnicity in cor_identification.candidate_ethnicity.unique():\n",
    "    eth_cor = cor_identification.loc[cor_identification.candidate_ethnicity == ethnicity]\n",
    "    accuracy = sum(eth_cor.match)/len(eth_cor)\n",
    "    #print(len(eth_cos))\n",
    "    row = {'ethnicity': ethnicity,\n",
    "            'accuracy': accuracy}\n",
    "\n",
    "    cor_id_acc = cor_id_acc.append(row,ignore_index=True)\n",
    "cor_id_acc"
   ]
  },
  {
   "cell_type": "code",
   "execution_count": 13,
   "metadata": {},
   "outputs": [
    {
     "data": {
      "application/vnd.jupyter.widget-view+json": {
       "model_id": "a23dbd84e0c5495692d2a8db2ae174d2",
       "version_major": 2,
       "version_minor": 0
      },
      "text/plain": [
       "  0%|          | 0/29117 [00:00<?, ?it/s]"
      ]
     },
     "metadata": {},
     "output_type": "display_data"
    },
    {
     "data": {
      "application/vnd.jupyter.widget-view+json": {
       "model_id": "a172c043f7914958a11a778f7a4fed7b",
       "version_major": 2,
       "version_minor": 0
      },
      "text/plain": [
       "  0%|          | 0/29117 [00:00<?, ?it/s]"
      ]
     },
     "metadata": {},
     "output_type": "display_data"
    },
    {
     "name": "stdout",
     "output_type": "stream",
     "text": [
      "   ethnicity  accuracy\n",
      "0    African  0.385718\n",
      "1      Asian  0.432865\n",
      "2  Caucasian  0.532053\n",
      "3     Indian  0.532201\n"
     ]
    },
    {
     "data": {
      "text/html": [
       "<div>\n",
       "<style scoped>\n",
       "    .dataframe tbody tr th:only-of-type {\n",
       "        vertical-align: middle;\n",
       "    }\n",
       "\n",
       "    .dataframe tbody tr th {\n",
       "        vertical-align: top;\n",
       "    }\n",
       "\n",
       "    .dataframe thead th {\n",
       "        text-align: right;\n",
       "    }\n",
       "</style>\n",
       "<table border=\"1\" class=\"dataframe\">\n",
       "  <thead>\n",
       "    <tr style=\"text-align: right;\">\n",
       "      <th></th>\n",
       "      <th>ethnicity</th>\n",
       "      <th>accuracy</th>\n",
       "    </tr>\n",
       "  </thead>\n",
       "  <tbody>\n",
       "    <tr>\n",
       "      <th>0</th>\n",
       "      <td>African</td>\n",
       "      <td>0.384636</td>\n",
       "    </tr>\n",
       "    <tr>\n",
       "      <th>1</th>\n",
       "      <td>Asian</td>\n",
       "      <td>0.430639</td>\n",
       "    </tr>\n",
       "    <tr>\n",
       "      <th>2</th>\n",
       "      <td>Caucasian</td>\n",
       "      <td>0.532191</td>\n",
       "    </tr>\n",
       "    <tr>\n",
       "      <th>3</th>\n",
       "      <td>Indian</td>\n",
       "      <td>0.528775</td>\n",
       "    </tr>\n",
       "  </tbody>\n",
       "</table>\n",
       "</div>"
      ],
      "text/plain": [
       "   ethnicity  accuracy\n",
       "0    African  0.384636\n",
       "1      Asian  0.430639\n",
       "2  Caucasian  0.532191\n",
       "3     Indian  0.528775"
      ]
     },
     "execution_count": 13,
     "metadata": {},
     "output_type": "execute_result"
    }
   ],
   "source": [
    "reference_outputs = torch.load(\"outputs/RFW/scratch/reference_outputs.pt\")\n",
    "reference_identities = np.load('outputs/RFW/scratch/reference_identities.npy',allow_pickle=True)\n",
    "reference_ethnicities = np.load('outputs/RFW/scratch/reference_ethnicities.npy',allow_pickle=True)\n",
    "reference_faceIDs = np.load('outputs/RFW/scratch/reference_faceIDs.npy',allow_pickle=True)\n",
    "\n",
    "candidate_outputs = torch.load(\"outputs/RFW/scratch/candidate_outputs.pt\")\n",
    "candidate_identities = np.load('outputs/RFW/scratch/candidate_identities.npy',allow_pickle=True)\n",
    "candidate_ethnicities = np.load('outputs/RFW/scratch/candidate_ethnicities.npy',allow_pickle=True)\n",
    "candidate_faceIDs = np.load('outputs/RFW/scratch/candidate_faceIDs.npy',allow_pickle=True)\n",
    "\n",
    "cor = corr2_coeff(reference_outputs,candidate_outputs).cpu().detach().numpy()\n",
    "cos = cos_sim(reference_outputs,candidate_outputs).cpu().detach().numpy()\n",
    "cor_identification = pd.DataFrame(columns=['candidate_identity','candidate_ethnicity','reference_identity'])\n",
    "for i, cor_row in tqdm_notebook(enumerate(cor.T),total=len(cor.T)):\n",
    "    identity = candidate_identities[i]\n",
    "    ethnicity = candidate_ethnicities[i]\n",
    "    max_ref = np.argmax(cor_row)\n",
    "    reference_identity = reference_identities[max_ref]\n",
    "    match = 1 if identity == reference_identity else  0\n",
    "    row = {'candidate_identity': identity,\n",
    "            'candidate_ethnicity': ethnicity, \n",
    "            'reference_identity': reference_identity,\n",
    "            'match': match}\n",
    "\n",
    "    cor_identification = cor_identification.append(row,ignore_index=True)\n",
    "\n",
    "cos_identification = pd.DataFrame(columns=['candidate_identity','candidate_ethnicity','reference_identity'])\n",
    "for i, cos_row in tqdm_notebook(enumerate(cos.T),total=len(cos.T)):\n",
    "    identity = candidate_identities[i]\n",
    "    ethnicity = candidate_ethnicities[i]\n",
    "    max_ref = np.argmax(cos_row)\n",
    "    reference_identity = reference_identities[max_ref]\n",
    "    match = 1 if identity == reference_identity else  0\n",
    "    row = {'candidate_identity': identity,\n",
    "            'candidate_ethnicity': ethnicity, \n",
    "            'reference_identity': reference_identity,\n",
    "            'match': match}\n",
    "\n",
    "    cos_identification = cos_identification.append(row,ignore_index=True)\n",
    "\n",
    "cos_id_acc = pd.DataFrame(columns=['ethnicity','accuracy'])\n",
    "for ethnicity in cos_identification.candidate_ethnicity.unique():\n",
    "    eth_cos = cos_identification.loc[cos_identification.candidate_ethnicity == ethnicity]\n",
    "    accuracy = sum(eth_cos.match)/len(eth_cos)\n",
    "    #print(len(eth_cos))\n",
    "    row = {'ethnicity': ethnicity,\n",
    "            'accuracy': accuracy}\n",
    "\n",
    "    cos_id_acc = cos_id_acc.append(row,ignore_index=True)\n",
    "print(cos_id_acc)\n",
    "\n",
    "\n",
    "cor_id_acc = pd.DataFrame(columns=['ethnicity','accuracy'])\n",
    "for ethnicity in cor_identification.candidate_ethnicity.unique():\n",
    "    eth_cor = cor_identification.loc[cor_identification.candidate_ethnicity == ethnicity]\n",
    "    accuracy = sum(eth_cor.match)/len(eth_cor)\n",
    "    #print(len(eth_cos))\n",
    "    row = {'ethnicity': ethnicity,\n",
    "            'accuracy': accuracy}\n",
    "\n",
    "    cor_id_acc = cor_id_acc.append(row,ignore_index=True)\n",
    "cor_id_acc"
   ]
  },
  {
   "cell_type": "code",
   "execution_count": 16,
   "metadata": {},
   "outputs": [
    {
     "data": {
      "application/vnd.jupyter.widget-view+json": {
       "model_id": "18f7d0a122ef4c46904f3203c16ad1ba",
       "version_major": 2,
       "version_minor": 0
      },
      "text/plain": [
       "  0%|          | 0/29117 [00:00<?, ?it/s]"
      ]
     },
     "metadata": {},
     "output_type": "display_data"
    },
    {
     "data": {
      "application/vnd.jupyter.widget-view+json": {
       "model_id": "a53d9a2da64742a0b18fb1c7a563be21",
       "version_major": 2,
       "version_minor": 0
      },
      "text/plain": [
       "  0%|          | 0/29117 [00:00<?, ?it/s]"
      ]
     },
     "metadata": {},
     "output_type": "display_data"
    },
    {
     "name": "stdout",
     "output_type": "stream",
     "text": [
      "   ethnicity  accuracy\n",
      "0    African  0.496348\n",
      "1      Asian  0.530124\n",
      "2  Caucasian  0.633877\n",
      "3     Indian  0.625377\n"
     ]
    },
    {
     "data": {
      "text/html": [
       "<div>\n",
       "<style scoped>\n",
       "    .dataframe tbody tr th:only-of-type {\n",
       "        vertical-align: middle;\n",
       "    }\n",
       "\n",
       "    .dataframe tbody tr th {\n",
       "        vertical-align: top;\n",
       "    }\n",
       "\n",
       "    .dataframe thead th {\n",
       "        text-align: right;\n",
       "    }\n",
       "</style>\n",
       "<table border=\"1\" class=\"dataframe\">\n",
       "  <thead>\n",
       "    <tr style=\"text-align: right;\">\n",
       "      <th></th>\n",
       "      <th>ethnicity</th>\n",
       "      <th>accuracy</th>\n",
       "    </tr>\n",
       "  </thead>\n",
       "  <tbody>\n",
       "    <tr>\n",
       "      <th>0</th>\n",
       "      <td>African</td>\n",
       "      <td>0.494455</td>\n",
       "    </tr>\n",
       "    <tr>\n",
       "      <th>1</th>\n",
       "      <td>Asian</td>\n",
       "      <td>0.529428</td>\n",
       "    </tr>\n",
       "    <tr>\n",
       "      <th>2</th>\n",
       "      <td>Caucasian</td>\n",
       "      <td>0.632771</td>\n",
       "    </tr>\n",
       "    <tr>\n",
       "      <th>3</th>\n",
       "      <td>Indian</td>\n",
       "      <td>0.623184</td>\n",
       "    </tr>\n",
       "  </tbody>\n",
       "</table>\n",
       "</div>"
      ],
      "text/plain": [
       "   ethnicity  accuracy\n",
       "0    African  0.494455\n",
       "1      Asian  0.529428\n",
       "2  Caucasian  0.632771\n",
       "3     Indian  0.623184"
      ]
     },
     "execution_count": 16,
     "metadata": {},
     "output_type": "execute_result"
    }
   ],
   "source": [
    "reference_outputs = torch.load(\"outputs/RFW/ft/model/reference2_outputs.pt\")\n",
    "reference_identities = np.load('outputs/RFW/ft/model/reference2_identities.npy',allow_pickle=True)\n",
    "reference_ethnicities = np.load('outputs/RFW/ft/model/reference2_ethnicities.npy',allow_pickle=True)\n",
    "reference_faceIDs = np.load('outputs/RFW/ft/model/reference2_faceIDs.npy',allow_pickle=True)\n",
    "\n",
    "candidate_outputs = torch.load(\"outputs/RFW/ft/model/candidate2_outputs.pt\")\n",
    "candidate_identities = np.load('outputs/RFW/ft/model/candidate2_identities.npy',allow_pickle=True)\n",
    "candidate_ethnicities = np.load('outputs/RFW/ft/model/candidate2_ethnicities.npy',allow_pickle=True)\n",
    "candidate_faceIDs = np.load('outputs/RFW/ft/model/candidate2_faceIDs.npy',allow_pickle=True)\n",
    "\n",
    "cor = corr2_coeff(reference_outputs,candidate_outputs).cpu().detach().numpy()\n",
    "cos = cos_sim(reference_outputs,candidate_outputs).cpu().detach().numpy()\n",
    "cor_identification = pd.DataFrame(columns=['candidate_identity','candidate_ethnicity','reference_identity'])\n",
    "for i, cor_row in tqdm_notebook(enumerate(cor.T),total=len(cor.T)):\n",
    "    identity = candidate_identities[i]\n",
    "    ethnicity = candidate_ethnicities[i]\n",
    "    max_ref = np.argmax(cor_row)\n",
    "    reference_identity = reference_identities[max_ref]\n",
    "    match = 1 if identity == reference_identity else  0\n",
    "    row = {'candidate_identity': identity,\n",
    "            'candidate_ethnicity': ethnicity, \n",
    "            'reference_identity': reference_identity,\n",
    "            'match': match}\n",
    "\n",
    "    cor_identification = cor_identification.append(row,ignore_index=True)\n",
    "\n",
    "cos_identification = pd.DataFrame(columns=['candidate_identity','candidate_ethnicity','reference_identity'])\n",
    "for i, cos_row in tqdm_notebook(enumerate(cos.T),total=len(cos.T)):\n",
    "    identity = candidate_identities[i]\n",
    "    ethnicity = candidate_ethnicities[i]\n",
    "    max_ref = np.argmax(cos_row)\n",
    "    reference_identity = reference_identities[max_ref]\n",
    "    match = 1 if identity == reference_identity else  0\n",
    "    row = {'candidate_identity': identity,\n",
    "            'candidate_ethnicity': ethnicity, \n",
    "            'reference_identity': reference_identity,\n",
    "            'match': match}\n",
    "\n",
    "    cos_identification = cos_identification.append(row,ignore_index=True)\n",
    "\n",
    "cos_id_acc = pd.DataFrame(columns=['ethnicity','accuracy'])\n",
    "for ethnicity in cos_identification.candidate_ethnicity.unique():\n",
    "    eth_cos = cos_identification.loc[cos_identification.candidate_ethnicity == ethnicity]\n",
    "    accuracy = sum(eth_cos.match)/len(eth_cos)\n",
    "    #print(len(eth_cos))\n",
    "    row = {'ethnicity': ethnicity,\n",
    "            'accuracy': accuracy}\n",
    "\n",
    "    cos_id_acc = cos_id_acc.append(row,ignore_index=True)\n",
    "print(cos_id_acc)\n",
    "\n",
    "\n",
    "cor_id_acc = pd.DataFrame(columns=['ethnicity','accuracy'])\n",
    "for ethnicity in cor_identification.candidate_ethnicity.unique():\n",
    "    eth_cor = cor_identification.loc[cor_identification.candidate_ethnicity == ethnicity]\n",
    "    accuracy = sum(eth_cor.match)/len(eth_cor)\n",
    "    #print(len(eth_cos))\n",
    "    row = {'ethnicity': ethnicity,\n",
    "            'accuracy': accuracy}\n",
    "\n",
    "    cor_id_acc = cor_id_acc.append(row,ignore_index=True)\n",
    "cor_id_acc"
   ]
  },
  {
   "cell_type": "code",
   "execution_count": 17,
   "metadata": {},
   "outputs": [
    {
     "data": {
      "application/vnd.jupyter.widget-view+json": {
       "model_id": "2866f00b1f6744a5986331b0c1aa8a00",
       "version_major": 2,
       "version_minor": 0
      },
      "text/plain": [
       "  0%|          | 0/29117 [00:00<?, ?it/s]"
      ]
     },
     "metadata": {},
     "output_type": "display_data"
    },
    {
     "data": {
      "application/vnd.jupyter.widget-view+json": {
       "model_id": "2b014d25e8734189aeb6d42791f14c7e",
       "version_major": 2,
       "version_minor": 0
      },
      "text/plain": [
       "  0%|          | 0/29117 [00:00<?, ?it/s]"
      ]
     },
     "metadata": {},
     "output_type": "display_data"
    },
    {
     "name": "stdout",
     "output_type": "stream",
     "text": [
      "   ethnicity  accuracy\n",
      "0    African  0.385718\n",
      "1      Asian  0.432865\n",
      "2  Caucasian  0.532053\n",
      "3     Indian  0.532201\n"
     ]
    },
    {
     "data": {
      "text/html": [
       "<div>\n",
       "<style scoped>\n",
       "    .dataframe tbody tr th:only-of-type {\n",
       "        vertical-align: middle;\n",
       "    }\n",
       "\n",
       "    .dataframe tbody tr th {\n",
       "        vertical-align: top;\n",
       "    }\n",
       "\n",
       "    .dataframe thead th {\n",
       "        text-align: right;\n",
       "    }\n",
       "</style>\n",
       "<table border=\"1\" class=\"dataframe\">\n",
       "  <thead>\n",
       "    <tr style=\"text-align: right;\">\n",
       "      <th></th>\n",
       "      <th>ethnicity</th>\n",
       "      <th>accuracy</th>\n",
       "    </tr>\n",
       "  </thead>\n",
       "  <tbody>\n",
       "    <tr>\n",
       "      <th>0</th>\n",
       "      <td>African</td>\n",
       "      <td>0.384636</td>\n",
       "    </tr>\n",
       "    <tr>\n",
       "      <th>1</th>\n",
       "      <td>Asian</td>\n",
       "      <td>0.430639</td>\n",
       "    </tr>\n",
       "    <tr>\n",
       "      <th>2</th>\n",
       "      <td>Caucasian</td>\n",
       "      <td>0.532191</td>\n",
       "    </tr>\n",
       "    <tr>\n",
       "      <th>3</th>\n",
       "      <td>Indian</td>\n",
       "      <td>0.528775</td>\n",
       "    </tr>\n",
       "  </tbody>\n",
       "</table>\n",
       "</div>"
      ],
      "text/plain": [
       "   ethnicity  accuracy\n",
       "0    African  0.384636\n",
       "1      Asian  0.430639\n",
       "2  Caucasian  0.532191\n",
       "3     Indian  0.528775"
      ]
     },
     "execution_count": 17,
     "metadata": {},
     "output_type": "execute_result"
    }
   ],
   "source": [
    "reference_outputs = torch.load(\"outputs/RFW/scratch/model/reference2_outputs.pt\")\n",
    "reference_identities = np.load('outputs/RFW/scratch/model/reference2_identities.npy',allow_pickle=True)\n",
    "reference_ethnicities = np.load('outputs/RFW/scratch/model/reference2_ethnicities.npy',allow_pickle=True)\n",
    "reference_faceIDs = np.load('outputs/RFW/scratch/model/reference2_faceIDs.npy',allow_pickle=True)\n",
    "\n",
    "candidate_outputs = torch.load(\"outputs/RFW/scratch/model/candidate2_outputs.pt\")\n",
    "candidate_identities = np.load('outputs/RFW/scratch/model/candidate2_identities.npy',allow_pickle=True)\n",
    "candidate_ethnicities = np.load('outputs/RFW/scratch/model/candidate2_ethnicities.npy',allow_pickle=True)\n",
    "candidate_faceIDs = np.load('outputs/RFW/scratch/model/candidate2_faceIDs.npy',allow_pickle=True)\n",
    "\n",
    "cor = corr2_coeff(reference_outputs,candidate_outputs).cpu().detach().numpy()\n",
    "cos = cos_sim(reference_outputs,candidate_outputs).cpu().detach().numpy()\n",
    "cor_identification = pd.DataFrame(columns=['candidate_identity','candidate_ethnicity','reference_identity'])\n",
    "for i, cor_row in tqdm_notebook(enumerate(cor.T),total=len(cor.T)):\n",
    "    identity = candidate_identities[i]\n",
    "    ethnicity = candidate_ethnicities[i]\n",
    "    max_ref = np.argmax(cor_row)\n",
    "    reference_identity = reference_identities[max_ref]\n",
    "    match = 1 if identity == reference_identity else  0\n",
    "    row = {'candidate_identity': identity,\n",
    "            'candidate_ethnicity': ethnicity, \n",
    "            'reference_identity': reference_identity,\n",
    "            'match': match}\n",
    "\n",
    "    cor_identification = cor_identification.append(row,ignore_index=True)\n",
    "\n",
    "cos_identification = pd.DataFrame(columns=['candidate_identity','candidate_ethnicity','reference_identity'])\n",
    "for i, cos_row in tqdm_notebook(enumerate(cos.T),total=len(cos.T)):\n",
    "    identity = candidate_identities[i]\n",
    "    ethnicity = candidate_ethnicities[i]\n",
    "    max_ref = np.argmax(cos_row)\n",
    "    reference_identity = reference_identities[max_ref]\n",
    "    match = 1 if identity == reference_identity else  0\n",
    "    row = {'candidate_identity': identity,\n",
    "            'candidate_ethnicity': ethnicity, \n",
    "            'reference_identity': reference_identity,\n",
    "            'match': match}\n",
    "\n",
    "    cos_identification = cos_identification.append(row,ignore_index=True)\n",
    "\n",
    "cos_id_acc = pd.DataFrame(columns=['ethnicity','accuracy'])\n",
    "for ethnicity in cos_identification.candidate_ethnicity.unique():\n",
    "    eth_cos = cos_identification.loc[cos_identification.candidate_ethnicity == ethnicity]\n",
    "    accuracy = sum(eth_cos.match)/len(eth_cos)\n",
    "    #print(len(eth_cos))\n",
    "    row = {'ethnicity': ethnicity,\n",
    "            'accuracy': accuracy}\n",
    "\n",
    "    cos_id_acc = cos_id_acc.append(row,ignore_index=True)\n",
    "print(cos_id_acc)\n",
    "\n",
    "\n",
    "cor_id_acc = pd.DataFrame(columns=['ethnicity','accuracy'])\n",
    "for ethnicity in cor_identification.candidate_ethnicity.unique():\n",
    "    eth_cor = cor_identification.loc[cor_identification.candidate_ethnicity == ethnicity]\n",
    "    accuracy = sum(eth_cor.match)/len(eth_cor)\n",
    "    #print(len(eth_cos))\n",
    "    row = {'ethnicity': ethnicity,\n",
    "            'accuracy': accuracy}\n",
    "\n",
    "    cor_id_acc = cor_id_acc.append(row,ignore_index=True)\n",
    "cor_id_acc"
   ]
  },
  {
   "cell_type": "code",
   "execution_count": null,
   "metadata": {},
   "outputs": [],
   "source": []
  }
 ],
 "metadata": {
  "kernelspec": {
   "display_name": "Python 3.9.13 ('mpsEnv')",
   "language": "python",
   "name": "python3"
  },
  "language_info": {
   "codemirror_mode": {
    "name": "ipython",
    "version": 3
   },
   "file_extension": ".py",
   "mimetype": "text/x-python",
   "name": "python",
   "nbconvert_exporter": "python",
   "pygments_lexer": "ipython3",
   "version": "3.9.13"
  },
  "orig_nbformat": 4,
  "vscode": {
   "interpreter": {
    "hash": "dd368a5ef6c8892f6c87c22c8d56888e698af74589d34ad1bd17c3290e3a6a05"
   }
  }
 },
 "nbformat": 4,
 "nbformat_minor": 2
}
